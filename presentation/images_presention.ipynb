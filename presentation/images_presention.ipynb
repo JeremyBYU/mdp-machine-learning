{
 "cells": [
  {
   "cell_type": "code",
   "execution_count": 21,
   "metadata": {},
   "outputs": [],
   "source": [
    "import numpy as np\n",
    "import pandas as pd\n",
    "import seaborn as sns\n",
    "import math\n",
    "from matplotlib import pyplot as plt\n",
    "from sklearn.model_selection import train_test_split\n",
    "from sklearn.metrics import mean_squared_error\n",
    "from string import ascii_letters\n",
    "SEED = 1\n",
    "%matplotlib inline\n",
    "sns.set()"
   ]
  },
  {
   "cell_type": "code",
   "execution_count": 5,
   "metadata": {},
   "outputs": [],
   "source": [
    "X = np.linspace(0, 100, 101)\n",
    "Y = np.poly1d([-1, 0, 2])\n"
   ]
  },
  {
   "cell_type": "code",
   "execution_count": 15,
   "metadata": {},
   "outputs": [],
   "source": [
    "df = sns.load_dataset('iris')\n",
    "d = df"
   ]
  },
  {
   "cell_type": "code",
   "execution_count": 16,
   "metadata": {},
   "outputs": [
    {
     "data": {
      "text/plain": [
       "<matplotlib.axes._subplots.AxesSubplot at 0x27a582ae780>"
      ]
     },
     "execution_count": 16,
     "metadata": {},
     "output_type": "execute_result"
    },
    {
     "data": {
      "image/png": "[encoded data removed]",
      "text/plain": [
       "<Figure size 792x648 with 2 Axes>"
      ]
     },
     "metadata": {},
     "output_type": "display_data"
    }
   ],
   "source": [
    "sns.set(style=\"white\")\n",
    "\n",
    "# Generate a large random dataset\n",
    "rs = np.random.RandomState(33)\n",
    "# d = pd.DataFrame(data=rs.normal(size=(100, 26)),\n",
    "#                  columns=list(ascii_letters[26:]))\n",
    "\n",
    "# Compute the correlation matrix\n",
    "corr = d.corr()\n",
    "\n",
    "# Generate a mask for the upper triangle\n",
    "mask = np.zeros_like(corr, dtype=np.bool)\n",
    "mask[np.triu_indices_from(mask)] = True\n",
    "\n",
    "# Set up the matplotlib figure\n",
    "f, ax = plt.subplots(figsize=(11, 9))\n",
    "\n",
    "# Generate a custom diverging colormap\n",
    "cmap = sns.diverging_palette(220, 10, as_cmap=True)\n",
    "\n",
    "# Draw the heatmap with the mask and correct aspect ratio\n",
    "sns.heatmap(corr, mask=mask, cmap=cmap, vmax=.3, center=0,\n",
    "            square=True, linewidths=.5, cbar_kws={\"shrink\": .5})"
   ]
  },
  {
   "cell_type": "code",
   "execution_count": 28,
   "metadata": {},
   "outputs": [
    {
     "data": {
      "image/png": "[encoded data removed]",
      "text/plain": [
       "<Figure size 432x288 with 1 Axes>"
      ]
     },
     "metadata": {},
     "output_type": "display_data"
    }
   ],
   "source": [
    "NUM_SAMPLES = 100; START = 0; STOP = 10\n",
    "# noise = np.random.RandomState(seed=SEED)\n",
    "\n",
    "def f(a=1, b=2, c=2, sin_m=20):\n",
    "    poly = np.poly1d([c, b, a])\n",
    "    def final(x):\n",
    "        return poly(x) + sin_m * np.sin(x)\n",
    "    return final\n",
    "\n",
    "def evaluate_deg(x_train, y_train, x_test, y_test, deg=1):\n",
    "    params = np.polyfit(x_train, y_train, deg=deg)\n",
    "    poly = np.poly1d(params)\n",
    "    y_train_pred = poly(x_train)\n",
    "    y_test_pred = poly(x_test)\n",
    "    mse_train = mean_squared_error(y_train, y_train_pred)\n",
    "    mse_test = mean_squared_error(y_test, y_test_pred)\n",
    "    return [deg, mse_train, mse_test, poly]\n",
    "\n",
    "def plot_tradeoff(X, Y_noise, f_true, results, sigma):\n",
    "    fig, ax = plt.subplots(figsize=(16, 8),nrows=1, ncols=2)\n",
    "    ax[0].plot(X, Y_noise, '.', label='data')\n",
    "    ax[0].plot(X, f_true(X), '-', label=r'$f(x) = 2x^2 + 2x + 1 + 20sin(x)$')\n",
    "    \n",
    "    degrees = [result[0] for result in results]\n",
    "    mse_train_line = [result[1] for result in results]\n",
    "    mse_test_line = [result[2] for result in results]\n",
    "    ax[1].plot(degrees, mse_train_line, c='red', label='Train')\n",
    "    ax[1].plot(degrees, mse_test_line, c='gray', label='Test')\n",
    "    \n",
    "    ax[1].axhline(sigma**2, linestyle='--', label=r'$\\sigma^2$')\n",
    "    for result in results:\n",
    "        ax[0].plot(X, result[3](X), label=\"Deg {}\".format(result[0]))\n",
    "    ax[0].legend()\n",
    "    ax[1].legend()\n",
    "\n",
    "    ax[0].set_xlabel(\"X\")\n",
    "    ax[0].set_ylabel(\"Y\")\n",
    "    ax[1].set_xlabel(\"Degree\")\n",
    "    ax[1].set_ylabel(\"MSE\")\n",
    "    ax[1].set_ylim(0, 2000)\n",
    "\n",
    "    \n",
    "\n",
    "def set_up(mu=0, sigma=20):\n",
    "    # Data\n",
    "    noise = np.random.RandomState(seed=sigma)\n",
    "    f_true = f()\n",
    "    X = np.linspace(START, STOP, NUM_SAMPLES)\n",
    "    Y = f_true(X)\n",
    "\n",
    "    Y_noise = Y + noise.normal(mu, sigma, NUM_SAMPLES)\n",
    "\n",
    "    x_train, x_test, y_train, y_test = train_test_split(X, Y_noise, test_size=0.50, random_state=SEED)\n",
    "    degrees= [1,2, 5, 10]\n",
    "    results = [evaluate_deg(x_train, y_train, x_test, y_test, deg=deg) for deg in degrees]\n",
    "    \n",
    "    return X, Y_noise, f_true, results\n",
    "\n",
    "def plot_interact(mu=0, sigma=20):\n",
    "    X, Y_noise, f_true, results = set_up(mu, sigma)\n",
    "    plot_tradeoff(X, Y_noise, f_true, results, sigma)\n",
    "    \n",
    "    \n",
    "X, Y_noise, f_true, results = set_up(0, 10)\n",
    "\n",
    "a = plt.plot(X, Y_noise, '.')\n",
    "plt.savefig('assets/regression_plot.png')"
   ]
  }
 ],
 "metadata": {
  "kernelspec": {
   "display_name": "Python 3",
   "language": "python",
   "name": "python3"
  },
  "language_info": {
   "codemirror_mode": {
    "name": "ipython",
    "version": 3
   },
   "file_extension": ".py",
   "mimetype": "text/x-python",
   "name": "python",
   "nbconvert_exporter": "python",
   "pygments_lexer": "ipython3",
   "version": "3.6.8"
  },
  "latex_envs": {
   "LaTeX_envs_menu_present": true,
   "autoclose": false,
   "autocomplete": false,
   "bibliofile": "biblio.bib",
   "cite_by": "apalike",
   "current_citInitial": 1,
   "eqLabelWithNumbers": true,
   "eqNumInitial": 1,
   "hotkeys": {
    "equation": "Ctrl-E",
    "itemize": "Ctrl-I"
   },
   "labels_anchors": false,
   "latex_user_defs": false,
   "report_style_numbering": false,
   "user_envs_cfg": false
  },
  "toc": {
   "base_numbering": 1,
   "nav_menu": {},
   "number_sections": true,
   "sideBar": true,
   "skip_h1_title": false,
   "title_cell": "Table of Contents",
   "title_sidebar": "Contents",
   "toc_cell": false,
   "toc_position": {},
   "toc_section_display": true,
   "toc_window_display": false
  }
 },
 "nbformat": 4,
 "nbformat_minor": 2
}
