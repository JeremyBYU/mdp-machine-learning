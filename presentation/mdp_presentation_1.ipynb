{
 "cells": [
  {
   "cell_type": "code",
   "execution_count": 313,
   "metadata": {
    "slideshow": {
     "slide_type": "skip"
    }
   },
   "outputs": [
    {
     "name": "stderr",
     "output_type": "stream",
     "text": [
      "[nltk_data] Downloading package stopwords to\n",
      "[nltk_data]     C:\\Users\\Jerem\\AppData\\Roaming\\nltk_data...\n",
      "[nltk_data]   Package stopwords is already up-to-date!\n"
     ]
    },
    {
     "data": {
      "text/plain": [
       "True"
      ]
     },
     "execution_count": 313,
     "metadata": {},
     "output_type": "execute_result"
    }
   ],
   "source": [
    "import math\n",
    "import re\n",
    "\n",
    "import numpy as np\n",
    "import pandas as pd\n",
    "import seaborn as sns\n",
    "from matplotlib import pyplot as plt\n",
    "\n",
    "from IPython.core.display import HTML\n",
    "\n",
    "from sklearn import tree\n",
    "from sklearn.feature_extraction.text import TfidfVectorizer\n",
    "from sklearn.preprocessing import LabelEncoder\n",
    "from sklearn.model_selection import learning_curve, StratifiedShuffleSplit, GridSearchCV\n",
    "from sklearn.svm import SVC\n",
    "from sklearn.ensemble import RandomForestClassifier, AdaBoostClassifier\n",
    "from sklearn.model_selection import train_test_split\n",
    "from sklearn.metrics import mean_squared_error, confusion_matrix, classification_report\n",
    "\n",
    "import nltk\n",
    "import graphviz \n",
    "import io\n",
    "\n",
    "from ipywidgets import interact, interactive, fixed, interact_manual\n",
    "import ipywidgets as widgets\n",
    "SEED = 1\n",
    "%matplotlib inline\n",
    "sns.set()\n",
    "sns.set_context(\"talk\", rc={\"lines.linewidth\": 2})\n",
    "\n",
    "# Download stopwords\n",
    "nltk.download('stopwords')\n"
   ]
  },
  {
   "cell_type": "markdown",
   "metadata": {
    "slideshow": {
     "slide_type": "skip"
    },
    "toc": true
   },
   "source": [
    "<h1>Table of Contents<span class=\"tocSkip\"></span></h1>\n",
    "<div class=\"toc\"><ul class=\"toc-item\"><li><span><a href=\"#What-is-Machine-Learning\" data-toc-modified-id=\"What-is-Machine-Learning-1\"><span class=\"toc-item-num\">1&nbsp;&nbsp;</span>What is Machine Learning</a></span><ul class=\"toc-item\"><li><span><a href=\"#Basic-Terms\" data-toc-modified-id=\"Basic-Terms-1.1\"><span class=\"toc-item-num\">1.1&nbsp;&nbsp;</span>Basic Terms</a></span></li><li><span><a href=\"#Assessing-Performance\" data-toc-modified-id=\"Assessing-Performance-1.2\"><span class=\"toc-item-num\">1.2&nbsp;&nbsp;</span>Assessing Performance</a></span></li></ul></li><li><span><a href=\"#Simple-Regression-Model\" data-toc-modified-id=\"Simple-Regression-Model-2\"><span class=\"toc-item-num\">2&nbsp;&nbsp;</span>Simple Regression Model</a></span><ul class=\"toc-item\"><li><span><a href=\"#Bias-vs-Variance\" data-toc-modified-id=\"Bias-vs-Variance-2.1\"><span class=\"toc-item-num\">2.1&nbsp;&nbsp;</span>Bias vs Variance</a></span></li></ul></li><li><span><a href=\"#Simple-Classification-Model\" data-toc-modified-id=\"Simple-Classification-Model-3\"><span class=\"toc-item-num\">3&nbsp;&nbsp;</span>Simple Classification Model</a></span><ul class=\"toc-item\"><li><span><a href=\"#Logistic-Regression\" data-toc-modified-id=\"Logistic-Regression-3.1\"><span class=\"toc-item-num\">3.1&nbsp;&nbsp;</span>Logistic Regression</a></span><ul class=\"toc-item\"><li><span><a href=\"#Logistic-Regression---Binary\" data-toc-modified-id=\"Logistic-Regression---Binary-3.1.1\"><span class=\"toc-item-num\">3.1.1&nbsp;&nbsp;</span>Logistic Regression - Binary</a></span></li><li><span><a href=\"#Logistic-Regression---Multiple-Classes\" data-toc-modified-id=\"Logistic-Regression---Multiple-Classes-3.1.2\"><span class=\"toc-item-num\">3.1.2&nbsp;&nbsp;</span>Logistic Regression - Multiple Classes</a></span></li></ul></li><li><span><a href=\"#Support-Vector-Machines\" data-toc-modified-id=\"Support-Vector-Machines-3.2\"><span class=\"toc-item-num\">3.2&nbsp;&nbsp;</span>Support Vector Machines</a></span><ul class=\"toc-item\"><li><span><a href=\"#Kernel-Trick\" data-toc-modified-id=\"Kernel-Trick-3.2.1\"><span class=\"toc-item-num\">3.2.1&nbsp;&nbsp;</span>Kernel Trick</a></span></li></ul></li><li><span><a href=\"#Decision-Trees\" data-toc-modified-id=\"Decision-Trees-3.3\"><span class=\"toc-item-num\">3.3&nbsp;&nbsp;</span>Decision Trees</a></span><ul class=\"toc-item\"><li><span><a href=\"#Random-Forests\" data-toc-modified-id=\"Random-Forests-3.3.1\"><span class=\"toc-item-num\">3.3.1&nbsp;&nbsp;</span>Random Forests</a></span></li></ul></li><li><span><a href=\"#Results\" data-toc-modified-id=\"Results-3.4\"><span class=\"toc-item-num\">3.4&nbsp;&nbsp;</span>Results</a></span></li></ul></li><li><span><a href=\"#Break\" data-toc-modified-id=\"Break-4\"><span class=\"toc-item-num\">4&nbsp;&nbsp;</span>Break</a></span></li><li><span><a href=\"#Natural-Language-Processing\" data-toc-modified-id=\"Natural-Language-Processing-5\"><span class=\"toc-item-num\">5&nbsp;&nbsp;</span>Natural Language Processing</a></span><ul class=\"toc-item\"><li><span><a href=\"#What-makes-NLP-hard\" data-toc-modified-id=\"What-makes-NLP-hard-5.1\"><span class=\"toc-item-num\">5.1&nbsp;&nbsp;</span>What makes NLP hard</a></span></li><li><span><a href=\"#Basic-Fundamentals-of-NLP\" data-toc-modified-id=\"Basic-Fundamentals-of-NLP-5.2\"><span class=\"toc-item-num\">5.2&nbsp;&nbsp;</span>Basic Fundamentals of NLP</a></span><ul class=\"toc-item\"><li><span><a href=\"#Look-at-Data\" data-toc-modified-id=\"Look-at-Data-5.2.1\"><span class=\"toc-item-num\">5.2.1&nbsp;&nbsp;</span>Look at Data</a></span></li><li><span><a href=\"#Preprocess-Text\" data-toc-modified-id=\"Preprocess-Text-5.2.2\"><span class=\"toc-item-num\">5.2.2&nbsp;&nbsp;</span>Preprocess Text</a></span></li><li><span><a href=\"#Tokenization\" data-toc-modified-id=\"Tokenization-5.2.3\"><span class=\"toc-item-num\">5.2.3&nbsp;&nbsp;</span>Tokenization</a></span></li><li><span><a href=\"#Compute-Term-Frequency-Inverse-document-Frequency-(TF-IDF)\" data-toc-modified-id=\"Compute-Term-Frequency-Inverse-document-Frequency-(TF-IDF)-5.2.4\"><span class=\"toc-item-num\">5.2.4&nbsp;&nbsp;</span>Compute Term Frequency-Inverse document Frequency (TF-IDF)</a></span></li><li><span><a href=\"#Choose-Models-and-fit\" data-toc-modified-id=\"Choose-Models-and-fit-5.2.5\"><span class=\"toc-item-num\">5.2.5&nbsp;&nbsp;</span>Choose Models and fit</a></span></li><li><span><a href=\"#Hyperparamter-Tuning\" data-toc-modified-id=\"Hyperparamter-Tuning-5.2.6\"><span class=\"toc-item-num\">5.2.6&nbsp;&nbsp;</span>Hyperparamter Tuning</a></span></li><li><span><a href=\"#Things-to-improve\" data-toc-modified-id=\"Things-to-improve-5.2.7\"><span class=\"toc-item-num\">5.2.7&nbsp;&nbsp;</span>Things to improve</a></span></li></ul></li><li><span><a href=\"#NLP-Advanced-Feature-Extraction\" data-toc-modified-id=\"NLP-Advanced-Feature-Extraction-5.3\"><span class=\"toc-item-num\">5.3&nbsp;&nbsp;</span>NLP Advanced Feature Extraction</a></span></li></ul></li></ul></div>"
   ]
  },
  {
   "cell_type": "markdown",
   "metadata": {
    "slideshow": {
     "slide_type": "-"
    }
   },
   "source": [
    "# Multidisciplinary Design Program\n",
    "\n",
    "# Fundamentals of Machine Learning \n",
    "\n",
    "<br>\n",
    "<br>\n",
    "<br>\n",
    "\n",
    "Jeremy Castagno\n",
    "\n",
    "01/30/2019"
   ]
  },
  {
   "cell_type": "markdown",
   "metadata": {
    "cell_style": "split",
    "slideshow": {
     "slide_type": "slide"
    }
   },
   "source": [
    "<font size=\"14\">About Me - Jeremy Castagno</font>\n",
    "\n",
    "* 2013 - BSc. in Chemical Engineering at BYU\n",
    "* Industry at Valero Energy Corporation as process control engineer\n",
    "* 2016 – Robotics PhD University of Michigan\n",
    "\n",
    "<center> <img src=\"assets/refinery.jpg\"><center>\n"
   ]
  },
  {
   "cell_type": "markdown",
   "metadata": {
    "cell_style": "split",
    "slideshow": {
     "slide_type": "-"
    }
   },
   "source": [
    "<br>\n",
    "\n",
    "* Topic interests - Artificial Intelligence, Machine Learning, Path Planning, Simulation\n",
    "* Research topic – Unmanned Aerial System (UAS) emergency rooftop landing in urban cities\n",
    "![](assets/airsim.gif)"
   ]
  },
  {
   "cell_type": "markdown",
   "metadata": {
    "slideshow": {
     "slide_type": "slide"
    }
   },
   "source": [
    "## What is Machine Learning\n",
    "\n",
    "* Statistical Learning, Pattern Recognition, Big Data, Data Mining, Expert Systems, Artificial Intelligence (AI), Deep Learning\n",
    "* Definition- Algorithms and Statistical Models to perform a specific task\n",
    "* Broadly speaking there are three categories of ML- **supervised** learning, **unsupervised** learning, and **reinforcement** learning\n",
    "* In this *short* class we will focus only on **supervised** and **unsupervised** learning\n",
    "* In almost all cases there is an <font color='blue'>input</font> (x) and an <font color='green'>output</font> (y) for our system\n",
    "* There is a true $f(x)$ which we seek to approximate with an $\\hat{f}(x)$"
   ]
  },
  {
   "cell_type": "markdown",
   "metadata": {
    "slideshow": {
     "slide_type": "subslide"
    }
   },
   "source": [
    "**MDP Projects**\n",
    "\n",
    "* Analyzes $\\color{blue}{\\text{audio inputs}}$, with a goal of determining factors such as $\\color{green}{\\text{occupants, locations, and state of vehicle}}$\n",
    "* Process the $\\ldots \\color{blue}{\\text{road itself}} \\ldots$ to identify $\\color{green}{\\text{free paths or drivable surfaces}}$\n",
    "* Recognize $\\ldots \\color{blue}{\\text{email}} \\ldots$ and <font color='green'>direct email to appropriate response functions [classification]</font> as well as $\\color{green}{\\text{suggesting a generated response}}$ "
   ]
  },
  {
   "cell_type": "markdown",
   "metadata": {
    "slideshow": {
     "slide_type": "slide"
    }
   },
   "source": [
    "### Basic Terms\n",
    "\n",
    "* Regression vs Classification\n",
    "  * Regression - Output takes continuous valued variables\n",
    "  * Classification - Output determines group membership (class)\n",
    "  * Sometimes the output is **both** - Semantic bounding boxes\n",
    "* Features, predictors, response/independent variables - text email, audio stream, video stream\n",
    "* Classes, labels, ground truth\n",
    "* Deep learning and neural networks\n",
    "  * A cascade of multiple layers processing units\n",
    "  * Each layer(s) may learn different abstractions of the task"
   ]
  },
  {
   "cell_type": "markdown",
   "metadata": {
    "cell_style": "center",
    "slideshow": {
     "slide_type": "subslide"
    }
   },
   "source": [
    "**Supervised Learning**\n",
    "\n",
    "Learning a function that maps an *input* ($X$) to and *output* ($Y$)\n",
    "<center>\n",
    "$\n",
    "Y=f(X)+ \\underbrace{\\epsilon}_{error}$\n",
    "</center>"
   ]
  },
  {
   "cell_type": "markdown",
   "metadata": {
    "cell_style": "split",
    "slideshow": {
     "slide_type": "-"
    }
   },
   "source": [
    "\n",
    "<center>\n",
    "$ \\mathbf{X}=\\overbrace{ \\left( \\begin{array}{cccc}{x_{11}} & {x_{12}} & {\\dots} & {x_{1 p}} \\\\ {x_{21}} & {x_{22}} & {\\dots} & {x_{2 p}} \\\\ {\\vdots} & {\\vdots} & {\\ddots} & {\\vdots} \\\\ {x_{n 1}} & {x_{n 2}} & {\\dots} & {x_{n p}}\\end{array}\\right)}^{Features}$\n",
    "</center>"
   ]
  },
  {
   "cell_type": "markdown",
   "metadata": {
    "cell_style": "split",
    "slideshow": {
     "slide_type": "-"
    }
   },
   "source": [
    "<center>\n",
    "$ \\mathbf{Y}=\\overbrace{\\left( \\begin{array}{c}{y_{1}} \\\\ {y_{2}} \\\\ {\\vdots} \\\\ {y_{n}}\\end{array}\\right)}^{labels} $\n",
    "</center>"
   ]
  },
  {
   "cell_type": "markdown",
   "metadata": {
    "cell_style": "center",
    "slideshow": {
     "slide_type": "subslide"
    }
   },
   "source": [
    "* Main Questions:\n",
    "    * Which predictors are associated with the response?\n",
    "        * Should we preprocess our raw data into features? Text $\\implies$ Vector\n",
    "    * What is the relationship between the response and each predictor?\n",
    "    * What model can be used to estimate f?\n",
    "        * Parametric Functions vs Non Parametric Functions\n",
    "        * Only focus on parametric function in this class"
   ]
  },
  {
   "cell_type": "markdown",
   "metadata": {
    "slideshow": {
     "slide_type": "subslide"
    }
   },
   "source": [
    "* Share an example?\n",
    "* How do we determine relationships?\n",
    "  * Cross Covariance, Plotting\n",
    "![](assets/covariance.png)\n"
   ]
  },
  {
   "cell_type": "markdown",
   "metadata": {
    "slideshow": {
     "slide_type": "slide"
    }
   },
   "source": [
    "### Assessing Performance\n",
    "\n",
    "* Training Set and Test Set - Split 60/40\n",
    "    * Your model should never be trained with the test set\n",
    "* Regression \n",
    "  * Mean Squared Error (MSE) = $ MSE=\\frac{1}{n} \\sum_{i=1}^{n}\\left(y_{i}-\\hat{f}\\left(x_{i}\\right)\\right)^{2} $\n",
    "* Classification\n",
    "  * Training use Logarithmic Loss - $ \\frac{-1}{N} \\sum_{i=1}^{N} \\sum_{j=1}^{M} y_{i j} * \\log \\left(p_{i j}\\right) $\n",
    "  * Final Assessment\n",
    "      * Classification Accuracy = $\\frac{\\text{# of correct pred.}}{\\text{Total # of pred.}}$ \n",
    "      * Confusion Matrix - True Positive, True Negative, False Positives, False Negatives\n"
   ]
  },
  {
   "cell_type": "markdown",
   "metadata": {
    "cell_style": "split",
    "slideshow": {
     "slide_type": "subslide"
    }
   },
   "source": [
    "# ![](assets/Precisionrecall.png) "
   ]
  },
  {
   "cell_type": "markdown",
   "metadata": {
    "cell_style": "split",
    "slideshow": {
     "slide_type": "-"
    }
   },
   "source": [
    "# ![](assets/Precisionrecall2.png) "
   ]
  },
  {
   "cell_type": "markdown",
   "metadata": {
    "slideshow": {
     "slide_type": "-"
    }
   },
   "source": [
    "<center>$ F_{1}=\\left(\\frac{\\text { recall }^{-1}+\\text { precision }^{-1}}{2}\\right)^{-1}=2 \\cdot \\frac{\\text { precision } \\cdot \\text { recall }}{\\text { precision }+\\text { recall }} $</center>"
   ]
  },
  {
   "cell_type": "markdown",
   "metadata": {
    "slideshow": {
     "slide_type": "subslide"
    }
   },
   "source": [
    "* Many others for specific tasks\n",
    "  * Image Bounding Boxes - Intersection of Union (IOU)\n",
    "  * TODO"
   ]
  },
  {
   "cell_type": "markdown",
   "metadata": {
    "slideshow": {
     "slide_type": "subslide"
    }
   },
   "source": [
    "* k-Fold cross validation - Train model on subsets of your training data\n",
    "    * Randomly divide data set into *k* folds of equal size.\n",
    "    * The first fold is treated as a validation set, the remaining *k* - 1 data is trained on\n",
    "    * repeat *k* times\n",
    "    * This results in *k* estimates of validation error\n",
    "    * $ \\mathrm{CV}_{(k)}=\\frac{1}{k} \\sum_{i=1}^{k} \\mathrm{MSE}_{i} $\n",
    "    \n",
    "<center><img src=\"assets/animated_kfolds.gif\" ></center>\n",
    "\n",
    "https://imada.sdu.dk/~marco/Teaching/AY2010-2011/DM825/\n",
    "  \n"
   ]
  },
  {
   "cell_type": "markdown",
   "metadata": {
    "slideshow": {
     "slide_type": "slide"
    }
   },
   "source": [
    "## Simple Regression Model\n",
    "\n",
    "Goals\n",
    "\n",
    "* Understand bias/variance tradeoff\n",
    "* Techniques to prevent overfitting\n",
    " \n"
   ]
  },
  {
   "cell_type": "markdown",
   "metadata": {
    "slideshow": {
     "slide_type": "subslide"
    }
   },
   "source": [
    "<center><font size=10>Question: How would you fit this data?</font>\n",
    "<img src=\"assets/regression_plot.png\"></img>\n",
    "</center>\n"
   ]
  },
  {
   "cell_type": "markdown",
   "metadata": {
    "slideshow": {
     "slide_type": "subslide"
    }
   },
   "source": [
    "### Bias vs Variance\n",
    "\n",
    "$\n",
    "Y=f(X)+ \\underbrace{\\epsilon}_{error}\n",
    "$\n",
    "\n",
    "$\\operatorname{Err}(x)=E\\left[(Y-\\hat{f}(x))^{2}\\right] $\n",
    "\n",
    "$ \\operatorname{Err}(x) = \\underbrace{\\big(E[\\hat{f}(x)]-f(x)\\big)^{2}}_{\\text{Bias}^2}+ \\underbrace{E\\left[(\\hat{f}(x)-E[\\hat{f}(x)])^{2}\\right]}_{\\text{Variance}}+ \\underbrace{\\operatorname{Var}(\\epsilon)}_{\\text{Irreducible Error}} $"
   ]
  },
  {
   "cell_type": "markdown",
   "metadata": {
    "slideshow": {
     "slide_type": "subslide"
    }
   },
   "source": [
    "* Bias indicates a fundamental mismatch between the actual function, $f(x)$, and the estimated function $\\hat{f}(x)$\n",
    "   * Linear model trying to estimate a quadratic function\n",
    "* Variance refers to the amount by which $\\hat{f}$ would change if we estimated it using a different training data set\n",
    "  * Each $\\hat{f}$ would be the same fundamental model, but have different parameters associated with it.\n",
    "  * In a perfect world these different estimates of $\\hat{f}$ would vary very little. \n",
    "  * If a model has high variance, small changes in the training data will make big changes in $\\hat{f}$\n",
    "* $\\operatorname{Var}(\\epsilon)$ is noise in the data and can never be reduced\n",
    "\n",
    "* More flexible the model then variance will increase and the bias will decrease"
   ]
  },
  {
   "cell_type": "code",
   "execution_count": 59,
   "metadata": {
    "slideshow": {
     "slide_type": "skip"
    }
   },
   "outputs": [],
   "source": [
    "NUM_SAMPLES = 100; START = 0; STOP = 10\n",
    "# noise = np.random.RandomState(seed=SEED)\n",
    "\n",
    "def f(a=1, b=2, c=2, sin_m=20):\n",
    "    poly = np.poly1d([c, b, a])\n",
    "    def final(x):\n",
    "        return poly(x) + sin_m * np.sin(x)\n",
    "    return final\n",
    "\n",
    "def evaluate_deg(x_train, y_train, x_test, y_test, deg=1):\n",
    "    params = np.polyfit(x_train, y_train, deg=deg)\n",
    "    poly = np.poly1d(params)\n",
    "    y_train_pred = poly(x_train)\n",
    "    y_test_pred = poly(x_test)\n",
    "    mse_train = mean_squared_error(y_train, y_train_pred)\n",
    "    mse_test = mean_squared_error(y_test, y_test_pred)\n",
    "    return [deg, mse_train, mse_test, poly]\n",
    "\n",
    "def plot_tradeoff(X, Y_noise, f_true, results, sigma):\n",
    "    fig, ax = plt.subplots(figsize=(16, 8),nrows=1, ncols=2)\n",
    "    ax[0].plot(X, Y_noise, '.', label='data')\n",
    "    ax[0].plot(X, f_true(X), '-', label=r'$f(x) = 2x^2 + 2x + 1 + 20sin(x)$')\n",
    "    \n",
    "    degrees = [result[0] for result in results]\n",
    "    mse_train_line = [result[1] for result in results]\n",
    "    mse_test_line = [result[2] for result in results]\n",
    "    ax[1].plot(degrees, mse_train_line, c='red', label='Train')\n",
    "    ax[1].plot(degrees, mse_test_line, c='gray', label='Test')\n",
    "    \n",
    "    ax[1].axhline(sigma**2, linestyle='--', label=r'$\\sigma^2$')\n",
    "    for result in results:\n",
    "        ax[0].plot(X, result[3](X), label=\"Deg {}\".format(result[0]))\n",
    "    ax[0].legend()\n",
    "    ax[1].legend()\n",
    "\n",
    "    ax[0].set_xlabel(\"X\")\n",
    "    ax[0].set_ylabel(\"Y\")\n",
    "    ax[1].set_xlabel(\"Degree\")\n",
    "    ax[1].set_ylabel(\"MSE\")\n",
    "    ax[1].set_ylim(0, 2000)\n",
    "\n",
    "    \n",
    "\n",
    "def set_up(mu=0, sigma=20, num_samples=NUM_SAMPLES):\n",
    "    # Data\n",
    "    noise = np.random.RandomState(seed=sigma)\n",
    "    f_true = f()\n",
    "    X = np.linspace(START, STOP, num_samples)\n",
    "    Y = f_true(X)\n",
    "\n",
    "    Y_noise = Y + noise.normal(mu, sigma, num_samples)\n",
    "\n",
    "    x_train, x_test, y_train, y_test = train_test_split(X, Y_noise, test_size=0.50, random_state=SEED)\n",
    "    degrees= [1,2, 5, 10]\n",
    "    results = [evaluate_deg(x_train, y_train, x_test, y_test, deg=deg) for deg in degrees]\n",
    "    \n",
    "    return X, Y_noise, f_true, results\n",
    "\n",
    "def plot_interact(mu=0, sigma=20, num_samples=NUM_SAMPLES):\n",
    "    X, Y_noise, f_true, results = set_up(mu, sigma, num_samples)\n",
    "    plot_tradeoff(X, Y_noise, f_true, results, sigma)\n",
    "\n"
   ]
  },
  {
   "cell_type": "code",
   "execution_count": 60,
   "metadata": {
    "slideshow": {
     "slide_type": "subslide"
    }
   },
   "outputs": [
    {
     "data": {
      "application/vnd.jupyter.widget-view+json": {
       "model_id": "2a4cc765153c407e98f482e2b4376b13",
       "version_major": 2,
       "version_minor": 0
      },
      "text/plain": [
       "interactive(children=(IntSlider(value=20, description='sigma', max=30, step=5), IntSlider(value=100, descripti…"
      ]
     },
     "metadata": {},
     "output_type": "display_data"
    }
   ],
   "source": [
    "interact(plot_interact,  mu=fixed(0), sigma=widgets.IntSlider(min=0,max=30,step=5,value=20), \n",
    "         num_samples=widgets.IntSlider(min=100,max=500,step=200,value=100));"
   ]
  },
  {
   "cell_type": "markdown",
   "metadata": {
    "slideshow": {
     "slide_type": "slide"
    }
   },
   "source": [
    "## Simple Classification Model\n",
    "\n",
    "* Iris dataset - https://archive.ics.uci.edu/ml/datasets/Iris\n",
    "* Features - Sepal Length, Sepal Width, Petal Length, Petal Width\n",
    "* Output - Class prediction (Setosa, Veriscolor, Virginica)\n",
    "<center><img src=\"assets/iris-pictures.png\"> </img> </center>\n",
    "\n",
    "Image - https://www.datacamp.com/community/tutorials/machine-learning-in-r"
   ]
  },
  {
   "cell_type": "markdown",
   "metadata": {
    "slideshow": {
     "slide_type": "subslide"
    }
   },
   "source": [
    "View of the Data"
   ]
  },
  {
   "cell_type": "code",
   "execution_count": 49,
   "metadata": {
    "slideshow": {
     "slide_type": "skip"
    }
   },
   "outputs": [],
   "source": [
    "df_iris = sns.load_dataset('iris')\n",
    "iris = pd.melt(df_iris, \"species\", var_name=\"measurement\")\n"
   ]
  },
  {
   "cell_type": "code",
   "execution_count": 50,
   "metadata": {
    "cell_style": "split",
    "slideshow": {
     "slide_type": "-"
    }
   },
   "outputs": [
    {
     "data": {
      "text/html": [
       "<table border=\"1\" class=\"dataframe\">\n",
       "  <thead>\n",
       "    <tr style=\"text-align: right;\">\n",
       "      <th>sepal_length</th>\n",
       "      <th>sepal_width</th>\n",
       "      <th>petal_length</th>\n",
       "      <th>petal_width</th>\n",
       "      <th>species</th>\n",
       "    </tr>\n",
       "  </thead>\n",
       "  <tbody>\n",
       "    <tr>\n",
       "      <td>5.1</td>\n",
       "      <td>3.5</td>\n",
       "      <td>1.4</td>\n",
       "      <td>0.2</td>\n",
       "      <td>setosa</td>\n",
       "    </tr>\n",
       "    <tr>\n",
       "      <td>4.9</td>\n",
       "      <td>3.0</td>\n",
       "      <td>1.4</td>\n",
       "      <td>0.2</td>\n",
       "      <td>setosa</td>\n",
       "    </tr>\n",
       "    <tr>\n",
       "      <td>4.7</td>\n",
       "      <td>3.2</td>\n",
       "      <td>1.3</td>\n",
       "      <td>0.2</td>\n",
       "      <td>setosa</td>\n",
       "    </tr>\n",
       "    <tr>\n",
       "      <td>4.6</td>\n",
       "      <td>3.1</td>\n",
       "      <td>1.5</td>\n",
       "      <td>0.2</td>\n",
       "      <td>setosa</td>\n",
       "    </tr>\n",
       "    <tr>\n",
       "      <td>5.0</td>\n",
       "      <td>3.6</td>\n",
       "      <td>1.4</td>\n",
       "      <td>0.2</td>\n",
       "      <td>setosa</td>\n",
       "    </tr>\n",
       "  </tbody>\n",
       "</table>"
      ],
      "text/plain": [
       "<IPython.core.display.HTML object>"
      ]
     },
     "metadata": {},
     "output_type": "display_data"
    }
   ],
   "source": [
    "df_iris = sns.load_dataset('iris')\n",
    "display(HTML(df_iris.head().to_html(index=False)))"
   ]
  },
  {
   "cell_type": "code",
   "execution_count": 51,
   "metadata": {
    "cell_style": "split",
    "slideshow": {
     "slide_type": "-"
    }
   },
   "outputs": [
    {
     "data": {
      "text/plain": [
       "<matplotlib.axes._subplots.AxesSubplot at 0x28df6447c88>"
      ]
     },
     "execution_count": 51,
     "metadata": {},
     "output_type": "execute_result"
    },
    {
     "data": {
      "image/png": "[encoded data removed]",
      "text/plain": [
       "<Figure size 720x576 with 1 Axes>"
      ]
     },
     "metadata": {},
     "output_type": "display_data"
    }
   ],
   "source": [
    "fig, ax = plt.subplots(figsize=(10,8), nrows=1, ncols=1)\n",
    "sns.swarmplot(x=\"measurement\", y=\"value\", hue=\"species\",\n",
    "              palette=[\"r\", \"c\", \"y\"], data=iris, ax=ax)"
   ]
  },
  {
   "cell_type": "markdown",
   "metadata": {
    "slideshow": {
     "slide_type": "subslide"
    }
   },
   "source": [
    "What are common techniques for separating classes?"
   ]
  },
  {
   "cell_type": "markdown",
   "metadata": {
    "slideshow": {
     "slide_type": "subslide"
    }
   },
   "source": [
    "* Linear Regression? No!"
   ]
  },
  {
   "cell_type": "markdown",
   "metadata": {
    "slideshow": {
     "slide_type": "fragment"
    }
   },
   "source": [
    "* Predict a number between 0-2\n",
    "\n",
    "| Species    | Encoding |\n",
    "|------------|----------|\n",
    "| Setosa     | 0        |\n",
    "| Veriscolor | 1        |\n",
    "| Virginica  | 2        |\n",
    "\n",
    "* Whats wrong with this?"
   ]
  },
  {
   "cell_type": "markdown",
   "metadata": {
    "slideshow": {
     "slide_type": "fragment"
    }
   },
   "source": [
    "* It creates an **ordering** to the classes. The regression learns that *Virginica* is \"closer\" to *Verisicolor* than *Setosa*.\n",
    "* Often this ordering is **not** what we want"
   ]
  },
  {
   "cell_type": "markdown",
   "metadata": {
    "slideshow": {
     "slide_type": "subslide"
    }
   },
   "source": [
    "* One Hot Encoding to the rescue!\n",
    "* Turn $C$ classes into an **array** of size $C$\n",
    "\n",
    "| y       | Sertosa | Versicolor | Virginica |\n",
    "|---------|---------|------------|-----------|\n",
    "| Label 1 | 1       | 0          | 0         |\n",
    "| Label 2 | 0       | 1          | 0         |\n",
    "| Label 3 | 0       | 0          | 1         |\n",
    "\n",
    "* Our model should learn to match this vector\n",
    "* Model output is a probability distribution $\\begin{pmatrix}.90 & .05 & .05 \\end{pmatrix}$\n",
    "* If you only have two classes (binary) use one number to represent probability of both classes."
   ]
  },
  {
   "cell_type": "markdown",
   "metadata": {
    "slideshow": {
     "slide_type": "subslide"
    }
   },
   "source": [
    "**Techniques we will learn**\n",
    "* Logistic Regression \n",
    "* Support Vector Machines\n",
    "* Random Forest\n",
    "\n",
    "**Techniques you should research later**\n",
    "* XGBoost"
   ]
  },
  {
   "cell_type": "markdown",
   "metadata": {
    "slideshow": {
     "slide_type": "slide"
    }
   },
   "source": [
    "### Logistic Regression "
   ]
  },
  {
   "cell_type": "markdown",
   "metadata": {
    "cell_style": "split",
    "slideshow": {
     "slide_type": "subslide"
    }
   },
   "source": [
    "#### Logistic Regression - Binary\n",
    "\n",
    "**Binary Case** (0 or 1)\n",
    "\n",
    "* $x$ is our feature vector: [Sepal Len, etc..]\n",
    "* $w$ is a parameter vector. $w_0 x_0 + w_1 x_1 + ... + b$\n",
    "* $\\sigma(z)=\\frac{1}{1+e^{-z}}$\n",
    "![](assets/sigmoid.png)\n"
   ]
  },
  {
   "cell_type": "markdown",
   "metadata": {
    "cell_style": "split",
    "slideshow": {
     "slide_type": "-"
    }
   },
   "source": [
    "\\begin{aligned}\n",
    "z=w^{T} x+b \\\\\n",
    "p(y=1)=\\sigma(z)=\\sigma\\left(z\\right) \\\\\n",
    "z=\\log \\frac{p(y=1)}{1-p(y=1)} \\\\\n",
    "\\end{aligned}\n",
    "\n",
    "\\begin{aligned} \\operatorname{loss} &=-y \\log (\\sigma(z))-(1-y) \\log (1-\\sigma(z)) \\\\ &=\\left\\{\\begin{array}{ll}{-\\log (1-\\sigma(z))} & {y=0} \\\\ {-\\log (\\sigma(z))} & {y=1}\\end{array}\\right. \\end{aligned}\n",
    "\n",
    "Minimize the loss by manipulating *w*. Use a solver!"
   ]
  },
  {
   "cell_type": "markdown",
   "metadata": {
    "slideshow": {
     "slide_type": "subslide"
    }
   },
   "source": [
    "#### Logistic Regression - Multiple Classes\n",
    "\n",
    "* Assume we have $C$ classes\n",
    "* One vs all\n",
    "  * Separately train $C$ *binary* classifiers\n",
    "  * Select the one with the highest probability\n",
    "* Multinomial Logistic Regression\n",
    "  * Use one hot encoding.\n",
    "  * Train all classifiers together, minimizing their combined loss"
   ]
  },
  {
   "cell_type": "markdown",
   "metadata": {
    "slideshow": {
     "slide_type": "slide"
    }
   },
   "source": [
    "### Support Vector Machines "
   ]
  },
  {
   "cell_type": "markdown",
   "metadata": {
    "cell_style": "split",
    "slideshow": {
     "slide_type": "subslide"
    }
   },
   "source": [
    "* SVM's separate binary classes through a linear separating hyperplane\n",
    "* The plane is constructed by solving a global optimization problem \n",
    "* Maximize the margin $M$ while minimizing misclassified values\n",
    "* Most data can **not** be separated *completely*, so a tuning parameter, $C$ is used to specify the *slack* "
   ]
  },
  {
   "cell_type": "markdown",
   "metadata": {
    "cell_style": "split",
    "slideshow": {
     "slide_type": "-"
    }
   },
   "source": [
    "![](assets/svm-simple-example.png)"
   ]
  },
  {
   "cell_type": "markdown",
   "metadata": {
    "cell_style": "center",
    "slideshow": {
     "slide_type": "subslide"
    }
   },
   "source": [
    "#### Kernel Trick\n",
    "\n",
    "* Separation is done by computing dot products between features\n",
    "* Some data is not linearly separable from the provided features\n",
    "* Map your feature spaces to higher dimensions, $\\Phi(X)$\n",
    "* $K(P(x1,y1),P(x2,y2)) = x_{1}^{2} x_{2}^{2}+y_{1}^{2} y_{2}^{2}+2 x_{1} y_{1} * x_{2} y_{2} $\n",
    "* $ x_{1}^{2} x_{2}^{2}+y_{1}^{2} y_{2}^{2}+2 x_{1} y_{1} * x_{2} y_{2}  = <\\left(x_{1}^{2}, y_{1}^{2}, \\sqrt{2 x_{1} y_{1}}\\right),\\left(x_{2}^{2}, y_{2}^{2}, \\sqrt{2 x_{2} y_{2}}\\right)> $"
   ]
  },
  {
   "cell_type": "markdown",
   "metadata": {
    "slideshow": {
     "slide_type": "subslide"
    }
   },
   "source": [
    "\n",
    "<center><img src=\"assets/svm-vis.png\"> </img> </center>"
   ]
  },
  {
   "cell_type": "markdown",
   "metadata": {
    "slideshow": {
     "slide_type": "slide"
    }
   },
   "source": [
    "### Decision Trees"
   ]
  },
  {
   "cell_type": "markdown",
   "metadata": {
    "cell_style": "split",
    "slideshow": {
     "slide_type": "subslide"
    }
   },
   "source": [
    "* A decision tree is drawn upside down with its root at the top. \n",
    "* Leaves represent class labels and branches represent conjunctions of features that predict class labels\n",
    "* Construction - choose a feature at each step that best splits the set of items\n",
    "    * Entropy\n",
    "    * Gini\n",
    "* Repeat this process until all training data is split"
   ]
  },
  {
   "cell_type": "markdown",
   "metadata": {
    "cell_style": "split",
    "slideshow": {
     "slide_type": "-"
    }
   },
   "source": [
    "![](assets/example_decision_tree.png)"
   ]
  },
  {
   "cell_type": "markdown",
   "metadata": {
    "slideshow": {
     "slide_type": "notes"
    }
   },
   "source": [
    "* How are splits done on continous values?\n",
    "    * In order to come up with a split point, the values are sorted, and the mid-points between adjacent values are evaluated in terms of some metric, usually information gain or gini impurity. For your example, lets say we have four examples and the values of the age variable are (20,29,40,50). The midpoints between the values (24.5,34.5,45) are evaluated, and whichever split gives the best information gain (or whatever metric you're using) on the training data is used. - https://datascience.stackexchange.com/questions/24339/how-is-a-splitting-point-chosen-for-continuous-variables-in-decision-trees\n",
    "    "
   ]
  },
  {
   "cell_type": "code",
   "execution_count": 52,
   "metadata": {
    "slideshow": {
     "slide_type": "skip"
    }
   },
   "outputs": [],
   "source": [
    "clf = tree.DecisionTreeClassifier()\n",
    "clf = clf.fit(df_iris.iloc[:,0:4].values, df_iris.iloc[:,4].values)\n",
    "\n",
    "dot_data = tree.export_graphviz(clf, out_file=None, class_names=clf.classes_, feature_names=df_iris.columns.values[:-1]) \n",
    "graph = graphviz.Source(dot_data) "
   ]
  },
  {
   "cell_type": "code",
   "execution_count": 53,
   "metadata": {
    "scrolled": false,
    "slideshow": {
     "slide_type": "subslide"
    }
   },
   "outputs": [
    {
     "data": {
      "image/svg+xml": [
       "<?xml version=\"1.0\" encoding=\"UTF-8\" standalone=\"no\"?>\r\n",
       "<!DOCTYPE svg PUBLIC \"-//W3C//DTD SVG 1.1//EN\"\r\n",
       " \"http://www.w3.org/Graphics/SVG/1.1/DTD/svg11.dtd\">\r\n",
       "<!-- Generated by graphviz version 2.38.0 (20140413.2041)\r\n",
       " -->\r\n",
       "<!-- Title: Tree Pages: 1 -->\r\n",
       "<svg width=\"788pt\" height=\"671pt\"\r\n",
       " viewBox=\"0.00 0.00 788.00 671.00\" xmlns=\"http://www.w3.org/2000/svg\" xmlns:xlink=\"http://www.w3.org/1999/xlink\">\r\n",
       "<g id=\"graph0\" class=\"graph\" transform=\"scale(1 1) rotate(0) translate(4 667)\">\r\n",
       "<title>Tree</title>\r\n",
       "<polygon fill=\"white\" stroke=\"none\" points=\"-4,4 -4,-667 784,-667 784,4 -4,4\"/>\r\n",
       "<!-- 0 -->\r\n",
       "<g id=\"node1\" class=\"node\"><title>0</title>\r\n",
       "<polygon fill=\"none\" stroke=\"black\" points=\"479.5,-663 354.5,-663 354.5,-580 479.5,-580 479.5,-663\"/>\r\n",
       "<text text-anchor=\"middle\" x=\"417\" y=\"-647.8\" font-family=\"Times New Roman,serif\" font-size=\"14.00\">petal_width &lt;= 0.8</text>\r\n",
       "<text text-anchor=\"middle\" x=\"417\" y=\"-632.8\" font-family=\"Times New Roman,serif\" font-size=\"14.00\">gini = 0.667</text>\r\n",
       "<text text-anchor=\"middle\" x=\"417\" y=\"-617.8\" font-family=\"Times New Roman,serif\" font-size=\"14.00\">samples = 150</text>\r\n",
       "<text text-anchor=\"middle\" x=\"417\" y=\"-602.8\" font-family=\"Times New Roman,serif\" font-size=\"14.00\">value = [50, 50, 50]</text>\r\n",
       "<text text-anchor=\"middle\" x=\"417\" y=\"-587.8\" font-family=\"Times New Roman,serif\" font-size=\"14.00\">class = setosa</text>\r\n",
       "</g>\r\n",
       "<!-- 1 -->\r\n",
       "<g id=\"node2\" class=\"node\"><title>1</title>\r\n",
       "<polygon fill=\"none\" stroke=\"black\" points=\"404,-536.5 292,-536.5 292,-468.5 404,-468.5 404,-536.5\"/>\r\n",
       "<text text-anchor=\"middle\" x=\"348\" y=\"-521.3\" font-family=\"Times New Roman,serif\" font-size=\"14.00\">gini = 0.0</text>\r\n",
       "<text text-anchor=\"middle\" x=\"348\" y=\"-506.3\" font-family=\"Times New Roman,serif\" font-size=\"14.00\">samples = 50</text>\r\n",
       "<text text-anchor=\"middle\" x=\"348\" y=\"-491.3\" font-family=\"Times New Roman,serif\" font-size=\"14.00\">value = [50, 0, 0]</text>\r\n",
       "<text text-anchor=\"middle\" x=\"348\" y=\"-476.3\" font-family=\"Times New Roman,serif\" font-size=\"14.00\">class = setosa</text>\r\n",
       "</g>\r\n",
       "<!-- 0&#45;&gt;1 -->\r\n",
       "<g id=\"edge1\" class=\"edge\"><title>0&#45;&gt;1</title>\r\n",
       "<path fill=\"none\" stroke=\"black\" d=\"M393.061,-579.907C386.488,-568.763 379.35,-556.658 372.733,-545.439\"/>\r\n",
       "<polygon fill=\"black\" stroke=\"black\" points=\"375.655,-543.503 367.56,-536.667 369.625,-547.059 375.655,-543.503\"/>\r\n",
       "<text text-anchor=\"middle\" x=\"361.313\" y=\"-557.174\" font-family=\"Times New Roman,serif\" font-size=\"14.00\">True</text>\r\n",
       "</g>\r\n",
       "<!-- 2 -->\r\n",
       "<g id=\"node3\" class=\"node\"><title>2</title>\r\n",
       "<polygon fill=\"none\" stroke=\"black\" points=\"551.5,-544 422.5,-544 422.5,-461 551.5,-461 551.5,-544\"/>\r\n",
       "<text text-anchor=\"middle\" x=\"487\" y=\"-528.8\" font-family=\"Times New Roman,serif\" font-size=\"14.00\">petal_width &lt;= 1.75</text>\r\n",
       "<text text-anchor=\"middle\" x=\"487\" y=\"-513.8\" font-family=\"Times New Roman,serif\" font-size=\"14.00\">gini = 0.5</text>\r\n",
       "<text text-anchor=\"middle\" x=\"487\" y=\"-498.8\" font-family=\"Times New Roman,serif\" font-size=\"14.00\">samples = 100</text>\r\n",
       "<text text-anchor=\"middle\" x=\"487\" y=\"-483.8\" font-family=\"Times New Roman,serif\" font-size=\"14.00\">value = [0, 50, 50]</text>\r\n",
       "<text text-anchor=\"middle\" x=\"487\" y=\"-468.8\" font-family=\"Times New Roman,serif\" font-size=\"14.00\">class = versicolor</text>\r\n",
       "</g>\r\n",
       "<!-- 0&#45;&gt;2 -->\r\n",
       "<g id=\"edge2\" class=\"edge\"><title>0&#45;&gt;2</title>\r\n",
       "<path fill=\"none\" stroke=\"black\" d=\"M441.286,-579.907C446.553,-571.105 452.178,-561.703 457.617,-552.612\"/>\r\n",
       "<polygon fill=\"black\" stroke=\"black\" points=\"460.626,-554.399 462.757,-544.021 454.619,-550.805 460.626,-554.399\"/>\r\n",
       "<text text-anchor=\"middle\" x=\"468.851\" y=\"-564.567\" font-family=\"Times New Roman,serif\" font-size=\"14.00\">False</text>\r\n",
       "</g>\r\n",
       "<!-- 3 -->\r\n",
       "<g id=\"node4\" class=\"node\"><title>3</title>\r\n",
       "<polygon fill=\"none\" stroke=\"black\" points=\"452.5,-425 321.5,-425 321.5,-342 452.5,-342 452.5,-425\"/>\r\n",
       "<text text-anchor=\"middle\" x=\"387\" y=\"-409.8\" font-family=\"Times New Roman,serif\" font-size=\"14.00\">petal_length &lt;= 4.95</text>\r\n",
       "<text text-anchor=\"middle\" x=\"387\" y=\"-394.8\" font-family=\"Times New Roman,serif\" font-size=\"14.00\">gini = 0.168</text>\r\n",
       "<text text-anchor=\"middle\" x=\"387\" y=\"-379.8\" font-family=\"Times New Roman,serif\" font-size=\"14.00\">samples = 54</text>\r\n",
       "<text text-anchor=\"middle\" x=\"387\" y=\"-364.8\" font-family=\"Times New Roman,serif\" font-size=\"14.00\">value = [0, 49, 5]</text>\r\n",
       "<text text-anchor=\"middle\" x=\"387\" y=\"-349.8\" font-family=\"Times New Roman,serif\" font-size=\"14.00\">class = versicolor</text>\r\n",
       "</g>\r\n",
       "<!-- 2&#45;&gt;3 -->\r\n",
       "<g id=\"edge3\" class=\"edge\"><title>2&#45;&gt;3</title>\r\n",
       "<path fill=\"none\" stroke=\"black\" d=\"M452.305,-460.907C444.549,-451.832 436.249,-442.121 428.256,-432.769\"/>\r\n",
       "<polygon fill=\"black\" stroke=\"black\" points=\"430.791,-430.349 421.633,-425.021 425.47,-434.897 430.791,-430.349\"/>\r\n",
       "</g>\r\n",
       "<!-- 12 -->\r\n",
       "<g id=\"node13\" class=\"node\"><title>12</title>\r\n",
       "<polygon fill=\"none\" stroke=\"black\" points=\"652.5,-425 521.5,-425 521.5,-342 652.5,-342 652.5,-425\"/>\r\n",
       "<text text-anchor=\"middle\" x=\"587\" y=\"-409.8\" font-family=\"Times New Roman,serif\" font-size=\"14.00\">petal_length &lt;= 4.85</text>\r\n",
       "<text text-anchor=\"middle\" x=\"587\" y=\"-394.8\" font-family=\"Times New Roman,serif\" font-size=\"14.00\">gini = 0.043</text>\r\n",
       "<text text-anchor=\"middle\" x=\"587\" y=\"-379.8\" font-family=\"Times New Roman,serif\" font-size=\"14.00\">samples = 46</text>\r\n",
       "<text text-anchor=\"middle\" x=\"587\" y=\"-364.8\" font-family=\"Times New Roman,serif\" font-size=\"14.00\">value = [0, 1, 45]</text>\r\n",
       "<text text-anchor=\"middle\" x=\"587\" y=\"-349.8\" font-family=\"Times New Roman,serif\" font-size=\"14.00\">class = virginica</text>\r\n",
       "</g>\r\n",
       "<!-- 2&#45;&gt;12 -->\r\n",
       "<g id=\"edge12\" class=\"edge\"><title>2&#45;&gt;12</title>\r\n",
       "<path fill=\"none\" stroke=\"black\" d=\"M521.695,-460.907C529.451,-451.832 537.751,-442.121 545.744,-432.769\"/>\r\n",
       "<polygon fill=\"black\" stroke=\"black\" points=\"548.53,-434.897 552.367,-425.021 543.209,-430.349 548.53,-434.897\"/>\r\n",
       "</g>\r\n",
       "<!-- 4 -->\r\n",
       "<g id=\"node5\" class=\"node\"><title>4</title>\r\n",
       "<polygon fill=\"none\" stroke=\"black\" points=\"252.5,-306 123.5,-306 123.5,-223 252.5,-223 252.5,-306\"/>\r\n",
       "<text text-anchor=\"middle\" x=\"188\" y=\"-290.8\" font-family=\"Times New Roman,serif\" font-size=\"14.00\">petal_width &lt;= 1.65</text>\r\n",
       "<text text-anchor=\"middle\" x=\"188\" y=\"-275.8\" font-family=\"Times New Roman,serif\" font-size=\"14.00\">gini = 0.041</text>\r\n",
       "<text text-anchor=\"middle\" x=\"188\" y=\"-260.8\" font-family=\"Times New Roman,serif\" font-size=\"14.00\">samples = 48</text>\r\n",
       "<text text-anchor=\"middle\" x=\"188\" y=\"-245.8\" font-family=\"Times New Roman,serif\" font-size=\"14.00\">value = [0, 47, 1]</text>\r\n",
       "<text text-anchor=\"middle\" x=\"188\" y=\"-230.8\" font-family=\"Times New Roman,serif\" font-size=\"14.00\">class = versicolor</text>\r\n",
       "</g>\r\n",
       "<!-- 3&#45;&gt;4 -->\r\n",
       "<g id=\"edge4\" class=\"edge\"><title>3&#45;&gt;4</title>\r\n",
       "<path fill=\"none\" stroke=\"black\" d=\"M321.288,-343.866C302.058,-332.559 280.917,-320.129 261.249,-308.566\"/>\r\n",
       "<polygon fill=\"black\" stroke=\"black\" points=\"263.02,-305.547 252.626,-303.496 259.472,-311.582 263.02,-305.547\"/>\r\n",
       "</g>\r\n",
       "<!-- 7 -->\r\n",
       "<g id=\"node8\" class=\"node\"><title>7</title>\r\n",
       "<polygon fill=\"none\" stroke=\"black\" points=\"451.5,-306 322.5,-306 322.5,-223 451.5,-223 451.5,-306\"/>\r\n",
       "<text text-anchor=\"middle\" x=\"387\" y=\"-290.8\" font-family=\"Times New Roman,serif\" font-size=\"14.00\">petal_width &lt;= 1.55</text>\r\n",
       "<text text-anchor=\"middle\" x=\"387\" y=\"-275.8\" font-family=\"Times New Roman,serif\" font-size=\"14.00\">gini = 0.444</text>\r\n",
       "<text text-anchor=\"middle\" x=\"387\" y=\"-260.8\" font-family=\"Times New Roman,serif\" font-size=\"14.00\">samples = 6</text>\r\n",
       "<text text-anchor=\"middle\" x=\"387\" y=\"-245.8\" font-family=\"Times New Roman,serif\" font-size=\"14.00\">value = [0, 2, 4]</text>\r\n",
       "<text text-anchor=\"middle\" x=\"387\" y=\"-230.8\" font-family=\"Times New Roman,serif\" font-size=\"14.00\">class = virginica</text>\r\n",
       "</g>\r\n",
       "<!-- 3&#45;&gt;7 -->\r\n",
       "<g id=\"edge7\" class=\"edge\"><title>3&#45;&gt;7</title>\r\n",
       "<path fill=\"none\" stroke=\"black\" d=\"M387,-341.907C387,-333.649 387,-324.864 387,-316.302\"/>\r\n",
       "<polygon fill=\"black\" stroke=\"black\" points=\"390.5,-316.021 387,-306.021 383.5,-316.021 390.5,-316.021\"/>\r\n",
       "</g>\r\n",
       "<!-- 5 -->\r\n",
       "<g id=\"node6\" class=\"node\"><title>5</title>\r\n",
       "<polygon fill=\"none\" stroke=\"black\" points=\"116,-179.5 0,-179.5 0,-111.5 116,-111.5 116,-179.5\"/>\r\n",
       "<text text-anchor=\"middle\" x=\"58\" y=\"-164.3\" font-family=\"Times New Roman,serif\" font-size=\"14.00\">gini = 0.0</text>\r\n",
       "<text text-anchor=\"middle\" x=\"58\" y=\"-149.3\" font-family=\"Times New Roman,serif\" font-size=\"14.00\">samples = 47</text>\r\n",
       "<text text-anchor=\"middle\" x=\"58\" y=\"-134.3\" font-family=\"Times New Roman,serif\" font-size=\"14.00\">value = [0, 47, 0]</text>\r\n",
       "<text text-anchor=\"middle\" x=\"58\" y=\"-119.3\" font-family=\"Times New Roman,serif\" font-size=\"14.00\">class = versicolor</text>\r\n",
       "</g>\r\n",
       "<!-- 4&#45;&gt;5 -->\r\n",
       "<g id=\"edge5\" class=\"edge\"><title>4&#45;&gt;5</title>\r\n",
       "<path fill=\"none\" stroke=\"black\" d=\"M142.897,-222.907C129.778,-211.101 115.463,-198.217 102.388,-186.45\"/>\r\n",
       "<polygon fill=\"black\" stroke=\"black\" points=\"104.627,-183.755 94.8522,-179.667 99.9437,-188.958 104.627,-183.755\"/>\r\n",
       "</g>\r\n",
       "<!-- 6 -->\r\n",
       "<g id=\"node7\" class=\"node\"><title>6</title>\r\n",
       "<polygon fill=\"none\" stroke=\"black\" points=\"241.5,-179.5 134.5,-179.5 134.5,-111.5 241.5,-111.5 241.5,-179.5\"/>\r\n",
       "<text text-anchor=\"middle\" x=\"188\" y=\"-164.3\" font-family=\"Times New Roman,serif\" font-size=\"14.00\">gini = 0.0</text>\r\n",
       "<text text-anchor=\"middle\" x=\"188\" y=\"-149.3\" font-family=\"Times New Roman,serif\" font-size=\"14.00\">samples = 1</text>\r\n",
       "<text text-anchor=\"middle\" x=\"188\" y=\"-134.3\" font-family=\"Times New Roman,serif\" font-size=\"14.00\">value = [0, 0, 1]</text>\r\n",
       "<text text-anchor=\"middle\" x=\"188\" y=\"-119.3\" font-family=\"Times New Roman,serif\" font-size=\"14.00\">class = virginica</text>\r\n",
       "</g>\r\n",
       "<!-- 4&#45;&gt;6 -->\r\n",
       "<g id=\"edge6\" class=\"edge\"><title>4&#45;&gt;6</title>\r\n",
       "<path fill=\"none\" stroke=\"black\" d=\"M188,-222.907C188,-212.204 188,-200.615 188,-189.776\"/>\r\n",
       "<polygon fill=\"black\" stroke=\"black\" points=\"191.5,-189.667 188,-179.667 184.5,-189.667 191.5,-189.667\"/>\r\n",
       "</g>\r\n",
       "<!-- 8 -->\r\n",
       "<g id=\"node9\" class=\"node\"><title>8</title>\r\n",
       "<polygon fill=\"none\" stroke=\"black\" points=\"366.5,-179.5 259.5,-179.5 259.5,-111.5 366.5,-111.5 366.5,-179.5\"/>\r\n",
       "<text text-anchor=\"middle\" x=\"313\" y=\"-164.3\" font-family=\"Times New Roman,serif\" font-size=\"14.00\">gini = 0.0</text>\r\n",
       "<text text-anchor=\"middle\" x=\"313\" y=\"-149.3\" font-family=\"Times New Roman,serif\" font-size=\"14.00\">samples = 3</text>\r\n",
       "<text text-anchor=\"middle\" x=\"313\" y=\"-134.3\" font-family=\"Times New Roman,serif\" font-size=\"14.00\">value = [0, 0, 3]</text>\r\n",
       "<text text-anchor=\"middle\" x=\"313\" y=\"-119.3\" font-family=\"Times New Roman,serif\" font-size=\"14.00\">class = virginica</text>\r\n",
       "</g>\r\n",
       "<!-- 7&#45;&gt;8 -->\r\n",
       "<g id=\"edge8\" class=\"edge\"><title>7&#45;&gt;8</title>\r\n",
       "<path fill=\"none\" stroke=\"black\" d=\"M361.326,-222.907C354.277,-211.763 346.621,-199.658 339.526,-188.439\"/>\r\n",
       "<polygon fill=\"black\" stroke=\"black\" points=\"342.281,-186.248 333.977,-179.667 336.365,-189.989 342.281,-186.248\"/>\r\n",
       "</g>\r\n",
       "<!-- 9 -->\r\n",
       "<g id=\"node10\" class=\"node\"><title>9</title>\r\n",
       "<polygon fill=\"none\" stroke=\"black\" points=\"515.5,-187 384.5,-187 384.5,-104 515.5,-104 515.5,-187\"/>\r\n",
       "<text text-anchor=\"middle\" x=\"450\" y=\"-171.8\" font-family=\"Times New Roman,serif\" font-size=\"14.00\">petal_length &lt;= 5.45</text>\r\n",
       "<text text-anchor=\"middle\" x=\"450\" y=\"-156.8\" font-family=\"Times New Roman,serif\" font-size=\"14.00\">gini = 0.444</text>\r\n",
       "<text text-anchor=\"middle\" x=\"450\" y=\"-141.8\" font-family=\"Times New Roman,serif\" font-size=\"14.00\">samples = 3</text>\r\n",
       "<text text-anchor=\"middle\" x=\"450\" y=\"-126.8\" font-family=\"Times New Roman,serif\" font-size=\"14.00\">value = [0, 2, 1]</text>\r\n",
       "<text text-anchor=\"middle\" x=\"450\" y=\"-111.8\" font-family=\"Times New Roman,serif\" font-size=\"14.00\">class = versicolor</text>\r\n",
       "</g>\r\n",
       "<!-- 7&#45;&gt;9 -->\r\n",
       "<g id=\"edge9\" class=\"edge\"><title>7&#45;&gt;9</title>\r\n",
       "<path fill=\"none\" stroke=\"black\" d=\"M408.858,-222.907C413.549,-214.195 418.556,-204.897 423.404,-195.893\"/>\r\n",
       "<polygon fill=\"black\" stroke=\"black\" points=\"426.522,-197.485 428.181,-187.021 420.358,-194.166 426.522,-197.485\"/>\r\n",
       "</g>\r\n",
       "<!-- 10 -->\r\n",
       "<g id=\"node11\" class=\"node\"><title>10</title>\r\n",
       "<polygon fill=\"none\" stroke=\"black\" points=\"443,-68 327,-68 327,-0 443,-0 443,-68\"/>\r\n",
       "<text text-anchor=\"middle\" x=\"385\" y=\"-52.8\" font-family=\"Times New Roman,serif\" font-size=\"14.00\">gini = 0.0</text>\r\n",
       "<text text-anchor=\"middle\" x=\"385\" y=\"-37.8\" font-family=\"Times New Roman,serif\" font-size=\"14.00\">samples = 2</text>\r\n",
       "<text text-anchor=\"middle\" x=\"385\" y=\"-22.8\" font-family=\"Times New Roman,serif\" font-size=\"14.00\">value = [0, 2, 0]</text>\r\n",
       "<text text-anchor=\"middle\" x=\"385\" y=\"-7.8\" font-family=\"Times New Roman,serif\" font-size=\"14.00\">class = versicolor</text>\r\n",
       "</g>\r\n",
       "<!-- 9&#45;&gt;10 -->\r\n",
       "<g id=\"edge10\" class=\"edge\"><title>9&#45;&gt;10</title>\r\n",
       "<path fill=\"none\" stroke=\"black\" d=\"M425.796,-103.726C420.599,-94.9703 415.098,-85.7032 409.875,-76.9051\"/>\r\n",
       "<polygon fill=\"black\" stroke=\"black\" points=\"412.881,-75.1121 404.767,-68.2996 406.862,-78.6853 412.881,-75.1121\"/>\r\n",
       "</g>\r\n",
       "<!-- 11 -->\r\n",
       "<g id=\"node12\" class=\"node\"><title>11</title>\r\n",
       "<polygon fill=\"none\" stroke=\"black\" points=\"568.5,-68 461.5,-68 461.5,-0 568.5,-0 568.5,-68\"/>\r\n",
       "<text text-anchor=\"middle\" x=\"515\" y=\"-52.8\" font-family=\"Times New Roman,serif\" font-size=\"14.00\">gini = 0.0</text>\r\n",
       "<text text-anchor=\"middle\" x=\"515\" y=\"-37.8\" font-family=\"Times New Roman,serif\" font-size=\"14.00\">samples = 1</text>\r\n",
       "<text text-anchor=\"middle\" x=\"515\" y=\"-22.8\" font-family=\"Times New Roman,serif\" font-size=\"14.00\">value = [0, 0, 1]</text>\r\n",
       "<text text-anchor=\"middle\" x=\"515\" y=\"-7.8\" font-family=\"Times New Roman,serif\" font-size=\"14.00\">class = virginica</text>\r\n",
       "</g>\r\n",
       "<!-- 9&#45;&gt;11 -->\r\n",
       "<g id=\"edge11\" class=\"edge\"><title>9&#45;&gt;11</title>\r\n",
       "<path fill=\"none\" stroke=\"black\" d=\"M474.204,-103.726C479.401,-94.9703 484.902,-85.7032 490.125,-76.9051\"/>\r\n",
       "<polygon fill=\"black\" stroke=\"black\" points=\"493.138,-78.6853 495.233,-68.2996 487.119,-75.1121 493.138,-78.6853\"/>\r\n",
       "</g>\r\n",
       "<!-- 13 -->\r\n",
       "<g id=\"node14\" class=\"node\"><title>13</title>\r\n",
       "<polygon fill=\"none\" stroke=\"black\" points=\"649.5,-306 524.5,-306 524.5,-223 649.5,-223 649.5,-306\"/>\r\n",
       "<text text-anchor=\"middle\" x=\"587\" y=\"-290.8\" font-family=\"Times New Roman,serif\" font-size=\"14.00\">sepal_width &lt;= 3.1</text>\r\n",
       "<text text-anchor=\"middle\" x=\"587\" y=\"-275.8\" font-family=\"Times New Roman,serif\" font-size=\"14.00\">gini = 0.444</text>\r\n",
       "<text text-anchor=\"middle\" x=\"587\" y=\"-260.8\" font-family=\"Times New Roman,serif\" font-size=\"14.00\">samples = 3</text>\r\n",
       "<text text-anchor=\"middle\" x=\"587\" y=\"-245.8\" font-family=\"Times New Roman,serif\" font-size=\"14.00\">value = [0, 1, 2]</text>\r\n",
       "<text text-anchor=\"middle\" x=\"587\" y=\"-230.8\" font-family=\"Times New Roman,serif\" font-size=\"14.00\">class = virginica</text>\r\n",
       "</g>\r\n",
       "<!-- 12&#45;&gt;13 -->\r\n",
       "<g id=\"edge13\" class=\"edge\"><title>12&#45;&gt;13</title>\r\n",
       "<path fill=\"none\" stroke=\"black\" d=\"M587,-341.907C587,-333.649 587,-324.864 587,-316.302\"/>\r\n",
       "<polygon fill=\"black\" stroke=\"black\" points=\"590.5,-316.021 587,-306.021 583.5,-316.021 590.5,-316.021\"/>\r\n",
       "</g>\r\n",
       "<!-- 16 -->\r\n",
       "<g id=\"node17\" class=\"node\"><title>16</title>\r\n",
       "<polygon fill=\"none\" stroke=\"black\" points=\"780,-298.5 668,-298.5 668,-230.5 780,-230.5 780,-298.5\"/>\r\n",
       "<text text-anchor=\"middle\" x=\"724\" y=\"-283.3\" font-family=\"Times New Roman,serif\" font-size=\"14.00\">gini = 0.0</text>\r\n",
       "<text text-anchor=\"middle\" x=\"724\" y=\"-268.3\" font-family=\"Times New Roman,serif\" font-size=\"14.00\">samples = 43</text>\r\n",
       "<text text-anchor=\"middle\" x=\"724\" y=\"-253.3\" font-family=\"Times New Roman,serif\" font-size=\"14.00\">value = [0, 0, 43]</text>\r\n",
       "<text text-anchor=\"middle\" x=\"724\" y=\"-238.3\" font-family=\"Times New Roman,serif\" font-size=\"14.00\">class = virginica</text>\r\n",
       "</g>\r\n",
       "<!-- 12&#45;&gt;16 -->\r\n",
       "<g id=\"edge16\" class=\"edge\"><title>12&#45;&gt;16</title>\r\n",
       "<path fill=\"none\" stroke=\"black\" d=\"M634.531,-341.907C648.357,-330.101 663.443,-317.217 677.221,-305.45\"/>\r\n",
       "<polygon fill=\"black\" stroke=\"black\" points=\"679.832,-307.823 685.164,-298.667 675.286,-302.5 679.832,-307.823\"/>\r\n",
       "</g>\r\n",
       "<!-- 14 -->\r\n",
       "<g id=\"node15\" class=\"node\"><title>14</title>\r\n",
       "<polygon fill=\"none\" stroke=\"black\" points=\"640.5,-179.5 533.5,-179.5 533.5,-111.5 640.5,-111.5 640.5,-179.5\"/>\r\n",
       "<text text-anchor=\"middle\" x=\"587\" y=\"-164.3\" font-family=\"Times New Roman,serif\" font-size=\"14.00\">gini = 0.0</text>\r\n",
       "<text text-anchor=\"middle\" x=\"587\" y=\"-149.3\" font-family=\"Times New Roman,serif\" font-size=\"14.00\">samples = 2</text>\r\n",
       "<text text-anchor=\"middle\" x=\"587\" y=\"-134.3\" font-family=\"Times New Roman,serif\" font-size=\"14.00\">value = [0, 0, 2]</text>\r\n",
       "<text text-anchor=\"middle\" x=\"587\" y=\"-119.3\" font-family=\"Times New Roman,serif\" font-size=\"14.00\">class = virginica</text>\r\n",
       "</g>\r\n",
       "<!-- 13&#45;&gt;14 -->\r\n",
       "<g id=\"edge14\" class=\"edge\"><title>13&#45;&gt;14</title>\r\n",
       "<path fill=\"none\" stroke=\"black\" d=\"M587,-222.907C587,-212.204 587,-200.615 587,-189.776\"/>\r\n",
       "<polygon fill=\"black\" stroke=\"black\" points=\"590.5,-189.667 587,-179.667 583.5,-189.667 590.5,-189.667\"/>\r\n",
       "</g>\r\n",
       "<!-- 15 -->\r\n",
       "<g id=\"node16\" class=\"node\"><title>15</title>\r\n",
       "<polygon fill=\"none\" stroke=\"black\" points=\"775,-179.5 659,-179.5 659,-111.5 775,-111.5 775,-179.5\"/>\r\n",
       "<text text-anchor=\"middle\" x=\"717\" y=\"-164.3\" font-family=\"Times New Roman,serif\" font-size=\"14.00\">gini = 0.0</text>\r\n",
       "<text text-anchor=\"middle\" x=\"717\" y=\"-149.3\" font-family=\"Times New Roman,serif\" font-size=\"14.00\">samples = 1</text>\r\n",
       "<text text-anchor=\"middle\" x=\"717\" y=\"-134.3\" font-family=\"Times New Roman,serif\" font-size=\"14.00\">value = [0, 1, 0]</text>\r\n",
       "<text text-anchor=\"middle\" x=\"717\" y=\"-119.3\" font-family=\"Times New Roman,serif\" font-size=\"14.00\">class = versicolor</text>\r\n",
       "</g>\r\n",
       "<!-- 13&#45;&gt;15 -->\r\n",
       "<g id=\"edge15\" class=\"edge\"><title>13&#45;&gt;15</title>\r\n",
       "<path fill=\"none\" stroke=\"black\" d=\"M632.103,-222.907C645.222,-211.101 659.537,-198.217 672.612,-186.45\"/>\r\n",
       "<polygon fill=\"black\" stroke=\"black\" points=\"675.056,-188.958 680.148,-179.667 670.373,-183.755 675.056,-188.958\"/>\r\n",
       "</g>\r\n",
       "</g>\r\n",
       "</svg>\r\n"
      ],
      "text/plain": [
       "<graphviz.files.Source at 0x28df6e32eb8>"
      ]
     },
     "execution_count": 53,
     "metadata": {},
     "output_type": "execute_result"
    }
   ],
   "source": [
    "graph"
   ]
  },
  {
   "cell_type": "code",
   "execution_count": null,
   "metadata": {
    "slideshow": {
     "slide_type": "skip"
    }
   },
   "outputs": [],
   "source": []
  },
  {
   "cell_type": "markdown",
   "metadata": {
    "cell_style": "split",
    "slideshow": {
     "slide_type": "subslide"
    }
   },
   "source": [
    "#### Random Forests\n",
    "\n",
    "* Ensemble Learning - A collection of multiple independently trained learning algorithms\n",
    "* Bagging - Random sampling of training data\n",
    "* Random feature selection (if there are alot of features)"
   ]
  },
  {
   "cell_type": "markdown",
   "metadata": {
    "cell_style": "split",
    "slideshow": {
     "slide_type": "-"
    }
   },
   "source": [
    "![](assets/rf-vis.png)"
   ]
  },
  {
   "cell_type": "markdown",
   "metadata": {
    "slideshow": {
     "slide_type": "slide"
    }
   },
   "source": [
    "### Results\n"
   ]
  },
  {
   "cell_type": "markdown",
   "metadata": {
    "cell_style": "split",
    "slideshow": {
     "slide_type": "slide"
    }
   },
   "source": [
    "## Break\n",
    "\n",
    "* Restroom\n",
    "* Discuss Projects"
   ]
  },
  {
   "cell_type": "markdown",
   "metadata": {
    "cell_style": "split",
    "slideshow": {
     "slide_type": "-"
    }
   },
   "source": [
    "![](assets/Oscillating_pendulum.gif)"
   ]
  },
  {
   "cell_type": "markdown",
   "metadata": {
    "slideshow": {
     "slide_type": "slide"
    }
   },
   "source": [
    "## Natural Language Processing"
   ]
  },
  {
   "cell_type": "markdown",
   "metadata": {
    "slideshow": {
     "slide_type": "subslide"
    }
   },
   "source": [
    "### What makes NLP hard\n",
    "\n",
    "* Raw data is not in a vector space! Characters are not numbers and don't directly relate to eachother.\n",
    "  * A lot of great work in transforming text into vector spaces using Deep learning.\n",
    "* Computer can count patterns and such, but don't innately understand concepts that words and phrases provide.\n",
    "  * There is a conceptual dimension that must be learned.\n",
    "  * It's difficult to construct and train a model that does this with language.\n",
    "* Incredible amount of ambiguity in text, even for a human."
   ]
  },
  {
   "cell_type": "markdown",
   "metadata": {
    "slideshow": {
     "slide_type": "subslide"
    }
   },
   "source": [
    "**Techniques we will learn**\n",
    "* Basic Fundamental Steps of NLP\n",
    "    * Example - Spam Analysis from SMS Text Messages\n",
    "* Deeper Feature Extraction - Spacey\n",
    "    *  Word Vectors\n",
    "    *  Part-of-speech tags, Named entity labels"
   ]
  },
  {
   "cell_type": "markdown",
   "metadata": {
    "slideshow": {
     "slide_type": "subslide"
    }
   },
   "source": [
    "### Basic Fundamentals of NLP\n",
    "\n",
    "1. Look at data\n",
    "2. Preprocess Text\n",
    "3. Tokenization\n",
    "4. Compute TF-IDF scores\n",
    "5. Choose and Fit Models\n",
    "6. Hyperparameter Search with Cross Validation"
   ]
  },
  {
   "cell_type": "code",
   "execution_count": 54,
   "metadata": {},
   "outputs": [],
   "source": [
    "df_spam = pd.read_table('data/SMSSpamCollection.txt', header=None)\n",
    "df_spam = df_spam.rename(columns={0: \"Label\", 1: \"Text\"})"
   ]
  },
  {
   "cell_type": "markdown",
   "metadata": {
    "cell_style": "split",
    "slideshow": {
     "slide_type": "subslide"
    }
   },
   "source": [
    "Data set comes from UCI and is a public set of SMS labeled messages\n",
    "\n",
    "Data breakdown:\n",
    "\n",
    "| Ham  | Spam |\n",
    "|------|------|\n",
    "| 4825 | 747  |\n",
    "\n",
    "\n",
    "https://archive.ics.uci.edu/ml/datasets/sms+spam+collection"
   ]
  },
  {
   "cell_type": "code",
   "execution_count": 55,
   "metadata": {
    "cell_style": "split",
    "slideshow": {
     "slide_type": "-"
    }
   },
   "outputs": [
    {
     "data": {
      "text/html": [
       "<div>\n",
       "<style scoped>\n",
       "    .dataframe tbody tr th:only-of-type {\n",
       "        vertical-align: middle;\n",
       "    }\n",
       "\n",
       "    .dataframe tbody tr th {\n",
       "        vertical-align: top;\n",
       "    }\n",
       "\n",
       "    .dataframe thead th {\n",
       "        text-align: right;\n",
       "    }\n",
       "</style>\n",
       "<table border=\"1\" class=\"dataframe\">\n",
       "  <thead>\n",
       "    <tr style=\"text-align: right;\">\n",
       "      <th></th>\n",
       "      <th>Label</th>\n",
       "      <th>Text</th>\n",
       "    </tr>\n",
       "  </thead>\n",
       "  <tbody>\n",
       "    <tr>\n",
       "      <th>0</th>\n",
       "      <td>ham</td>\n",
       "      <td>Go until jurong point, crazy.. Available only ...</td>\n",
       "    </tr>\n",
       "    <tr>\n",
       "      <th>1</th>\n",
       "      <td>ham</td>\n",
       "      <td>Ok lar... Joking wif u oni...</td>\n",
       "    </tr>\n",
       "    <tr>\n",
       "      <th>2</th>\n",
       "      <td>spam</td>\n",
       "      <td>Free entry in 2 a wkly comp to win FA Cup fina...</td>\n",
       "    </tr>\n",
       "    <tr>\n",
       "      <th>3</th>\n",
       "      <td>ham</td>\n",
       "      <td>U dun say so early hor... U c already then say...</td>\n",
       "    </tr>\n",
       "    <tr>\n",
       "      <th>4</th>\n",
       "      <td>ham</td>\n",
       "      <td>Nah I don't think he goes to usf, he lives aro...</td>\n",
       "    </tr>\n",
       "  </tbody>\n",
       "</table>\n",
       "</div>"
      ],
      "text/plain": [
       "  Label                                               Text\n",
       "0   ham  Go until jurong point, crazy.. Available only ...\n",
       "1   ham                      Ok lar... Joking wif u oni...\n",
       "2  spam  Free entry in 2 a wkly comp to win FA Cup fina...\n",
       "3   ham  U dun say so early hor... U c already then say...\n",
       "4   ham  Nah I don't think he goes to usf, he lives aro..."
      ]
     },
     "execution_count": 55,
     "metadata": {},
     "output_type": "execute_result"
    }
   ],
   "source": [
    "df_spam.head()"
   ]
  },
  {
   "cell_type": "code",
   "execution_count": 86,
   "metadata": {
    "slideshow": {
     "slide_type": "skip"
    }
   },
   "outputs": [],
   "source": [
    "np.random.seed(1)\n",
    "ham_examples = np.random.choice(df_spam[df_spam.Label == 'ham'].index, 2)\n",
    "spam_examples = np.random.choice(df_spam[df_spam.Label == 'spam'].index, 2)\n",
    "examples = ham_examples.tolist() + spam_examples.tolist()\n",
    "df_examples = df_spam.iloc[examples]\n",
    "pd.set_option('display.max_colwidth', -1)"
   ]
  },
  {
   "cell_type": "markdown",
   "metadata": {
    "slideshow": {
     "slide_type": "subslide"
    }
   },
   "source": [
    "#### Look at Data"
   ]
  },
  {
   "cell_type": "code",
   "execution_count": 89,
   "metadata": {
    "slideshow": {
     "slide_type": "-"
    }
   },
   "outputs": [
    {
     "data": {
      "text/html": [
       "<table border=\"1\" class=\"dataframe\">\n",
       "  <thead>\n",
       "    <tr style=\"text-align: right;\">\n",
       "      <th>Label</th>\n",
       "      <th>Text</th>\n",
       "    </tr>\n",
       "  </thead>\n",
       "  <tbody>\n",
       "    <tr>\n",
       "      <td>ham</td>\n",
       "      <td>Awesome, I'll see you in a bit</td>\n",
       "    </tr>\n",
       "    <tr>\n",
       "      <td>ham</td>\n",
       "      <td>Hey j! r u feeling any better, hopeSo hunny. i amnow feelin ill &amp; ithink i may have tonsolitusaswell! damn iam layin in bedreal bored. lotsof luv me xxxx</td>\n",
       "    </tr>\n",
       "    <tr>\n",
       "      <td>spam</td>\n",
       "      <td>You are guaranteed the latest Nokia Phone, a 40GB iPod MP3 player or a £500 prize! Txt word: COLLECT to No: 83355! IBHltd LdnW15H 150p/Mtmsgrcvd18+</td>\n",
       "    </tr>\n",
       "    <tr>\n",
       "      <td>spam</td>\n",
       "      <td>XMAS iscoming &amp; ur awarded either £500 CD gift vouchers &amp; free entry 2 r £100 weekly draw txt MUSIC to 87066 TnC www.Ldew.com1win150ppmx3age16subscription</td>\n",
       "    </tr>\n",
       "  </tbody>\n",
       "</table>"
      ],
      "text/plain": [
       "<IPython.core.display.HTML object>"
      ]
     },
     "metadata": {},
     "output_type": "display_data"
    }
   ],
   "source": [
    "display(HTML(df_examples.to_html(index=False)))"
   ]
  },
  {
   "cell_type": "code",
   "execution_count": 109,
   "metadata": {},
   "outputs": [],
   "source": [
    "\n",
    "df_spam['clean_text'] = df_spam.Text.apply(preprocess_text)"
   ]
  },
  {
   "cell_type": "markdown",
   "metadata": {
    "slideshow": {
     "slide_type": "subslide"
    }
   },
   "source": [
    "#### Preprocess Text\n",
    "* Encode the ham/spam label as 0 or 1. \n",
    "* Remove Punctuation\n",
    "* Leading and Ending White space - ' Hey '\n",
    "* Replace common occurring text patterns with a single word - Regular Expression\n",
    "    * 'http://spam.me' --> url\n",
    "    * '$' '£'& --> 'mnsymb'\n",
    "    * '55555' -- 'shrtcode'\n",
    "    * '867-5309' --> 'phonenumber'\n",
    "    * '88' --> 'number'\n",
    "* Lower case\n",
    "* Port Stemmer - 'testing' -> 'test'\n",
    "* Stop words - 'the', 'a'\n"
   ]
  },
  {
   "cell_type": "code",
   "execution_count": 161,
   "metadata": {
    "slideshow": {
     "slide_type": "skip"
    }
   },
   "outputs": [],
   "source": [
    "porter = nltk.PorterStemmer()\n",
    "stop_words = nltk.corpus.stopwords.words('english')\n",
    "\n",
    "def preprocess_text(text):\n",
    "    clean_text = regex_clean(text)\n",
    "    clean_text = ' '.join(\n",
    "        porter.stem(term.strip()) \n",
    "        for term in clean_text.split()\n",
    "        if term not in set(stop_words)\n",
    "    )\n",
    "    return clean_text\n",
    "def regex_clean(text):\n",
    "    clean_text = re.sub(r'(https?:\\/\\/(?:www\\.|(?!www))[a-zA-Z0-9][a-zA-Z0-9-]+[a-zA-Z0-9]\\.[^\\s]{2,}|www\\.[a-zA-Z0-9][a-zA-Z0-9-]+[a-zA-Z0-9]\\.[^\\s]{2,}|https?:\\/\\/(?:www\\.|(?!www))[a-zA-Z0-9]\\.[^\\s]{2,}|www\\.[a-zA-Z0-9]\\.[^\\s]{2,})', 'url',\n",
    "                     text)\n",
    "    clean_text = re.sub(r'£|\\$', 'mnsymb', clean_text)\n",
    "    clean_text = re.sub(\n",
    "        r'[2-9]\\d{2}-\\d{3}-\\d{4}',\n",
    "        'phonenumber', clean_text)\n",
    "    clean_text = re.sub(r'[^\\w\\d\\s]', ' ', clean_text)\n",
    "    clean_text = re.sub(r'\\s\\d{4,6}\\s', ' shrtcode ', clean_text)\n",
    "    clean_text = re.sub(r'\\d+(\\.\\d+)?', ' number ', clean_text)\n",
    "\n",
    "    clean_text = re.sub(r'\\s+', ' ', clean_text)\n",
    "\n",
    "    return clean_text\n",
    "df_spam['clean_text'] = df_spam.Text.apply(preprocess_text)\n",
    "\n",
    "le = LabelEncoder()\n",
    "df_spam['label_encoded'] = le.fit_transform(df_spam['Label'].values)  "
   ]
  },
  {
   "cell_type": "code",
   "execution_count": 162,
   "metadata": {
    "slideshow": {
     "slide_type": "skip"
    }
   },
   "outputs": [
    {
     "data": {
      "text/html": [
       "<div>\n",
       "<style scoped>\n",
       "    .dataframe tbody tr th:only-of-type {\n",
       "        vertical-align: middle;\n",
       "    }\n",
       "\n",
       "    .dataframe tbody tr th {\n",
       "        vertical-align: top;\n",
       "    }\n",
       "\n",
       "    .dataframe thead th {\n",
       "        text-align: right;\n",
       "    }\n",
       "</style>\n",
       "<table border=\"1\" class=\"dataframe\">\n",
       "  <thead>\n",
       "    <tr style=\"text-align: right;\">\n",
       "      <th></th>\n",
       "      <th>Label</th>\n",
       "      <th>Text</th>\n",
       "      <th>clean_text</th>\n",
       "      <th>label_encoded</th>\n",
       "    </tr>\n",
       "  </thead>\n",
       "  <tbody>\n",
       "    <tr>\n",
       "      <th>0</th>\n",
       "      <td>ham</td>\n",
       "      <td>Go until jurong point, crazy.. Available only in bugis n great world la e buffet... Cine there got amore wat...</td>\n",
       "      <td>Go jurong point crazi avail bugi n great world la e buffet cine got amor wat</td>\n",
       "      <td>0</td>\n",
       "    </tr>\n",
       "    <tr>\n",
       "      <th>1</th>\n",
       "      <td>ham</td>\n",
       "      <td>Ok lar... Joking wif u oni...</td>\n",
       "      <td>Ok lar joke wif u oni</td>\n",
       "      <td>0</td>\n",
       "    </tr>\n",
       "    <tr>\n",
       "      <th>2</th>\n",
       "      <td>spam</td>\n",
       "      <td>Free entry in 2 a wkly comp to win FA Cup final tkts 21st May 2005. Text FA to 87121 to receive entry question(std txt rate)T&amp;C's apply 08452810075over18's</td>\n",
       "      <td>free entri number wkli comp win FA cup final tkt number st may shrtcode text FA shrtcode receiv entri question std txt rate T C appli number number</td>\n",
       "      <td>1</td>\n",
       "    </tr>\n",
       "    <tr>\n",
       "      <th>3</th>\n",
       "      <td>ham</td>\n",
       "      <td>U dun say so early hor... U c already then say...</td>\n",
       "      <td>U dun say earli hor U c alreadi say</td>\n",
       "      <td>0</td>\n",
       "    </tr>\n",
       "    <tr>\n",
       "      <th>4</th>\n",
       "      <td>ham</td>\n",
       "      <td>Nah I don't think he goes to usf, he lives around here though</td>\n",
       "      <td>nah I think goe usf live around though</td>\n",
       "      <td>0</td>\n",
       "    </tr>\n",
       "  </tbody>\n",
       "</table>\n",
       "</div>"
      ],
      "text/plain": [
       "  Label                                                                                                                                                         Text                                                                                                                                           clean_text  label_encoded\n",
       "0  ham   Go until jurong point, crazy.. Available only in bugis n great world la e buffet... Cine there got amore wat...                                              Go jurong point crazi avail bugi n great world la e buffet cine got amor wat                                                                         0            \n",
       "1  ham   Ok lar... Joking wif u oni...                                                                                                                                Ok lar joke wif u oni                                                                                                                                0            \n",
       "2  spam  Free entry in 2 a wkly comp to win FA Cup final tkts 21st May 2005. Text FA to 87121 to receive entry question(std txt rate)T&C's apply 08452810075over18's  free entri number wkli comp win FA cup final tkt number st may shrtcode text FA shrtcode receiv entri question std txt rate T C appli number number  1            \n",
       "3  ham   U dun say so early hor... U c already then say...                                                                                                            U dun say earli hor U c alreadi say                                                                                                                  0            \n",
       "4  ham   Nah I don't think he goes to usf, he lives around here though                                                                                                nah I think goe usf live around though                                                                                                               0            "
      ]
     },
     "execution_count": 162,
     "metadata": {},
     "output_type": "execute_result"
    }
   ],
   "source": [
    "df_spam.head()"
   ]
  },
  {
   "cell_type": "code",
   "execution_count": 111,
   "metadata": {
    "slideshow": {
     "slide_type": "subslide"
    }
   },
   "outputs": [
    {
     "data": {
      "text/plain": [
       "'text phonenumb win prize url'"
      ]
     },
     "execution_count": 111,
     "metadata": {},
     "output_type": "execute_result"
    }
   ],
   "source": [
    "preprocess_text('TEXT me at 801-458-3434 to win prize at www.spam.com')"
   ]
  },
  {
   "cell_type": "code",
   "execution_count": 145,
   "metadata": {
    "slideshow": {
     "slide_type": "-"
    }
   },
   "outputs": [
    {
     "data": {
      "text/html": [
       "<table border=\"1\" class=\"dataframe\">\n",
       "  <thead>\n",
       "    <tr style=\"text-align: right;\">\n",
       "      <th>Label</th>\n",
       "      <th>Text</th>\n",
       "      <th>clean_text</th>\n",
       "    </tr>\n",
       "  </thead>\n",
       "  <tbody>\n",
       "    <tr>\n",
       "      <td>ham</td>\n",
       "      <td>Awesome, I'll see you in a bit</td>\n",
       "      <td>awesom I see bit</td>\n",
       "    </tr>\n",
       "    <tr>\n",
       "      <td>ham</td>\n",
       "      <td>Hey j! r u feeling any better, hopeSo hunny. i amnow feelin ill &amp; ithink i may have tonsolitusaswell! damn iam layin in bedreal bored. lotsof luv me xxxx</td>\n",
       "      <td>hey j r u feel better hopeso hunni amnow feelin ill ithink may tonsolitusaswel damn iam layin bedreal bore lotsof luv xxxx</td>\n",
       "    </tr>\n",
       "    <tr>\n",
       "      <td>spam</td>\n",
       "      <td>You are guaranteed the latest Nokia Phone, a 40GB iPod MP3 player or a £500 prize! Txt word: COLLECT to No: 83355! IBHltd LdnW15H 150p/Mtmsgrcvd18+</td>\n",
       "      <td>you guarante latest nokia phone number GB ipod MP number player mnsymb number prize txt word collect No shrtcode ibhltd ldnw number H number p mtmsgrcvd number</td>\n",
       "    </tr>\n",
       "    <tr>\n",
       "      <td>spam</td>\n",
       "      <td>XMAS iscoming &amp; ur awarded either £500 CD gift vouchers &amp; free entry 2 r £100 weekly draw txt MUSIC to 87066 TnC www.Ldew.com1win150ppmx3age16subscription</td>\n",
       "      <td>xma iscom ur award either mnsymb number CD gift voucher free entri number r mnsymb number weekli draw txt music shrtcode tnc url</td>\n",
       "    </tr>\n",
       "  </tbody>\n",
       "</table>"
      ],
      "text/plain": [
       "<IPython.core.display.HTML object>"
      ]
     },
     "metadata": {},
     "output_type": "display_data"
    }
   ],
   "source": [
    "display(HTML(df_spam.iloc[examples].to_html(index=False)))"
   ]
  },
  {
   "cell_type": "markdown",
   "metadata": {},
   "source": [
    "#### Tokenization\n",
    "\n",
    "* Our features will be every term (word) of the corpus of all terms in all documents (examples)\n",
    "* This assumes that each word is linearly independent of another. \n",
    "* Are you hungry? vs You are hungry!\n",
    "* Use n-grams\n",
    "* Are you hungry => 'are', 'you', 'hungry', 'are you', 'you hungry'"
   ]
  },
  {
   "cell_type": "code",
   "execution_count": 163,
   "metadata": {
    "slideshow": {
     "slide_type": "skip"
    }
   },
   "outputs": [],
   "source": [
    "vectorizer = TfidfVectorizer(ngram_range=(1, 2))\n",
    "X_data = vectorizer.fit_transform(df_spam.clean_text)\n",
    "y_label = df_spam['label_encoded'].values"
   ]
  },
  {
   "cell_type": "markdown",
   "metadata": {
    "slideshow": {
     "slide_type": "subslide"
    }
   },
   "source": [
    "#### Compute Term Frequency-Inverse document Frequency (TF-IDF)\n",
    "\n",
    "* TF-IDF is a weight used to evaluate how important a term is to a document (one example) in the collection (all examples)\n",
    "* Term Frequency, tf\n",
    "    * Count of how many times a term occurred in the document\n",
    "* Inverse Document Frequency\n",
    "    * Measures how important a term is\n",
    "<break>\n",
    "<center>\n",
    "$$\n",
    "\\operatorname{tf}(t,d) = |t \\in d| \\\\\n",
    "\\operatorname{idf}(t, D)=\\log \\frac{N}{|\\{d \\in D : t \\in d\\}|} \\\\ \n",
    " \\operatorname{tfidf}(t, d, D)=\\operatorname{tf}(t, d) \\cdot \\operatorname{idf}(t, D)\n",
    "$$\n",
    "</center>\n",
    "\n",
    "$N$ is count all documents. $ |\\{d \\in D : t \\in d\\}| $  is the number of documents where the term $t$ appears \n"
   ]
  },
  {
   "cell_type": "code",
   "execution_count": 157,
   "metadata": {
    "slideshow": {
     "slide_type": "subslide"
    }
   },
   "outputs": [
    {
     "data": {
      "text/plain": [
       "<5572x39201 sparse matrix of type '<class 'numpy.float64'>'\n",
       "\twith 102112 stored elements in Compressed Sparse Row format>"
      ]
     },
     "execution_count": 157,
     "metadata": {},
     "output_type": "execute_result"
    }
   ],
   "source": [
    "X_data"
   ]
  },
  {
   "cell_type": "markdown",
   "metadata": {},
   "source": [
    "#### Choose Models and fit\n",
    "\n",
    "* Support Vector Machines\n",
    "* Random Forest\n",
    "\n",
    "\n",
    "* Each of these models have many different *hyperparameters* to tune\n",
    "* Start with defaults parameters for models\n",
    "    * SVM - Kenrel=linear, C=1.0\n",
    "    * Random Forest - Split-gini, number of estimators = 20\n"
   ]
  },
  {
   "cell_type": "code",
   "execution_count": null,
   "metadata": {},
   "outputs": [],
   "source": []
  },
  {
   "cell_type": "code",
   "execution_count": 280,
   "metadata": {
    "slideshow": {
     "slide_type": "skip"
    }
   },
   "outputs": [],
   "source": [
    "def create_dataframe(sample_space, train_scores, valid_scores, model_name='SVM', params=''):\n",
    "    # How many folds in k folds validation\n",
    "    folds = train_scores.shape[1]\n",
    "    # total number of samples per model\n",
    "    samples_per_model = sample_space.shape[0] * folds\n",
    "    df = pd.DataFrame(\n",
    "        np.stack((np.repeat(sample_space, folds) , train_scores.flatten(),\n",
    "                  valid_scores.flatten(), [model_name] * samples_per_model, [params] * samples_per_model), axis=1),\n",
    "        columns=['# of training examples', 'Training set', 'Validation set', 'Model', 'Params']\n",
    "    )\n",
    "    dtype={'# of training examples':np.int,'Training set': np.float, 'Validation set': np.float, 'Model': str, 'Params': str }\n",
    "    for k, v in dtype.items():\n",
    "        df[k] = df[k].astype(v)\n",
    "    \n",
    "    return pd.melt(\n",
    "        df,\n",
    "        id_vars=['# of training examples', 'Model', 'Params'],\n",
    "        value_vars=['Training set', 'Validation set'],\n",
    "        var_name='Scores',\n",
    "        value_name='F1 score'\n",
    "    )\n",
    "\n",
    "def train_models(models, X_data, y_label):\n",
    "    \"\"\"Trains models with the given data\n",
    "    \"\"\"\n",
    "    df = pd.DataFrame()\n",
    "    for (model_name, model) in models:\n",
    "        sample_space = np.linspace(500, X_data.shape[0] * 0.8, 10, dtype='int')\n",
    "        train_sizes, train_scores, valid_scores = learning_curve(\n",
    "            estimator=model,\n",
    "            X=X_data,\n",
    "            y=y_label,\n",
    "            train_sizes=sample_space,\n",
    "            cv=StratifiedShuffleSplit(n_splits=10, test_size=0.2, random_state=1),\n",
    "            scoring='f1',\n",
    "            n_jobs=-1,\n",
    "            random_state=1\n",
    "        )\n",
    "        df_ = create_dataframe(sample_space, train_scores, valid_scores, model_name=model_name)\n",
    "        df = df.append(df_)\n",
    "    return df\n",
    "    "
   ]
  },
  {
   "cell_type": "code",
   "execution_count": 293,
   "metadata": {},
   "outputs": [],
   "source": [
    "# models = [('SVM', LinearSVC()), ('RF', RandomForestClassifier()), ('Adaboost', AdaBoostClassifier())]\n",
    "models = [('SVM', SVC(kernel='linear')), ('RF', RandomForestClassifier())]\n",
    "df_compare = train_models(models, X_data, y_label)\n",
    "# SVM defaults C to 1, uses hinge loss\n",
    "# Random Forest defaults to split on gini, n estimators 20"
   ]
  },
  {
   "cell_type": "code",
   "execution_count": 294,
   "metadata": {
    "slideshow": {
     "slide_type": "subslide"
    }
   },
   "outputs": [
    {
     "name": "stderr",
     "output_type": "stream",
     "text": [
      "C:\\Users\\Jerem\\Anaconda3\\envs\\jupyter\\lib\\site-packages\\scipy\\stats\\stats.py:1713: FutureWarning: Using a non-tuple sequence for multidimensional indexing is deprecated; use `arr[tuple(seq)]` instead of `arr[seq]`. In the future this will be interpreted as an array index, `arr[np.array(seq)]`, which will result either in an error or a different result.\n",
      "  return np.add.reduce(sorted[indexer] * weights, axis=axis) / sumval\n"
     ]
    },
    {
     "data": {
      "image/png": "[encoded data removed]",
      "text/plain": [
       "<Figure size 1023.01x432 with 2 Axes>"
      ]
     },
     "metadata": {},
     "output_type": "display_data"
    }
   ],
   "source": [
    "g = sns.relplot(x=\"# of training examples\", y=\"F1 score\",\n",
    "                hue=\"Scores\", style=\"Scores\", col=\"Model\",\n",
    "                height=6, aspect=1, kind=\"line\", data=df_compare)"
   ]
  },
  {
   "cell_type": "markdown",
   "metadata": {
    "slideshow": {
     "slide_type": "subslide"
    }
   },
   "source": [
    "#### Hyperparamter Tuning\n",
    "\n",
    "* There are many hyperparameter to models that can influence their performance\n",
    "* SVM is influenced by:\n",
    "    * $C$ - $1e-6, 0.1, 1, 10, 100$\n",
    "    * Kernel - linear, radial basis function, poly\n",
    "* We desire to train and validate all **30** combinations of these model parameters\n",
    "* Choose model with best performance!\n",
    "* If using python use function called `GridSearchCV` in `sklearn`."
   ]
  },
  {
   "cell_type": "code",
   "execution_count": 338,
   "metadata": {
    "slideshow": {
     "slide_type": "skip"
    }
   },
   "outputs": [
    {
     "data": {
      "text/plain": [
       "GridSearchCV(cv=StratifiedShuffleSplit(n_splits=10, random_state=42, test_size=0.2,\n",
       "            train_size=None),\n",
       "       error_score='raise-deprecating',\n",
       "       estimator=SVC(C=1.0, cache_size=200, class_weight=None, coef0=0.0,\n",
       "  decision_function_shape='ovr', degree=3, gamma='auto_deprecated',\n",
       "  kernel='rbf', max_iter=-1, probability=False, random_state=None,\n",
       "  shrinking=True, tol=0.001, verbose=False),\n",
       "       fit_params=None, iid='warn', n_jobs=-1,\n",
       "       param_grid=[{'C': [1e-06, 0.1, 1, 10, 100], 'kernel': ['linear', 'poly', 'rbf']}],\n",
       "       pre_dispatch='2*n_jobs', refit=True, return_train_score=True,\n",
       "       scoring='f1', verbose=0)"
      ]
     },
     "execution_count": 338,
     "metadata": {},
     "output_type": "execute_result"
    }
   ],
   "source": [
    "param_grid = [{'C': [1e-6, 0.1, 1, 10, 100], 'kernel': ['linear', 'poly', 'rbf'] }]\n",
    "\n",
    "X_train, X_test, y_train, y_test = train_test_split(\n",
    "    X_data,\n",
    "    y_label,\n",
    "    test_size=0.2,\n",
    "    random_state=2,\n",
    "    stratify=y_label\n",
    ")\n",
    "\n",
    "clf = GridSearchCV(\n",
    "    estimator=SVC(),\n",
    "    param_grid=param_grid,\n",
    "    cv=StratifiedShuffleSplit(n_splits=10, test_size=0.2, random_state=42),\n",
    "    scoring='f1',\n",
    "    return_train_score=True,\n",
    "    n_jobs=-1\n",
    ")\n",
    "clf.fit(X_train, y_train)"
   ]
  },
  {
   "cell_type": "markdown",
   "metadata": {
    "slideshow": {
     "slide_type": "notes"
    }
   },
   "source": [
    "* Macro average looks at the metrics of all classes and averages. \n",
    "\n",
    "* Micro-average will aggregate the contributions of all classes to compute the average metric\n",
    "\n",
    "* The support is the number of samples of the true response that lie in that class."
   ]
  },
  {
   "cell_type": "code",
   "execution_count": 339,
   "metadata": {},
   "outputs": [],
   "source": [
    "test_score = clf.score(X_test, y_test)\n",
    "y_pred = clf.predict(X_test)\n",
    "cm = pd.DataFrame(\n",
    "    confusion_matrix(y_test, y_pred),\n",
    "    index=[['actual', 'actual'], ['spam', 'ham']],\n",
    "    columns=[['predicted', 'predicted'], ['spam', 'ham']]\n",
    ")\n",
    "\n",
    "report = classification_report(y_test, y_pred, target_names=['Ham', 'Spam'], output_dict=True)\n",
    "report = pd.DataFrame(report).transpose()"
   ]
  },
  {
   "cell_type": "code",
   "execution_count": 340,
   "metadata": {
    "cell_style": "split",
    "slideshow": {
     "slide_type": "subslide"
    }
   },
   "outputs": [
    {
     "name": "stdout",
     "output_type": "stream",
     "text": [
      "Optimal Parameters {'C': 10, 'kernel': 'linear'}\n",
      "Test Score: 92.6%\n"
     ]
    }
   ],
   "source": [
    "print(\"Optimal Parameters {}\".format(clf.best_params_))\n",
    "print(\"Test Score: {:.1f}%\".format(test_score * 100))"
   ]
  },
  {
   "cell_type": "code",
   "execution_count": 341,
   "metadata": {
    "cell_style": "split",
    "slideshow": {
     "slide_type": "-"
    }
   },
   "outputs": [
    {
     "data": {
      "text/html": [
       "<div>\n",
       "<style scoped>\n",
       "    .dataframe tbody tr th:only-of-type {\n",
       "        vertical-align: middle;\n",
       "    }\n",
       "\n",
       "    .dataframe tbody tr th {\n",
       "        vertical-align: top;\n",
       "    }\n",
       "\n",
       "    .dataframe thead th {\n",
       "        text-align: right;\n",
       "    }\n",
       "</style>\n",
       "<table border=\"1\" class=\"dataframe\">\n",
       "  <thead>\n",
       "    <tr style=\"text-align: right;\">\n",
       "      <th></th>\n",
       "      <th>f1-score</th>\n",
       "      <th>precision</th>\n",
       "      <th>recall</th>\n",
       "      <th>support</th>\n",
       "    </tr>\n",
       "  </thead>\n",
       "  <tbody>\n",
       "    <tr>\n",
       "      <th>Ham</th>\n",
       "      <td>0.989214</td>\n",
       "      <td>0.981651</td>\n",
       "      <td>0.996894</td>\n",
       "      <td>966.0</td>\n",
       "    </tr>\n",
       "    <tr>\n",
       "      <th>Spam</th>\n",
       "      <td>0.925795</td>\n",
       "      <td>0.977612</td>\n",
       "      <td>0.879195</td>\n",
       "      <td>149.0</td>\n",
       "    </tr>\n",
       "    <tr>\n",
       "      <th>micro avg</th>\n",
       "      <td>0.981166</td>\n",
       "      <td>0.981166</td>\n",
       "      <td>0.981166</td>\n",
       "      <td>1115.0</td>\n",
       "    </tr>\n",
       "    <tr>\n",
       "      <th>macro avg</th>\n",
       "      <td>0.957505</td>\n",
       "      <td>0.979632</td>\n",
       "      <td>0.938045</td>\n",
       "      <td>1115.0</td>\n",
       "    </tr>\n",
       "    <tr>\n",
       "      <th>weighted avg</th>\n",
       "      <td>0.980739</td>\n",
       "      <td>0.981112</td>\n",
       "      <td>0.981166</td>\n",
       "      <td>1115.0</td>\n",
       "    </tr>\n",
       "  </tbody>\n",
       "</table>\n",
       "</div>"
      ],
      "text/plain": [
       "              f1-score  precision    recall  support\n",
       "Ham           0.989214  0.981651   0.996894  966.0  \n",
       "Spam          0.925795  0.977612   0.879195  149.0  \n",
       "micro avg     0.981166  0.981166   0.981166  1115.0 \n",
       "macro avg     0.957505  0.979632   0.938045  1115.0 \n",
       "weighted avg  0.980739  0.981112   0.981166  1115.0 "
      ]
     },
     "execution_count": 341,
     "metadata": {},
     "output_type": "execute_result"
    }
   ],
   "source": [
    "report"
   ]
  },
  {
   "cell_type": "markdown",
   "metadata": {},
   "source": [
    "#### Things to improve\n",
    "\n",
    "* Remove useless words from model\n",
    "* Spelling correction?\n",
    "* Specific TF-IDF implementation didn't normalize against document length\n",
    "* Better feature extraction"
   ]
  },
  {
   "cell_type": "markdown",
   "metadata": {
    "slideshow": {
     "slide_type": "slide"
    }
   },
   "source": [
    "### NLP Advanced Feature Extraction\n",
    "\n",
    "* Warning - This next part is farther away from my expertise\n",
    "* There are many state of the art text feature extractors\n",
    "* [Spacey](https://spacy.io/) - Python Library\n",
    "    * [Textacy](https://chartbeat-labs.github.io/textacy/getting_started/quickstart.html#working-with-text)\n",
    "* [AllenNLP](https://allennlp.org/)\n",
    "* \n"
   ]
  }
 ],
 "metadata": {
  "celltoolbar": "Slideshow",
  "kernelspec": {
   "display_name": "Python 3",
   "language": "python",
   "name": "python3"
  },
  "language_info": {
   "codemirror_mode": {
    "name": "ipython",
    "version": 3
   },
   "file_extension": ".py",
   "mimetype": "text/x-python",
   "name": "python",
   "nbconvert_exporter": "python",
   "pygments_lexer": "ipython3",
   "version": "3.6.8"
  },
  "latex_envs": {
   "LaTeX_envs_menu_present": true,
   "autoclose": false,
   "autocomplete": false,
   "bibliofile": "biblio.bib",
   "cite_by": "apalike",
   "current_citInitial": 1,
   "eqLabelWithNumbers": true,
   "eqNumInitial": 1,
   "hotkeys": {
    "equation": "Ctrl-E",
    "itemize": "Ctrl-I"
   },
   "labels_anchors": false,
   "latex_user_defs": false,
   "report_style_numbering": false,
   "user_envs_cfg": false
  },
  "rise": {
   "footer": "<h3>MDP - Fundamentals of Machine Learning</h3>",
   "header": "<img src=\"assets/block-m-maize.png\" height=\"55\" width=\"72\"></img>",
   "theme": "serif"
  },
  "toc": {
   "base_numbering": 1,
   "nav_menu": {},
   "number_sections": true,
   "sideBar": false,
   "skip_h1_title": true,
   "title_cell": "Table of Contents",
   "title_sidebar": "Contents",
   "toc_cell": true,
   "toc_position": {
    "height": "47px",
    "left": "1997.97px",
    "top": "0px",
    "width": "159px"
   },
   "toc_section_display": false,
   "toc_window_display": true
  },
  "widgets": {
   "application/vnd.jupyter.widget-state+json": {
    "state": {
     "13b881aaca124abfa87119aab4d93e71": {
      "model_module": "@jupyter-widgets/controls",
      "model_module_version": "1.4.0",
      "model_name": "SliderStyleModel",
      "state": {
       "description_width": ""
      }
     },
     "1dadecf5953544818fe9790a0fe21ced": {
      "model_module": "@jupyter-widgets/controls",
      "model_module_version": "1.4.0",
      "model_name": "VBoxModel",
      "state": {
       "_dom_classes": [
        "widget-interact"
       ],
       "children": [
        "IPY_MODEL_3defab94629b4441b116a4b7f27d3234",
        "IPY_MODEL_2f44b8c9425f4691899aa9dcb162e02b",
        "IPY_MODEL_8fdaaa30c36e48789391ecfe04c7555a"
       ],
       "layout": "IPY_MODEL_a4dfd634922243b6915a0cb98ffeb86c"
      }
     },
     "2f44b8c9425f4691899aa9dcb162e02b": {
      "model_module": "@jupyter-widgets/controls",
      "model_module_version": "1.4.0",
      "model_name": "IntSliderModel",
      "state": {
       "description": "num_samples",
       "layout": "IPY_MODEL_f5926b0ce39d4a9c88027567e7572253",
       "max": 500,
       "min": 100,
       "step": 200,
       "style": "IPY_MODEL_13b881aaca124abfa87119aab4d93e71",
       "value": 100
      }
     },
     "3defab94629b4441b116a4b7f27d3234": {
      "model_module": "@jupyter-widgets/controls",
      "model_module_version": "1.4.0",
      "model_name": "IntSliderModel",
      "state": {
       "description": "sigma",
       "layout": "IPY_MODEL_9f3d7ef837ca443dafd47992007beb4f",
       "max": 30,
       "step": 5,
       "style": "IPY_MODEL_7551e19f672d4e30bb0c65ae31147388",
       "value": 20
      }
     },
     "7551e19f672d4e30bb0c65ae31147388": {
      "model_module": "@jupyter-widgets/controls",
      "model_module_version": "1.4.0",
      "model_name": "SliderStyleModel",
      "state": {
       "description_width": ""
      }
     },
     "8fdaaa30c36e48789391ecfe04c7555a": {
      "model_module": "@jupyter-widgets/output",
      "model_module_version": "1.0.0",
      "model_name": "OutputModel",
      "state": {
       "layout": "IPY_MODEL_d11b0eb98971411d8ef2b4c671ee8fe0",
       "outputs": [
        {
         "data": {
          "image/png": "iVBORw0KGgoAAAANSUhEUgAAA9IAAAH7CAYAAAAgr6cJAAAABHNCSVQICAgIfAhkiAAAAAlwSFlzAAALEgAACxIB0t1+/AAAADl0RVh0U29mdHdhcmUAbWF0cGxvdGxpYiB2ZXJzaW9uIDMuMC4yLCBodHRwOi8vbWF0cGxvdGxpYi5vcmcvOIA7rQAAIABJREFUeJzs3XmcjXX/x/HXmTNjtjPGGGPPzmWNpKSoxE2iuFMpsoR2lUrdbffdZilUdyU/JNlKoYVEJEtE5C4hXBKRnTFmMWY75/z+OGdOM5zZz8wZM+/n4zGPMdf1va7rc33NNed8znezOJ1ORERERERERCR/AvwdgIiIiIiIiMjFRIm0iIiIiIiISAEokRYREREREREpACXSIiIiIiIiIgWgRFpERERERESkAJRIi4iIiIiIiBSAEmkRERERERGRAlAiLSIiIiIiIlIASqRFRERERERECiDQ3wGIiIhIyTAMIwC4D3gIaAAcBxYBL5qmmegu0w6YCLQDEoCZ7v3pWc7TGHgT6ARkAAuApzPP4S5TzV2mOxAELAUeN03zWPHepYiISPFTi7SIiEj58TQwCfga6AO8AQzGlQhjGEYj4DvgHHCHe/8TwFuZJzAMIwpYBVQDBgHPAncC87KUCQSWA+2BB91f1wDfuPeJiIhc1PRiJiIiUg4YhmHBlUhPNU3zWffmlYZhxAKfGIbRBhgBxAO9TdNMA5YahpEMvGsYxjjTNA8DDwNRQBvTNGPd5z7kLtveNM1NuBLr1kBz0zR3uctsBXYAfYFPS+i2RUREioVapEVERMqHCGAu8PF523e7vzcEugFfuZPoTAsBq3sf7u9rM5NotxVAInBTljI7M5NoANM0dwK7spQRERG5aKlF2rsMXB8yJPg7EBERuehVBBz4+TXXNM0E4FEvu/q4v+8CLgHM8447aRhGAmC4NzXFlZBnLWM3DGP/eWWyncdtb5YyBaXXZhER8ZUivzYrkfYuwOl0WpxOIotyEovF9d3p9EVIZZfqKX9UT3lTHeWP6il/fFVPFgtYLJZS2QPMMIz2wDPAl0Cce7O3RDUR15sOgMh8ltmZQ5nGhQw3wOl0WtznFhERKZKivjYrkfYuwekkMjY2qUgniYwMBSA+/pwvYiqzVE/5o3rKm+oof1RP+eOreoqOtmGxlL5WVMMwrgGWAPuB4UCwe5e3jw4suD65z/y3L8oUlE9emy8GekZ9Q/XoG6pH31A9+kZpem0ulZ+Qi4iISPExDKMfsBI4CHRxj3fOfENR0cshNlyTkOH+7q1MRAHLiIiIXLSUSIuIiJQjhmE8gWupqo3AtaZpHgUwTTMJOAw0Oq98VVxJceaYZ9NLGStQP7cybo3wPnZaRETkoqJEWkREpJwwDGMYrrWh5wM3mqZ5fuvwCuBmwzAqZNnWF7ADa7KU6WwYRuUsZbrharVemaVMS8MwPBOLGYbRHNckZCsRERG5yGmMtIiISDngbll+BzgATALaZslzwTWj9njgLlxrQv8XaAKMBaaZpnnQXW4y8AjwnWEYrwDR7uOWmaa5wV3mU+A54BvDMJ7FNTb6NVzrSM8vtpsUEREpIWqRFhERKR9uBMKAusA6XF27s37daJrmbv5uXV4IPAG8CTyWeRLTNE8BnYFY4CNgDK7kuF+WMqnAP4BfgPdxJe4bgO6maWYU502KiIiUBLVIi4iIlAOmac4GZuej3DrgqjzK7AC65lHmL+DWgsQoIiJysVAiXUhOp5OzZ+NJT0/H4fC+kkdiohWAtDR7SYZ20VE95Y/qKW/luY4CAgIICgoiPDwSS+YCyCIiIuIX5+cK5fk9ii/lVY8l+X5IiXQhOJ1Ozpw5RWpqMoGBQVgsVq/lMjL0oOSH6il/VE95K891ZLenk5qaTHp6OpUqVVEyLSIi4ifecoXy/B7Fl/Kqx5J8P6REuhDOno0nNTWZiIgowsO9LZPpYrW6/uPsdmdJhXZRUj3lj+opb+W9js6eTSAxMY6zZ+Ox2Sr5OxwREZFyyVuuUN7fo/hKfuqxpN4PabKxQkhPTycwMCjXJFpEpKSFh1ckMDCI9PR0f4ciIiJSbilX8K+Sej+kRLoQHA5Hjt25RUT8yWKx5jhvg4iIiBQ/5Qr+VxLvh5RIi4iIiIiIiBSAEmkRERERERGRAlAiLcXG6dRkCiIiIiIiUvZo1m7J09KlXzF27Mt8/vnXVK1aLc/ySUlJvP32RHr2vIU2bdqWQIQiIiIiIlKcxox5iWXLluRapk2btkyaNK3Q17jttptp1+5Knnnm34U+R0lRIi0+98cfe1m2bAk9evTydygiIiIiIuIDQ4YMp3fvvp6f33zzNaxWK4899pRnW3h4eJGuMXbsBMLDbUU6R0lRIl3KxCelcjI+hZjIECJtwf4OR0REREREhFq1alOrVm3Pz2Fh4VitgbRs2cpn12jSpKnPzlXclEiXIhu2H2XWcpPAAAsZDieDuxtc3apGicbgcDiYPXsGixd/QXz8Ga688ipat74sW5lFiz5n0aLPOXjwTxwOJ/Xq1WPQoKFcf30Xfv55C48++gAAjz76gKd7h91u5+OPZ7NixTIOHz5MQICFxo0N7r33Qa644ooSvUcRkfz4Yek8QsMiaHhZF3+HIiIictEYMeI+qlevQXJyMlu2bObKK69i9OjXOXz4EDNmTGXLls2cOXOGihUjueqqq3nkkSeoWNG15nbWrt1Hjx7h9ttvYcyY8SxfvoyffvqRwMAgbrihC4888iQhISF+vU8l0qVEfFIqs5abpGc4yFw6fNZykxb1K5doy/Tkye+wYME8hgwZTvPmLVm9eiVTpkzy7F+w4BMmTXqLYcPup2XLS0lMTGDu3Fm89NLzLFjQCsNoylNPPceECWN54ol/cdlll7vP+zaLF3/BAw88QoMGDTl58iQzZ77Pf/7zDF98sYSQkNASu0cRkbyknkvit02rCAmzKZEWERGfsN3ZlwrfrvB3GKR27UbCxwuL9RrffvsNXbt2Y+zYCVgsFlJSUnjkkfuJjq7Ck08+i81mY/v2X5kxYxrBwSGMGvVMjud67bXR9Ox5C+PGvcHu3b8xdepkKlWqzL33Plis95AXJdKlxMn4FAIDLJ4kGiDQauFkfEqJJdKJiYksXPgJd901kHvuuReA9u07cPLkSTZt2gDA0aOH6d9/EIMGDfUcV716TYYNu5vt27dxww1dqVevAQD16tWnfn3Xv0+dOsn99z9M3753eI4LDq7A888/zb59+2jevEWJ3KOISH6kpSQDUEEf8omIiBRYYGAgTz/9PMHBrlZj09xN9eo1+Pe/X6FGjZoAtG3bjp07d7B168+5nuuaazoxYsRIANq3b89PP21iw4Z1SqTFJSYyhAxH9uWiMuxOYiJLrsvCb79tJyMjg44dr8u2/YYbunoS6UcffRJwJd0HDvzJ4cN/8fPPW1zxZqSTk5dfHgdAXFwcBw8e4NChg/zwwzoA0tNzPk5ExB8yE+ngkDA/RyIiImVF0iefYbeXj+Vha9Wq7UmiAQyjKZMnT8fhcPDXXwc5dOgv9u/fx4EDf+Z5rlatWmf7OSamGsePn/B1yAWmRLqUiLQFM7i74RojbbWQYXeNkS7Jbt0JCQkAREVFZdseHV3F8+/Dhw8xfvxY/ve/zQQFBVGnTj0aNWoM5L5u9O7dO3njjdfYtWsnISEh1K/fgGrVqrv3lo8/KCJy8fAk0qFFm31URESkPIqKir5g2yefzGXOnA+Jj4+ncuVomjZtRkhIKOfOJed6rvPHQgcEWHA6HT6NtzCUSJciV7eqQYv6lf02a3elSpUAOH06NtuMfAkJ8QA4HE6eeuoxKlQIZvr02TRq1ITAwED279/H8uVLczzv2bNJPPnkIzRqZDBnznzq1q1HQEAAGzeuZ82aVcV7UyIiheDp2q1EWkREpMhWrPiGSZP+y0MPPcZNN93syTv+/e9n2LNnt5+jK5wAfwcg2UXagmlUK9IvS1+1bHkpwcHBrF69Mtv2H3743vPvgwcPcPPNfWjatDmBga7PYX780dXt2+FwfTJktWb/tTpw4E/i4+Pp168/9es3ICAg4Lzj1CItIqVLWqorkQ5RIi0iIlJk27ZtpVKlSvTvP9CTRCcnJ7Nt29aLNhdQi7R4hIWFMWTIcN5///8IDg7hsssuZ8OG9Z6xzAEBFmrUqMnChZ9QpUoM4eHhbN68kQULPgEgJSUFAJstAoCNG38gIqIiderUIzw8nJkzp2OxQECAlTVrVvH114vcx53zw92KiOTs78nGNEZaRESkqJo3b8GXXy5k8uS36dChIydPnmDevDmcPh1LpUpReZ+gFFKLtGQzcOA9PProE3z33QqeeeYJ9u3b65klD2Ds2IlER1dh9OgXefHFZ/nttx289tqb1K1bj19//QWAunXr0bPnLXz22XxGj/4PNpuNcePewOFw8MIL/2L06Bc5fvwYkyZNIywsnK1bf/HX7YqIePX3GGkl0iIiIkXVo0cv7rnnXlauXMGTTz7KBx9MpXXrtjz11HPExZ3m4MED/g6xwCy5TRBVjp1xOJyRsbFJXnfGxh4HIDq6Wq4nsVotAOVmdr7CUj3lj+opb6qj/P19iox0LekUH6/eIDnZ9M1c/ty5mWt7D6ZGw8uLdK7oaBsBAZZ4oJJvoiu3cn1tLkv0jPqG6tE3VI8F5+21WO9RfCO/9ZjX+yFfvDarRVpEROQ8mWOk1SItIiIi3iiRFhEROU+6e+4GLX8lIiIi3iiRFhEROU9q5hjpECXSIiIiciEl0iIiIudJ12RjIiIikgsl0iIiIuf5e9ZutUiLiIjIhZRIi4iIZGHPSMduTyfAaiUwqIK/wxEREZFSKNCfFzcMIwC4D3gIaAAcBxYBL5qmmegusxLo4uXwK0zT3OIu0xh4E+gEZAALgKczzyEiIpJfWVujLRaLn6MRERGR0siviTTwNDAamAB8BzQBXgWaAze6y7QG3gY+Oe/YXQCGYUQBq4CjwCCgGjAeuAToVbzhi4hIWeNJpEM0PlpERES881sibRiGBVciPdU0zWfdm1cahhELfGIYRhvgBFAF+MY0zR9zONXDQBTQxjTNWPe5DwFLDcNob5rmpmK9ERERKVP+XkNa46NFRETEO3+OkY4A5gIfn7d9t/t7Q6CN+9/bcjlPN2BtZhLttgJIBG7yQZwiIlKOpGnGbhERkVLB6XT6O4Qc+a1F2jTNBOBRL7v6uL//BvwTSAVeMQyjD2DD1Y17pGmae9zlmuJKyLOe224Yxn7AKGx8FgtERoZ63ZeYaCUjw47VmtfYOdd+q7WwUZQXqqf8UT3lTXUUEACBgdYc/36Baz/k/DeuvDsekAFASJgtz7rMDw2zFhGRsmDMmJdYtmxJrmXatGnLpEnTinyttLQ0pkx5lxYtWtGlS7cin684+HuMdDaGYbQHngG+NE1zt2EYrYFg4BxwK65xzy8C6wzDaG2a5jEgEkjwcrpEoGLJRC4iImVF6jl17RYRETnfkCHD6d27r+fnN998DavVymOPPeXZFh7um9fO2NhTzJ8/j3//u5lPzlccSk0ibRjGNcASYD8w3L15NK4x1KuzlNuIa6KxR4DncTVBeWvztwCOwsbjdEJ8/Dmv+9LS7ADY7bl3NchsFcurXHlX2uspLS2NiRPH8dNPm0hOPkuTJk15/PGnadCgYYnGUdrrqTRQHYHD4fobldPfL/i7JTq3MuVZfNwZAIKCQ8nIyL0u8yM62qZWaRERuejVqlWbWrVqe34OCwvHag2kZctWfozKf0rFOtKGYfQDVgIHgS6Z451N09yRNYl2b9uHK5Fu7d4Uj/eW5wj3PpEisdvt1KxZi6lTP2Tp0lVcc00nnntulL/DEpFikpbqSpw1a7eIiEjhrFnzHUOHDuCGG66mT58eTJ78Dunp6Z79KSkpTJgwlj59etC5cwcGDLiNTz/9CIBDh/7i9ttvAeDVV/9Dv359vF7D3/yeSBuG8QQwD9gIXGua5lH3dothGAMNw+jk5bBQ4JT73ybQ6LxzWoH67n0iRRIaGsqQIcOpWrUaVquVvn37cfjwIeLjz/g7NBEpBmkpZwEIDlPXbhERkYL65puveeGFf9GoURPGjXuDAQMG88UXC3n11f94yrz11ng2b97EI488wRtvvEuHDh159923WLFiGVWrVmPMmAkADB16H6NHv+6vW8mVX7t2G4YxDHgD+BQYZJpmWuY+0zSdhmE8BaQZhnGlaZoO9zFtcSXO49xFVwCjDMOobJrmafe2brgmJltZQrdSJiUmJvL22xP56acfiYuLwzCa0r791Wzc+AMffDCnwOdbtmwJ06ZNZt68zwkJCSmGiF22bNnM8uVL2bFjGydOHKdixUiaNWvBsGH307Bho7xPkIft238lKqoykZGVfBCtd97uoXnzFgwffj/16xf9HnzhxInjfPzxHExzF3v37uHcuXO8884U2rZtV+zXzun/+N5776dRo8bZyiYnJzNt2nusXr2SxMQk6tdvwD33DKdjx+sKfN3Dhw/Rr18fXnxxNP/4x415H3Ce6dOnFOr5KalnR1zSU9QiLSIivrd48eccOLDf32FQp059evX6Z7Gc2+Fw8H//9y6dOl3Pc8+9CED79h2IiYnhhRf+Rb9+A2jRoiVbt/5M+/Yd6NLlHwC0bduO0NBQIiIqUqFCBZo0cc0ZXatWbRo3LvT80cXKby3ShmFUBd4BDgCTgLaGYVyV5asK8BJwOfCRYRj/cCfeXwO/AJnvRCfjmtn7O8Mw/mkYxnDgI2CZaZobSvauypa33hrPpk0bGTnyKSZP/oARIx5n3rw5DB/+QKHO161bD0JCQvjoo1k+jjS7L7/8jOPHj9GvX38mTnyHESMe5/jxY9x77yB27NhepHMnJiYyYcJY7rvvIR9F611O9zBsWNHvwVcOHfqLlSuXExoaxuWXX1Gi1y5I/Tz33ChWrPiGe+99kAkT/ku9evV57rmn2LhxfYGvGxFRkSlTPuTaa68v8LHHjx8r9PNTUs+OuKRmtkhrsjEREZEC+fPPfcTGnqJjx2vJyMjwfF111TVYrVZ++ulHwJU4L1r0GU899RiffTafo0ePMGzY/XTocI2f7yD//NkifSMQBtQF1nnZP9A0zbnuZa+eB74Akt3fnzVN0w5gmuYpwzA6A//FlUAnAvOBp7ycU/IpNTWFNWtWMXDgEDp37grApEn/JTq6SqF/wa1WK71738qsWTO4++7BBAcXT8vak0/+i6ioytm2XXnlVdx++y3Mmzfb01WkoFJTU3n22Se5+upO9OrVu0DHjhhxHzVq1OT551/KV3lv99ChQwf69r25SPfgyxjbtGnLkiXfAvD992tYv/77Erku5Px/fMcdt/DRR7MZPXo8ABs3rmfLls2MGTOB667rDLj+cB85cphJk/5Lhw4dCxRrxYoVCz2hxoIFnxT6+SmpZ0dc0jPHSCuRFhERH7rlllvL/ISo8fGuKarGjXuFceNeuWD/qVOu0bkjRz5FtWrVWbFiGW+9NZ633hpPq1atGTXqWZ/0IC0JfmuRNk1ztmmally+5rrLLTJN80rTNG2maVY1TfP+LF24M8+1wzTNrqZphpmmWc00zQdM00z0z51d/F599d906dKRtLRUPvhgKh07tmPUqEdZuvQrunXrcUH5kydP0KXLNYwd+3K27cuXL6VTpyuYP3+eZ9s//nEjSUmJrFpVfL3uz0+wACIiIrjkkks4ceJEtu35jd1ut/PSS88RE1OVESNGFlvsmXK6h9q16xT6HnwtIMB/UyzkXj/HPdu+/34NNpuNTp3+7sZtsVjo0aMXBw78yf79+7KdY+/e33nxxWe59daedO7cgd69u/Pkk496zvnww/fy+OMPZzvmwQeH8uSTj/Ljjxt46KHhdO3akT59engmzABIT08v8vNTEs+OuKSlaPkrERGRwrDZbACMHDmK6dNnX/B1992DAQgODmbIkOF8/PFnLFz4FY8//hR//XWQ0aP/k9vpSxW/TzYmpc/AgUO58867AXjrrfeYMuVDBg68h4SEeNq0aXtB+ZiYqvTrN4Dly5fy55+ucR/r169l7NiXGTr0Pu644y5P2ejoKtStW4+NG3/wem2n05mtG0huXwURFxfHvn1/XLBkVX5jf/310aSmpvL88y9h8dM6Nq572Fvoeyjr/q6fvz/F3LfvD+rVa3BB0t+wYWPP/kz79+/j/vuHkJaWzsiRT/Hmm5N46KHHsNnCiYioiNPp5Pff99CkSVPPMQ6Hg717f+fgwQN88MEU+vS5jXHj3qBhw8a8++5bnkR9584dRX5+8np2xDecTuffibTGSIuIiBRI/foNiYyM5NixYzRt2tzzFRFRkf/7v0kcPHiA1NQU7rzzn57GgurVa9C3bz+6dPmHp/HCnw02+VVq1pEuC5KXvYn9r23+DgPrJZcS1uOJQh9fr159kpPPUrVqNa64oj2AZ2xm5sD/891992C++upLpk2bzG239eM//3mO227rxz333HtB2SZNmvLLL//zep5ffvkfjz6avzGkCxYspkaNmnmWczqdjB8/BqfTyV13DSxw7MeOHWXp0q+oUCGYHj06e46bOPEdWre+zOv17Ha71+3nfwAQGJi/R9DpdPLaa6MLfQ8lEWN+FNd1s/4fDxjwd/3Ex8dTp06dC8pXrOhaMS8h4e8V8lasWEZgYCBjx07I9mFJ9+43AXDw4AHPOuKZDh48wLlz52jYMJpJk6Z5Yq5UKYpNmzZw8OAB6tdvwI4drr8LRX1+cnt2xDcy0lNxOh1YAytg9eHvvoiISHkQGBjIsGEP8PbbEwFo3/4q4uPjmT59KufOJdO4cROCg0MwjGbMmDEVq9VKgwYNOXDgT7755mu6du0O/N2yvWXLZi65pA7Nm7f02z3lRO8SxKs9e0wM4++E4dSpU1itViIivC3Z7VqQfejQ+3jjjdfYvHkj3brdyIgRj3stGxUVxenTsTgcjgs+bWratBnTp8/OV4xVqsTkq9x7773NunVreO65F6lXr36BY69evQbr12/J17Ug9w8Dvvnm62w/5/fDgPfee5vvv1/DCy8U7h5KIsb8KK7rZv4fZ9ZP9vFHOfcgyNq5oHLlaM6ePcv48WPo3ftWDKNZtoR6z57dANmei8xt9977YLbEPzNBj4lx/Y766vnJ7dkR38hsja5QDlqjDcNoA/wE1DdN85BhGPWA3KaTfck0zZfdx64Eungpc4VpmlvcZRoDbwKdgAxgAfC0hl6JiJRtt956OzabjXnz5vD55/MJCwvnsssu5/77H/YMz/vXv55n2rT/4+OPZ3P6dCxRUZXp0+c2hg27H4DwcBsDB97DwoWfsHHjehYvXlHq3vsokfah81uBrVbXm/CLbVKBjIwM9u3byzXX/L2Ed2pqCkFBQbl2a65btx4AISEhjBr1bI5lK1QIxm63k56eTnBwcLZ9oaFhNGrUJF9x5qfFcurU9/jkk7k89tgobrrp5iLHnh/ePgwYP34sVarEMHRo9hbG/HwYkHkPjz8+ip49b8nx96kg9+DrGPOrOK6b9f+4Z89bsu2LjIzM1uqcKSEhAYCIiEjPtn/+8zbS0lJZsmQRX331JVWqxNCjRy+GDBlOcHAwe/bsxmazUatWbc8xe/aYhIaGXtBl2zR3uz9hdXUz99Xzk9uzI75RXhJpwzAMYAnZ3wccBTp4KT4W1woaWSdcaA28DXxyXtld7vNHAavc5xwEVAPGA5cAvYp+ByIi4m+TJk3LcV+3bj28zg2TKSwsnJEjRzFy5Kgcy9x//8Pcf//DOe73NyXScoH9+/8gLS0tWxfWyMhKpKSkkJaWRoUKFS44xjR38+yzT9KqVWu2b/+VlSuXc+ONPb2ePyEhntDQUK+JgC+7dk+fPoU5cz7koYce5fbb78yxXEFiz4+wsHCaNm1+3rYwIiMjL9iel6z3kNtY54Legy9jLAhfXzev/+P69RuwZs2qC1pw9+3bC5BtvHlgYCADBgxmwIDBHD9+jAULPmHOnA+JiKhI//4DMc3dNG5sXNBK3ahRE6xWa7brmuZO6tSp61nz2VfPT27PjvhG1kT62FdLCIyMJKh18a+NXlIMwwgE7gNeA9Kz7jNNMxX48bzyvYHOwO2mae5xb6sJVAG+MU0zW/ksHgaigDamaca6jzsELDUMo71pmpt8d1ciIiIlr3S1j0upYJqZXVibebZldic+fPjQBeX//HM/Tz45grZtr2DSpGm0bduOadMmk5qa6vX8R44cpl69Bl73ZbZY5ucrtxbLGTOmMXPmdIYPf4D+/QflWK6gsZeksnAPxSk/9XPttZ1JSkrkhx+yL831zTdfU6dOXerX9/57WK1adYYMGY7FYsFud43d3rPHzPbhEsDvv+/x+gGAae4ulucnt2dHfCMzkQ44l8pfs+dwdOFnfo7I5zriahl+A/hXbgUNwwgF3gG+Nk1zYZZdbdzfc5sUpBuwNjOJdluBa4nKmwoatIiISGmjFmm5gGnuJjo6mipVqni2XXbZ5QD89tv2bMnH0aNHePzxh2nYsDEvvzwWq9XKAw+M4L77hrBgwTzuvntItnM7HA527fqN3r37er22txbLgpo3by4zZkzj6qs70a5de3bs2O7ZV6FCkCcZKmjsJcnbPWQOFbBaA0vNPaxe7VqKadeunQBs3foz8fFnCAkJLfR64/mR0/+x1WohKCiIRo1ck3p16HANbdu247XXXiU+Pp6aNWuxbNkStm3byrhxb3jO98Ybr5OcfJYrrmhP1arVOH06lk8//ZjIyEhuvLEnR44cJjExIdv46MOHD12wDSApKYnDhw9x6613eLb54vnJ69kR30hLdSXS9r9cH3pU61nmcr5dQAPTNE8YhjEkj7KPAbW4cCx0ayAVeMUwjD6ADVc37pGZrdZAU2Bu1oNM07QbhrEf8D7rXj5YLBAZGVrYwy8agYGuXi7l4V6Lk+rRN1SPBZeYaCUjw+557+aS+T7OPzGVHfmrx4AA1+9uTr+3vliER4m0XGDPnt0XtLxVrVqNNm3asn79Wnr16g1AbOwpHn/8YapUqcK4cW94uqw2b96S66+/gblzZ9KrVx8qVarkOc8vv/yPpKSkXMcE8PrWAAAgAElEQVRMFFVm6+OGDevYsGFdtn3Vq9dg4cKvChV7SbpY7uHf/34m288zZkzLFmNxyU/9gGvN6HHjJjJ16ntMmzaZpKRE6tWrz5gxE+jY8VrPMXXr1mX16u+YNOm/JCefJTo6hiuuuJJXX32NmJiqrFnzHUC25+L3302ACz74Mc1dOJ3ObAm2L56fknh2JGuLdAphDRsQ07UrCUllp3eHaZrH8y4FhmFUAB4F5pmmufe83a2BYOAccCuucc8vAusMw2htmuYxIBJI8HLqRMD7rHsiIiIXEYvTeXFNhFVCzjgczsjY2CSvO2NjXe9DoqOr5XqSi3WysZysXr2Sl19+gS++WOqZca+gRo9+kaNHj/Dee+97tpW1eiouqqe8leY6Kurz4+3Z8SY/f58yP52Njz9X4DjKup+Xfczvu36kxolUOj/5H2yNGhW5nqKjbQQEWOIB/3wylwN3i/SHwCWmaR46b19/4COgtWma287b1xKIMU1zdZZtDXC1dk80TfN5wzDSgDGZs3xnKfcDEGeaZmEmHMv1tbks0TPqG6pH31A9Fpy31+LS/B7lYpLfeszr/ZAvXps1Rlry7frru9C4scFHH+VvearzHTlymO++W8EDD4zwcWQipV9Rnh89OyXD6XSSsNOVM9oaNMLWqJGfI/Kr24Bt5yfRAKZp7siaRLu37cOVSLd2b4rHe8tzhHufiIjIRU2JtOSbxWLhX/96gaioqEIdf/z4MUaOfIpWrVrnXVikjCnK86Nnp2Qkbt5Eqnu5tMpXXu3naPzHMIwgoDsw38s+i2EYAw3D6HThkYQCp9z/NoFsn0QYhmEF6rv3iYiIXNQ0RloKpFGjxjRq1LhQx1522eWeSZdEyqPCPj96doqfPTmZk/PnYY90dRkLrlS44StlRCsgDFh//g7TNJ2GYTwFpBmGcaVpmg4AwzDa4kqcx7mLrgBGGYZR2TTN0+5t3XBNTLayuG9ARESkuCmRFhGRci920RfY4+Nx1KgMZFAhJMzfIflTK/f3nTnsfwn4DPjIMIwZQB1gNPALMMddZjLwCPCdYRivANG4lt1aZprmhmKKW0REpMSoa7eIiJRrKQcPcGbVSggIwBkRDkCF4HKdSGfOzBLnbadpmp8DfYCGwBe4WqEXA91M07S7y5wCOgOxuCYtG4Orq3i/Yo1cRESkhKhFWkREyi2nw8GJubPA6aRS126kn9oKUC5apE3TnAnM9LJ9PK7W49yOXQQsyqPMDqBr4SMUEREpvdQiLSIi5Vb8uu9J2bcPa6VKVO51C+mpruVdgoJD/RyZiIiIlGZqkRYRkXIpIyGBU58tAKBqv/7Y3R8tBwWHEhCgz5lFRESKIi0tjYkTx/HTT5tITj5LkyZNefzxp2nQoKG/Q/MJvVMQEZFy6dTCT3EknyWseQts7a4gLSUZKB/dukVERIqb3W6nZs1aTJ36IUuXruKaazrx3HOj/B2WzyiRFhGRcid59y4SNvyAJTCQqgMGYrFYSEt1J9Lubt1xiSmYB+KIT0r1Z6giIiIXpdDQUIYMGU7VqtWwWq307duPw4cPER9/xt+h+YS6douISLnizMjgxNzZAFS+qRcVqlUHIN3TIh3Ohu1Hmb3cJNAaQLrdweDuBle3quG3mEVERC5227f/SlRUZSIjK/k7FJ9Qi7SIiJQrp5cvI+3YUYKqVSeqR0/P9syu3ZbAYGYtN0nLcJCcmkF6hoNZy021TIuIiBRSYmIiEyaM5b77HvJ3KD6jFmnJZsSI+9i69WfPzwEBAYSGhlKvXgNuvrkPPXvegsViKfG4NmxYz7PPPsnatZtK/NoiUnaknTzB6SWLAah29yACgoL+3ufu2p1hCSYwwEJ6luMCrRZOxqcQaQsuyXBFREQueqmpqTz77JNcfXUnevXq7e9wfEaJtFygWbPmPPbYU4BrkoCEhDOsXbua1157lb17f2fkyJKdJGD79l95+eXnS/SaIlL2OJ1OTnw0B2d6OhHtOxDWrHm2/Zkt0hERNjIczmz7MuxOYiJDSixWERGR0iw9PZ2PP57Nt98u58iRw6SlZe+11aJFK6ZO/RC73c5LLz1HTExVRowY6adoi4cSablAWJiNli1bZdvWqdP1REdX4aOPZtG5cxdat76s2ONITU1h3ry5zJw5nbCw8GK/noiUbUn/+4nkHdsJCA0l5o47L9ifluJaQzoiIoLB3Q1mrzAJDPh7jLRao0VERFxeeeXffP/9au64oz/t2l3JsWNHmTz5bc6dO8eAAYNp0sQA4PXXR5Oamsqrr77ul16txUmJtOTb4MFDWbjwExYv/tyTSDscDubOncmSJYs4efIENWrUpH//gfTq1cdznNPpZO7cmXz55WfExcXRunUbunXrwZgxL7FgwWJq167l9Xrfffct8+fP45FHnuDMmThmz55RIvcpImWPPTmZE/M+BqBK39sJjIy8oEzW5a+ublWDq1rX5MTpc4QGWpREi4iITwx9bVWO+wbdaHB9G9f74jVbDzP7GzPHsjOeucHz75c//IkDxxO9lru2dU2G9GgKwJ/HEnhl5pZsxxbGsmVLWL16Jc8//xI9evTybD97NonJk9/huus607Rpc44dO8rSpV9RoUIwPXp09pSbOPGdEmmUK25KpCXfwsLCadasBdu2/erZNnHiOJYtW8LgwcNo3rwlmzf/yOuvjyElJYXbbnO1+MyYMY3Zs2cwcOA9tGrVmlWrvmXChLF5Xq9t23YsXLiYsLBwPvhgarHdl4iUfae++Ax7/BlCGjYi8trrvZbxJNLBrnWkoyJCiIoIIT7+XEmFKSIiUuotWbKIxo2bZEuiAerUqQdAQkICANWr12D9+i0lHV6JUSLtQ5N/ncFvsbv9HQYtopvyUOuhxXLuypWj2bnzNwAOHjzAV199yUMPPcZdd90NwJVXXoXDYWf69Cn06tUHp9PJxx/P5o47+jN8+AMAtG/fgdjYU/z444Zcr1W9upaaEZGiO7fvD+LXrAKrlWoDB2MJ8L5ghWcd6ZCwkgxPRETKkfy2Bl/fppandTovL95zRb7K1atescit0QkJCWzf/isDBgy+YN+pUycBqFIlpkjXuFho+SsptJ9//gmn08k113QiIyPD89Wx43UkJSWxc+cOduzYRmpqKtddl/2h7dKlm5+iFpHyxGm3c2LOTHA6ifpHd4JrX5Jj2ZRkV7e44DBbCUUnIiJycTl+/BgOh4OYmKoX7Fu/fi2XXFKHBg0a+iGykqcWaR86vxXYanUNqLfbnd6KX5ROnjxBTIzrU6b4+HgA+vfv67XsqVOnyJxTICoqKtu+ypWjiy9IERG3uJUrSP3rLwKrVCH65pyX3HA6nZxLjAMgzFappMITERG5qERERABw4MD+bNt//HEDP/64gVGjnvFHWH6hRFryLSkpCdPcTdeurtZkm83VajNp0jRCQi5cFqZGjZrs378PgLi409SqVduzLy7udAlELCLlWfqpk8Qu+gKAagMGERCc84Rh6WkpZKSnERhUgaDg0JIKUURE5KJSvXoNWrVqzaJFn1O1ajWaNDHYtu1XPvpoNt269aBPn9v8HWKJUSIt+TZ37kzS0lLp3dvVAt26dVvANVaiTZu2nnJr167iq6++ZNSo52jcuAnh4eGsW7eWli0v9ZRZt25NicYuIuWL0+nk+Nw5ONPSsLW7kvBWl+Za/lziGQBCbZXK3PIcIiIivjR69Ou8/fYbzJnzIWlpadStW48RI0bSp4/3XqpllRJpuUBychI7dmwHwOGwc+bMGdatW8OyZUsYMGAwLVq0BKBRo8Z07dqdceNe4ciRQzRp0pT9+/9g6tTJGEZTqlevDsCdd97NzJnTCQ4OplWrS1m//nvWr/8eAItFw/RFxPeSftpM8o5tBISFUfWu/nmWT05yJdJhEerWLSIikpvo6Cq88so4f4fhd0qk5QK7du3kgQfuAcBisRAebqNp02aMGzeRTp2uz1b2hRdeZtasD/jsswWcPHmcypWj6dXrFs8M3QCDBw/D4XCwePEXzJ07k7Zt2zFo0FA+/PB9wsLUhVJEfMt+9iwn5n0EQJXb7iAwMu/kOGuLtIiIiEhelEhLNpMmTStQ+cDAQIYNu59hw+73uj8jI4Nvv/2G3r1vzVZm8uS3qVgxkooVI/N1ndyuISKS1anP5mNPTCC0cRMiO16bY7n4pFROxqcQExmiFmkREREpECXSUqwCAwOZM+dDvvhiIQMHDsFmi+C337azcOF8BgwY5O/wRKSMSd5jEv/9WrBaqTpwSI5rRm/YfpRZy00CAyxkOJzcfMlRAEJt+ftwT0RERMo3JdJS7MaP/y9TprzL66+PITn5LDVr1uLBBx/httv6+Ts0ESlDHOlpnJg9E4DKN/UiuGZNr+Xik1KZtdwkPcNBunvbgUNHqWJR124RERHJHyXSUuxq176E0aPH+zsMESnjTn+9hLRjRwmqXp3KN/XMsdzJ+BQCAyyeJBogxHIOUNduERERyR9NmSwiIqVKfFIqew/HE5+Umu9jUg8f5vSyrwGoNugeAoIq5Fg2JjKEDIcz27ZgpyuRVou0iIgUVUBAAE6n3d9hlGtOp52AHIZ3+YpapEVEpNQ4f+zy4O4GV7eqkesxToeD47M/BLudyOuuJ6yJkWv5SFswg7sbrutYLTjs6QRZ0gmwWgkOtfnydkREpBwKCgoiNTWZs2cTCA+v6O9wyp2zZxPIyEgnJCSsWK+jRFpEREoFb2OXZy03aVG/MpG24JyPW7OKlD/2Yo2sRJW+d+TrWle3qkGL+pU5GZ9CmDORdfMXE2qrhMVi8cGdiIhIeRYeHkl6ejqJiXGcO5eExWIls3HU4fBvbBe7vOrR6bSTkZFOcHAY4eHFO4GounaLiEipkDl2OatAq4WT8Sk5HpN++jSnPl8IQNX+d2MNy/+nz5G2YBrVisTqSAYgTN26RUTEBywWC5UqVcFmi8RqDQIgMNBKYKDVz5Fd/PKqR6s1CJstkkqVqhT7h+NqkRYRkVLB29jlDLuTmMgQr+WdTicn5s7CkZJC+GVtibi8XaGum7mGtMZHi4iIr1gsFmxZXlciI0MBiI8/56+QyoTSVI9qkRYREZ8ozCRhWWWOXQ4KDCA02EpQYACDuxs5dutO/GkTZ7f9SkBoKNUGDCx03OcSXYn0+TN2Z8SfxH72TKHPKyIiImWXWqRFRKTICjNJmDdZxy7HRIbkmETbk5I4Oe8jAKrc3o/ASlGFjv2clxbp9D3rOfb9hwRG1SC07+hCn1tERETKJiXSIiJSJPmZJCw+KTXP5DhTpC04zzInPv0Ye2IioUZTIjtdV6T4M7t2h0VUwul0kva/L0j7ebFrW9MOOHM7WERERMolJdKSzYgR97F168+enwMCAggNDaVevQbcfHMfeva8pcRmtU1LS+OTT+byzTdfc+LEcapWrUa3bj0YMGAwQUFBJRKDiOQtc5Kw9CzbMicJi7QF+6y1OtPZHdtI3LgBS1AQ1QbdU+S/SZldu0PCbKSsnkbG3o1gsVCpyz3YLuteKsZhiYiISOmiRFou0KxZcx577CkA7HY7CQlnWLt2Na+99ip79/7OyJGjSiSOt9+eyPLlSxk8eDjNmjVn166dzJz5PidOHOfpp58vkRhEJG+5TRJW2CWtcuJISeH4nFkARN/yTypUq1bU8ElOigcgYNPHZJz6AwKDCe36ILZWHYp8bhERESmblEjLBcLCbLRs2Srbtk6dric6ugoffTSLzp270Lr1ZcUaQ0JCAosXf8GDDz5C//6DAGjX7kosFpgyZRIPPPAIFStqgXuR0iBzkrBZy00CrRYy7E7PJGF7D8fn2lpdUKc+X0hGbCzBdeoS1a17kWO3Z6STmpyIBQg8+QcWWxSh3UdirVK3yOcWERGRskuJtOTb4MFDWbjwExYv/tyTSDscDubOncmSJYs4efIENWrUpH//gfTq1cdznNPpZO7cmXz55WfExcXRunUbunXrwZgxL7FgwWJq1651wbWSk8/Su3dfOna8Ntv2unXrAXDkyGEl0iKlSE6ThBV0SavcnPv9d86s/g6sVqrfMwyLtejrcSbu/B6AYIsDa/VGhP5jBAFhWgZLREREcqdE2ocOv/0mZ7dv83cYhLe6lFqPPeHz84aFhdOsWQu2bfvVs23ixHEsW7aEwYOH0bx5SzZv/pHXXx9DSkoKt912JwAzZkxj9uwZDBx4D61atWbVqm+ZMGFsrteqXr0Go0Y9c8H2devWEhQURO3al/j25kSkyLxNEpZba3VBONLSODbzA3A6qdzjJoIvqVOkWJ0OO2k/fUb8z8uBcELDbIT1+hcWq+ZfEBERkbwpkZYCqVw5mp07fwPg4MEDfPXVlzz00GPcddfdAFx55VU4HHamT59Cr159cDqdfPzxbO64oz/Dhz8AQPv2HYiNPcWPP24o0LXXrl3NsmVLuP32O7HZbL69MREpNvld0io3sYu/JP34MSrUqEnlnrcUKR5Hcjwp3/0f9qO7SXFWACC8ZhMl0SIiIpJvSqR96PxWYKvVNZOs3V42F0/5+eefcDqdXHNNJzIyMjzbO3a8jvnz57Fz5w7sdjupqalcd90N2Y7t0qVbgRLptWtX8fLLL3DppW24//4RPrsHESkZ+VnSKicpf/5J3IpvwGKh2pChBBRh1n77sd85t/I9nMlnsIRGYq/VAbZuICxC3blFREQk//yaSBuGEQDcBzwENACOA4uAF03TTHSXaQdMBNoBCcBM9/70LOdpDLwJdAIygAXA05nnEN85efIEMTExAMTHu2a67d+/r9eyp06dInNVmqioqGz7KleOzvc1P/30I957720uu+xyxo2bSHBw4d6Mi8jFx5mR4erS7XBQqWs3Qhs2Ktx5nA7Sty0ndfNCcNqxVm9CSNeHSNn0HQChNiXSIiIikn/+bpF+GhgNTAC+A5oArwLNgRsNw2jk3r4BuANoBowBKgIjAAzDiAJWAUeBQUA1YDxwCdCrBO+lzEtKSsI0d9O1azcAT/fqSZOmERJy4cRBNWrUZP/+fQDExZ2mVq3ann1xcafzdc133nmD+fPn0bVrd55//iWtHy1SzpxeuoS0Q38RVCWGKv/0/qFdXhwpiaSsfh/7X645LIJadSe4/e1YAgI5l+RaQ1ot0iIiIlIQfkukDcOw4Eqkp5qm+ax780rDMGKBTwzDaIMrWY4HepummQYsNQwjGXjXMIxxpmkeBh4GooA2pmnGus99yF22vWmam0r41sqsuXNnkpaWSu/erjezrVu3BVxLVbVp09ZTbu3aVXz11ZeMGvUcjRs3ITw8nHXr1tKy5aWeMuvWrcnzeu+//3/Mnz+Pfv0GMGLESCyZzdsiUi6k/vUXsV9/BeDq0l2I3igZR01SVk3BeTYOgsMJvW44gfX+Xr4vOdGVSKtFWkRERArCny3SEcBc4NPztu92f28IdAO+cifRmRYCk937PnR/X5uZRLutABKBmwAl0gWUnJzEjh3bAXA47Jw5c4Z169awbNkSBgwYTIsWLQFo1KgxXbt2Z9y4Vzhy5BBNmjRl//4/mDp1MobRlOrVqwNw5513M3PmdIKDg2nV6lLWr/+e9etdS85YLAFeY/jjj73MmfMhTZs2p3Pnrvz2245s+xs0aEBYWHhxVYGI+JnTbnd16bbbibyuM2FNmxXseEcGaf9bRNrWJeB0ElCtEaFdHiTAln1YiVqkRUREpDD8lkibppkAPOplV+YCxLtwdc82zzvupGEYCYDh3tQUV0KetYzdMIz9WcoUmMUCkZGhXvclJlrJyLB7JhPL5SwA+GCp0xJjsVjYtWsnDzxwj+dnm81G06bNef31N7j22uuzlX/xxZeZOXMGn3++gBMnjhMdHc3NN/fm3nsf8NTP0KHDASeLFn3B3LkzufzyKxg8eCgzZryPzRaGt3pat241DoeD3bv/jiWrKVOme9ayLj8uvt+nkqc6CgiAwEBrjn+/wLUfcv4bVxoc+eILUg/8SYUqVWg4bDDW0PzHmnHmOKe/fpe0o78DFiKu+icVr74NizX7S57DbiflbAIA1WpUwxqYfb+v6qm0dqZx9/z6CahvmuahLNv34vow+3wxpmmecpfR/CUiIlKu+XuMdDaGYbQHngG+BOLcmxO8FE3ENU4aIDIfZSSfJk+eVqDygYFBDB9+P8OH3+91f0ZGOitWLKd371uzlZk06W0qVowkMjLS63HDht3HsGH3FSgWESkbzh06xJH5CwGo98B9+U6inU4nyb99z5nvPsSZdg5rRDRRNz1MSJ0WXssnJ8XjdDoJtVW8IIku6wzDMIAlnPc+wDAMG67JP58B1p532Bl3Gc1fIiIi5V6peedgGMY1uF7U9wPDgczBcN7WjrIAjiz/zqtMgTmdEB9/zuu+tDQ7kPeyVpmtYmV1+av8sFgCmTVrBp99toCBA4dgs0Xw22/bWbDgUwYMGITd7lQ95ZPqKW+qI3A4XH+jcvr7BX+3sOZWxl+cDgd/vfsezowMKna8Fuo1yVeczpQkUtbNJGP/FgAC67cjpNMQUkNspOZw/KkjxwAICY/0eg1f1VN0tK3UtEobhhGIa7WM14B0L0UuxfX6ucg0zd1e9oMrydb8JSIiUq6VikTaMIx+uLqF7QFuNE0z1v2pOHhvVbbhehHH/d1bmQjgT99GKoUxfvx/mTLlXV5/fQzJyWepWbMWDz74CLfd1s/foYlIKRO3/BtS9u0jMCqKmDvy9zci46/tpKz9AGfyGQgKIeTqAQQ26ZjnBIXnklwvI2Hla6KxjrhahicAh4H3z9vfBkgBfs/lHJq/REREyj2/J9KGYTyBa5zVGuCfpmnGA5immWQYxmGg0Xnlq+JKnDPHTpteyliB+rhe2MXPate+hNGjx/s7DBEpIQmxx9jzy1oO/f4rdns6OJ04nU4qhITTsFUHGrbuSEhYxAXHpR45QuyizwGoNugerHlMKOhMTyV106ek71wF4Fob+vp7CagYk684MycaK2czdu8CGpimecIwjCFe9rcGYoF5hmF0w/U+YQkw0jTNY4ZhhFFK5y8pSy6GeQwuBqpH31A9+obq0TdK0/wlfk2kDcMYBryBa+buQed9ug2uT69vNgzjqSz7+gJ2XIl3ZplRhmFUNk0zc3HibrharVcWZ/wiIvK34wf3sHvLdxz7c5fX/eeSzrBj4zJ2bV5J3eZX0LRdFyKiXEmv0+Hg+Mzp7i7dnQhvdanXc2SyH/udc2um40w4DgFWKrT7JxUuvQlLgPeVALxJjDsBQHjFyvk+5mJnmubxPIq0BqoDvwHv4kqIXwFWG4bRFte8JKD5S0REpJzz5zrSVYF3gAPAJKCta+4Tj724up/dhWtM1X+BJsBYYJppmgfd5SYDjwDfGYbxChDtPm6ZaZobSuJeRETKM4fDwfb1X7F7y3cAWAODqNf8Shq16UR4RBRYArBYIPboAfb8vJoj+35j3/YNHNy9hat7DaVG/eZZunRXJuaOu3K8ltOeTtqWL0jbtsy1rFXl2oR0vg9rdJ0Cxx13wjVRdaWqtQt342XTo4AlyxjmdYZh7ATWA3cDX7u3l7r5S8qS0jyPwcVE9egbqkffUD36Rmmav8SfLdI3AmFAXWCdl/0DTdOc6+5aNgFXN+1TuJbSeDGzkGmapwzD6Az8F/gI16fd84Gnijd8ERFJT0vhx6WzObJvB5aAAJq3707jNtcSHHpht+xqdZpQrU4TEk4fZ/sPX3Po962s+3Iardt1J8DTpXsI1rAwr9eynzpAyur3ccQdAouFCm16UuHyPlisQQWO2+FwcObkYQCilEh7mKa52cu2HwzDiMfVWj3PvVnzl4iISLnmz3WkZwOz81FuHXBVHmV2AF19FJqIiOTD2YTTrPtyGvGnjlAhOIyrbx5KtTpN8jyuYuVqXN3rHrb/sIRdm79l60/LqB5lpUmTq7x26XY6Mkjb+jVp/1sMTjuWitUIvX441uqNCx17Ytxx7BnphFWs7DXpL48MwwjHtZzVz6Zp/ppluwWoAJzS/CUiIiIu+R9MJiIi4paceIbvPnmL+FNHiIiqStf+T+Qric5ksVi4tOPNNK3WDJxOjsUEc6zOhZN+2eOOkLxoDGlbvgCnnaAWXQjv+0qRkmiAuOOubt1RMWqNziIF17wlL563vTcQSva5SW42DKNCljLe5i/pbBhG1gHomr9ERETKDL/P2i0iIheH+KRUTsanEBVmYcvX0ziXFE+Vmg3o1Oc+KoR4746dm9RDfxH6/RYahFrYX9fGnl+/p3LNetRt1g6n00HathWc2fQ1SemhpAU3I7hVN6xV6hBw6CyhYelERoUSVMFaqHuJO+lOpKspkc7knlV7NPCGYRjvAIuBlsDLuNaVXuMuqvlLRESk3FMiLSIiHpnJckxkCJG2YM/2DduPMmu5SWAANHNuJMZyFFulGDr2vrdQSbQzI4NjM6aD3U6dyztTqVUDfl61gE3LP2bn1gROH00jKa0CDm5zHZAIrE4AdmQ7T3hEMJUqh1KrTiXqNoomump4nutHA5w5/hcAUVUvKXDsZZlpmm+6x0M/BgwHTgNTgJeylNmt+UtERKS8UyIt2YwYcR9bt/7s+TkgIIDQ0FDq1WvAzTf3oWfPW/L1JtUXTpw4zq239rxge/36DZgzZ36JxCBSnvydLFvIcDgZ3N3g6lY1iE9KZdZyk/QMB/WtO4ixHiXdGUSbbkMKPb749NIlpB48QErVesTW6MAfP8TisNclmAPEHfmWxPQbcGIlNNhCRGUboWFBOJ3gdDpxOJwkJ6URH3eOs4mpnE1M5fCBM2xe9yfhEcHUaxxNy8tqUjnGe2xOp8MzY3d5nmjMNM2ZwEwv2z8APsjjWM1fIiIi5ZoSablAs2bNeewxV6OB3W4nIeEMa9eu5rXXXmXv3t8ZOXJUicSxd+/vALz55iTCwv5+QxwSElIi1xcpTx7kUOEAACAASURBVLImy+nubbOWm7SoX5mT8SkEBlioGnCA+ta9OJwWdlo6cJWlcMsBn923n23f7+ZI7V4khMTAlqMABFtbEeo8CZaz1I9cw3X9nyQkMuc1nh0OJ0n/z959h0dxnQ3//84W7a7aqiBQo0owAiG6wXQwGIwNwTa4YRtwiVviOP19U95fHiexHSeO8+R5HMfdYGNwbFzAmN57NwYkGBBVQr3X3dXuzu+PlYQkJBBCQpT7c126hGbOnDkzxlruOWfuu8RBfk45Z04UcOZEPuWlTpL3Z5C8P4MucWEMGBpLdJeQeg8Ay4vzqXI5sPoHYQu0125vajZeCCGEEKIhCaTFBfz9A+nbN6nettGjxxEe3oFPPpnP+PET6N9/YJuPIzX1GGFh4QwdetFJDyFEK6gJlqvqbDMZldrA0uwtJcF4EIAUzwDyDR2IsF/eQ62qKg/J+9LZv/4Yzg7DATD7Gekea6Bb8RoivKdwmGxsqwigqLKUU8f20/uWpic0DQaF4BAbwSE2uvfqgK7r5GWXcfRgFkcPZnH2RAFnTxTQMTqIMZN6EhEZBFBnNvr8su7GZuOnjOpxWdcnhBBCiJuHZO0WzTZnzuNYLBaWLv2ydpvX6+Wjjz7g/vunM378cGbNmsGyZV/XO07XdT7++ENmzJjKbbeN5Gc/+xErVixj1KghZGZmNHm+48ePERcX3+R+IUTribBbcXv1etvcHp0Iu5UgfxNjQ5MxKR6y6UyOoTtzJqvNnrX1eLx8vyedBf/exY6Np3EarAR5Shh3e1ceHHSCoUXv0FE/hSmmNx0e+DPD7noMgOTtKygtzGn2NSiKQkRkEKMn9eSR527lltHdsPqbycko5Yv5+9m6JhWX030+kK5ONFZ3Nr7S5aHK7WX+Ko3CUkezzy2EEEKIm4vMSLeibz8/xNkTBe09DLrEhXHXfUmXbniZ/P0D6N07kYMHa8uL8tprr7BixTLmzHmCPn36snv3Tl599SUcDgczZz4IwAcfvMNHH33Ao48+RlJSf9avX8Pf/vbyJc+XmnqM0NAwnn32CTTtCAEBgdx11w948slnMJnkr64QrckeaGHOZNU3K2tUcHv02mA5ZddqXMXnsATYmTTpUeZEhDY7iE4/XcjWNakU5lcAEOzIpVvh9/R/9HZIfQu9OAsMJixDZ2JOmoSiGIgODKdbn6GcTtnN7tULGXzn0+SVuC5rybXN38yQkV3pNySGvVvPcHBvOof2neOElksn+0ng/Ix0U7Px2fkV2AP9GuldCCGEEDc7iUbEZQkLCyclJRmAs2fP8M03X/Pccy/w0EOPADB06K14vR7ee+8tpk69G13XWbjwI+6/fxZPPvkMAMOGDSc/P4+dO5uugOJwODh3Lp3S0hKeffYnPPXUc+zfv5cFC+aRl5fL73//YttfrBA3mRFJUbXvRNcErYU5aRzesRyAW+94mMiukc3qq6zUydY1qZw6lgdAcIiF+HNbCMlMJmRIb/Tv5oPuwRAag/W2pzGGd6l3/ICx95B1+gh5507yP28vJNsQXy8BWnP5WUyMmBBHr76d2LTqGDkZJRQ60zEoYO8QAzQ+G++x5fHvo/+kc0YUP0yc0+zzCSGEEOLmIIF0K2o4C2w0+pLbeDx6Y82ve/v370HXdUaOHI3b7a7dPmrUWD77bBEpKYfxeDw4nU7Gjr2t3rETJky6aCBtNBp5/fU3iIqKJibGt/xy4MDBmEwm3n3338yZ8wSdO3dp8nghRMvYAy21s74edxW7VixA93qJ7z+ayK4Jlzxe13WOp+SwZbVvGbXJbGDwiK5EHt9AWWYyZrsVG0dAB3PiRCzD7kcxXTjra7EFkDDyHg6s+Yg4JZksVyeq8K9NgHa5ycA6dArk3kcHsmdzCqf2OfHqZjauOsft0+0NZuN1vB2PY4hKJb8S4sK6XtZ5hBBCCHFzkEBaXJbc3BwiIiIAKC4uBmDWrBmNts3Ly6MmUW5oaGi9fWFh4Rc9j9lsZsiQoRdsHzFiFO+++29SU49JIC1EGzuyew3F+b560f3H/OCS7R2VVWxedZwTR3MB6BoXxpjJvVDOapzbvAEUsHd2YLAFYh33BKauF09aaAzrSS4xRCjnSDQdYJ97eG0CtJZk1VYUhZhYL6f2ga6Ekn66iMXz9nPnzL6MSIoiOlphgfYfMh3nUFC4O2Eyd6t3UFbquuxzCSGEEOLGJoG0aLaysjI07SgTJ04CIDAwEIA33nin0ZJUUVHRnDrlexexsLCgdma55ueLycg4x549uxg79jZCQkJqtzudTgDs9pCmDhVCtIKyolyO7FkLwNBJszCZLx64ZqQVsWbJESrKXJj9jIyYEEfvfpF4Sks5886/AAiKAWtcAtbbnsYQEHrR/sC35Pqotz92JYcOhhyiDOnkebpedrbwumoSjcUnJXD2XBC5WaUsWXiAuNutLM1bQqXbQYjFztw+DzKkW98Wn0cIIYQQNzbJ2i2abcGCebhcTqZP981A9+8/CICSkhISEvrUfmVnZ/Hee29RWemgZ89eBAQEsGXLpnp9bdmy8aLnKi0t5W9/e5k1a1bW275u3RoCAgLo1evSS0yFEC333cYv8XrcdO19CxGxcU2203Wd7/eks3Th91SUuYiMDeb+xwfTp38UemUJmX//PZ4KJ+ZACL3rbmx3/bpZQTT4lpnPmtyfVL0fAAnGwzxyW5crqvGcm3EGgKCIWO5+uD+xPUJwVLo5+G0hFFno1yGR3wz9KT1Dm75mIYQQQgiZkRYXqKgo4/DhQwB4vR6KiorYsmUjK1Ys4+GH55CY6JuliY/vycSJk3nllT+SkZFOr14JnDp1grfffhNVTSAy0peU6MEHH2HevPewWCwkJfVj69bNbN26GQBFafxZjqomMGrUGN555194vR569Ihjx45tLF78Kc8//7Pa2XAhROs7d+IQGSeTMftZ6T9mepPtqlweNq7QSD3iW8o9YFgsw8b2wGBQcGdqFCz8byrPVaIYIPKJH2JNGnnZYxmRFEWfbg+w7et8ynJPY83bBbSsvvP2Q5mcPX0KqwLvrM1lop7Md7FrsRTGElwYSc/jo5g2sD+B5oAW9S+EEEKIm4cE0uICR46k8MwzvjquiqIQEBBIQkJvXnnlNUaPHlev7e9//yLz57/PF198Tm5uNmFh4Uyd+oPaDN0Ac+Y8gdfrZenSr1iwYB6DBg1h9uzH+fDDd/H3tzU5jj/84SXmzXuPxYs/Iz8/l+joWH79698xbdrdbXLdQghwV7n4bqOvVnziiCnYAoIbbVda7GD54sMU5JZj9jMy/k6VuIQIdF3HdXgNFZsWUXzMC0CH+x/A1oIgukZIkJXRdz3Mqo//wsnDO+jWZ+hFZ8kbU1zmZOGq7xltqMStGykLy+Xb/G0oBi+R/RSiz8WTkVrGt58dYvqs/nSMavy6hRBCCCFAAmnRwBtvvHNZ7U0mE0888TRPPPF0o/vdbjdr1qxk+vR767V5881/EhxsJzjY3mTfNpuNZ599nmefff6yxiSEaLmje9dRXpyPvUM0PQeMabRNblYpyz8/TEW5i5AwG3fM6EtouD+624lj8zyqju+g6AToHvBP6kfIhDuueFzBYZ3ofcvtJO9cyd51/2HSI7/GaGz+R1husYOOhmwAyqwm/LodBSDJPpDHB8zApJhZv+wox1NyWL74MPc+Ogi7vekHfUIIIYS4uck70qJNmUwmPv74Q37721+xZctGvvtuHwsWzGPx4s+YMeP+9h6eEKKO8pICju72JRgbdNtMDAbjBW1Op+bz9ScHqCh3Ed3Fzr2zBxIa7o+3NI+KJS/hTt1BRa4RVwkYA4OInPs4Sk36/ivUe+jtBIZEUJKfhbZ33WUd2yHYQrSiAZDd0YPuNuE5OZCH1HvxM/phMCiMv0slpmsIleVVLF98CEdlVauMWwghhBA3HgmkRZv761//m44dO/Lqqy/xi188z8qV3/Lss8/z+ONPtffQhBB1HNq2DI+nii7qIDrGxl+wP+VAJiu/OIy7ykuvxI5Mvb8fFqsZd9ZxKr56EW/+WdyGcErTfYFzx9lzMbVihn2jycyQiQ8AkLxjJYU5ac06zuP1sDHlS4L0MlwmyPHrgOfIaGYPG1cvcZnRaGDyPYmEdvCnMK+Crz45gMftbbXxCyGEEOLGIUu7RZuLje3Mn//81/YehhDiIgqy0zhzZC8Go5F+o6ZdsP/ArjR2bPCVsxs8ogu3jO6GoihUaVtwbJkHXg+G6D6U7C1Bd+cTPHI0QYMGt/o4O3XpRXz/UaR+v5Udyz9i0sO/vGhprvzKAj5MXoT18HEiAEu3OH4yaDadJvg3mv3bYjVx58wkvvx4P2dO5LPu26MMG9e91a9DCCGEENc3mZEWQoibnK7rfL95CQA9B4wlwB5eb9/uLadrg+jRk+IZOqY7oOPY+R8cm94Hrwdz39upcHTDmZ6OuUMEHR+a1Wbj7T/mboLDIyktyOa7jV812W5f9ve8sue/ycg9RYdiL4rBwLTb5tIrNvSiJbSCQ6zcOTMJs5+RtNOFbXEJQgghhLjOyYy0EELc5LJOHyEn7Rhmi43eQ2+v3a7rOhtWHkP7PgtFgfF3qqhJkehuF44N7+A+tRcUI5ZRj+I2RlH44V9AUYh84ikM1rZL1GUy+zH8zrmsWfgaJw9tJ6pbb2J79q/d7/S4WHxsCdsz9wAwtDwUhWy6qIOwBTad4LCujlFBPP3LMZhMBpwud5tchxBCCCGuXzIjLYQQNzGv11s7G91n2GQsNl8NZV3X+fzTg2jfZ+EFTio6+eh4HaVUfPtXXxBttmG78xcYuw4l6713QNcJm3IXtp4923zcIRHRDBjjK4W3Z/UiKkp9M8fppRm8uuefbM/cg8lg4r7udxGUXQJAr4HjLuscgUEWrDZzq45bCCGEEDcGmZEWQoib2OmUXRTnZ+IfHEbPAaOB8zPR+WeK8KKTipdiLyxbvYe+h7ailOWgBIRhm/JzjGGxZL77Nu6CfCzduhP+g/N13ovLnOQWO4iwWy+6lLql4geMJvP0ETJPJbN20etYbxnMt0W7cOseIgM68XjiLCpSU8l2VtIhugdhkV1afQxCCCGEuDlJIC2EEDe4ugEtQFaRg45hNrxVLg5vXw5Av5FTMZrM6LrOzo2nameiU/FSDMQY83k2cB1KmQNDeFdsd/wUQ0AoJbt2UrprB4qfH1FPPo1i8n2sbD+UyfxVGiaDgturM2eyyoikqFa9LkVRGHbHI2z6+m0KM09TvmE9HWNMdO83gjujxpB+aB/Hv9sMQK9BY1v13EIIIYS4uUkgLYQQN7C6Aa2zyoOiKFjMRtweL/ckFFNZVkxIRAxdEgYBsGfLaQ7sSkMxKJyunomOM2Xxw8AN2JQq9Mje+N/xExQ/G1X5eeQsmA9AxAOz8IuMBHyB+/xVGlVuLzWVmOev0kjsHtbqM9NnHJlsjCkn3G0kNtdD/Dk3wY7jrC7Ygq7rvrHFxBET369VzyuEEEKIm5sE0kIIcYNqLKBF16lwujFSRY62BT8FkkZORVEMHNiVxr7tZ1EUuP0HvelX5WbvujU8YtuEWfFQFJ5E7F0/QTGa0b1est5/F29lJQEDBmIfc37GN7fYgcmgnD8nYDIq5BY7Wi2Q9ng9fHtqDavPbEBHp0OfnvSz9iNlwxJK8jMxGIzE9uxHXL+RdOwcj6JIShAhhBBCtB4JpEU9P/7xUxw4sL/2Z4PBgM1mo1u3Hkybdjd33fUDFEW56uPavn0rv/nNL9i0adcF+9asWcn8+R+QkXGOqKgoHnlkLlOmTL3qYxTiWtNYQFujq+EEfoqLgA5diOreh6OHsmpLXN02NYG4hAi6HN9O34ANKLqOHj+G2HFzUQy+gLRgxbdUHtMw2u10mvNYvd8LEXYrbq9e73xuj167tPxK1dSGPlVyBgWFO7tN5I5uEzAajHSOUclOO05MXBJW/6BWOZ8QQgghREMSSIsL9O7dhxde+BUAHo+HkpIiNm3awF/+8idSU4/z05/+8qqO59Ch73nxxd81um/9+rX88Y//j/vue5Bhw0awZctGXnrpv7BarYwfP/GqjlOIa01jAS2AGRfdjKkAJN56J2dS89m4XANg5MQ4eiV2wnV0E87N81DQ8Rs4Db8h99YGy5UnT5K/9GsAIh//Iaag4Hr92wMtzJms+paUGxXcHt870q0xG70v+3sWaV9Q6XYQYrEzt8+D9AyNq90fGBJBYEjEFZ9HCCGEEOJiJJAWF/D3D6Rv36R620aPHkd4eAc++WQ+48dPoH//gW0+DqfTwaJFC5g37z38/QMabfP2229w220T+clPfgHAsGHDKSkp4b333pJAWtz0Gga0TpfvHemeplTMuLGGd8dii2bZfw6h6zB4RBf6DYnFlbwO57aPAfAbOhPLgPMrPLyOSrLefQs8HvzHTSQzpDMRZc4LguQRSVEkdg9rtazdvtrQS9meuRuA/h0SmdV7JoHmxn83CCGEEEK0JQmkRbPNmfM4ixd/ytKlX9YG0l6vlwUL5rFs2RJyc3OIiopm1qxHmTr1fAkcXddZsGAeX3/9BYWFhfTvP4BJk6bw0kv/xeefLyU2NqbR861bt4bPPlvE88//nKKiQj766IN6+8+dS+fcuXSefvrH9baPGzeB9evXkJFxjujoxvsW4mbRMKB1VJSwedEyvB7oP+xOVixOxuP20mdAFLeM7obr4CqcOxcBYBn+EH5Jk+v1l7PwE6pyc3BHRPFyRhTKfw40mZXbHmhplVno9NIMPkheSHZFDiaDiRnx0xgdc2u7vGYihBBCCAESSIvL4O8fQO/eiRw8+H3tttdee4UVK5YxZ84T9OnTl927d/Lqqy/hcDiYOfNBAD744B0++ugDHn30MZKS+rN+/Rr+9reXL3m+QYOGsHjxUvz9A3j//bcv2H/27GkAunTpWm97bGxs9f4zEkgLQf2ANnXXRryeKmJ79mfr+kJcTjcRne30G9GFqsOrzwfRo2bj1+e2ev2U7t5FyfatYDbzceAwHF4FXB7g8rNyN6fGtK7rbErfzlepy+rVho4JjLrsvoQQQgghWpME0q1o81dvkXkqpb2HQVT3Poy555k26TssLJyUlGTAF6h+883XPPfcCzz00CMADB16K16vh/fee4upU+9G13UWLvyI+++fxZNP+sY0bNhw8vPz2Llz+0XPFRl58ZqzZWVlAAQE1F/aWbMMvLy8/PIvUIgbWHlJAScPbwcUsvK6U1ripByd5Kxiyj/8kHttvmR+ltFz8es9rt6xVXm5ZH88DwBl8t2UnAysDaLh8rJyN6fGdJmrnI+PfMbh/CMAjIwexsye0/Az+l12X0IIIYQQrU3qgYgW279/D7quM3LkaNxud+3XqFFjKSsrIyXlMIcPH8TpdDJ2bP2ZrQkTJl3x+atLxF6wvLOmdqzBIMs+xc3J5faQeq6Y4jJnve0pu1bj9XjwC4wjJ9uIE51jeOlvOFIbRHtvmXVBEK17PGS++7av1NXAQURMmNDirNx1S3JVujxUub3MX6XVG6tWkMrLu1/ncP4RbCYbT/Z9lFkJMy4IopvTlxBCCCFEW5AZ6VbUcBbYaPQFch7PhVlzr1e5uTlERPgy4hYXFwMwa9aMRtvm5eVRE+OGhobW2xcWFn7FYwkMDAQunHmuqKiot1+Im4nb7WF3SjarvyupN0NbVpTHqeSdgEJOQQ/MFiPHvB4GKak8GLATgG+cQxnacRj2Bn3mf7MEx4lUTKGhRM55HGOgtcVZuS9WYzrQ31SvNnScvRtzEx8izFr/90fNUu7yCtcFfRkN8F1qHgPjO8gybyGEEEK0GQmkRbOVlZWhaUeZONE3m1wTqL7xxjtYrRfOREVFRXPqlK8ubWFhATExsbX7CgsLrng8Ne9Gp6enERcXX7s9PT0NgM6du13xOYS4nrg9XhxVHry6TmWDd5eP7lqF7vXi9HQBYzB3zEyi8ouveci2A4CvKwaz1d2HuxrMKlccPULBt9+AohD55NMYq/+/b2lW7qZqTButlfxj/8ecKjmLgsKUbhOZUl0buq66S7mrPN7alSk1HC4vn61PZdHa47LMWwghhBBtRpZ2i2ZbsGAeLpeT6dN9M9D9+w8CoKSkhISEPrVf2dlZvPfeW1RWOujZsxcBAQFs2bKpXl9btmy84vHExnYmKiqGjRvX1du+adN6YmO7EBkZecXnEOJ64vZ4L9hmMiqkpadzOnk3uq5Q6enN5OmJxAXmMDtgMwZFZ61rAFvdSRfMKnvKysh6/x3QdcLumoq/mlCvb3ughfgY+2XN/NaU5DKbDNgsRswmA2PHwr+S3+RUyVlCLHZeGPgUU3tMuiCIbriU2+3R0XUds9GA1e/8x5mjzjLvtOzSRpe5CyGEEEJcCZmRFheoqCjj8OFDAHi9HoqKitiyZSMrVizj4YfnkJjYF4D4+J5MnDiZV175IxkZ6fTqlcCpUyd4++03UdWE2kD2wQcfYd6897BYLCQl9WPr1s1s3boZAEW5smc5jz32JC+//CJBQUGMGDGarVs3s379Gl588dJZwYW40ZiMF/7/5Pbo5CRvAHSc3m70HaKSEFNJ3mevYdA96L3GkxQ/ndtCbPUCYl3XyZr3Pu7CQqxx8YRPu/uCvluqZjY7o7CEnUXr2Za7D7h0bejGloVb/Iz8cFoiRWVOPlufiqNOAjR0nT99tBez0SCJyIQQQgjRqiSQFhc4ciSFZ555DPAl8goICCQhoTevvPIao0ePq9f2979/kfnz3+eLLz4nNzebsLBwpk79QW2GboA5c57A6/WydOlXLFgwj0GDhjB79uN8+OG7+Pvbrmisd945DZfLxaefLmDZsiVER8fw+9+/2CrJzIS43piMBqxmIwZFwWYx4vboPHBrKLm7D6LrCqHRwxg60Er+F39Br3Jiih+OdeyjBDfyQKtowzrKD3yHwWYj6odPoxiNjZyx5Ur0fD4/9wnZFbmYDSZm9JzGqOiL14Zuall498ggIIhFa4/X21dVnZ/C7WlZiS4hhBBCiKYoesMXzARAkder2/PzyxrdmZ+fDUB4eKeLdnIjJhu7XG63mzVrVnLLLcPo0CGidvubb/6TZcuWsnz5OrlPzST36dLkHvl+P7ncHsrdAXQItrD+k7eoqjiJ19SLux95EM+Kl9HLC7DGDcY0/lkUw4XPUx1nz5D28p/Q3W6invkRQUNuabXx6brOxvRtfJ36LW7dQ1RAJx5PfJjowOa9ilH7jnSdJGc1s8x197ncXgyKQpX7/HJ3m8XIz+4fQHxMw3RqjbPbfQ/6iosrL/Mq6wsPD8RgUIqBkCvqSFz0s/lG0lp/9252ch9bh9zH1iH3sXVcS5/NMiMt2pTJZOLjjz/kq68W8+ijcwkMDCI5+RCLF3/Gww/Pbu/hCXFD8jMZiepkZ8e6vVRVnETHwLipU/Fu+Cd6eQF+0b0In/ZTSio8FxzrdTjIfOff6G439rHjWjWIblgbelT0MGY0Uhv6Yi6W5KzuPovJwJ8/3lfv2OaW6BJCCCGEuBQJpEWb++tf/5u33vpfXn31JSoqyomOjuHZZ59n5swH2ntoQtyw0k4VkPrdGvwMENl9CPYjn+PJT0OxRxJ+z69QzH7AhU9zcxYuoCorC7+YWCIemNVq4zlWmMq85EUUu0qxmWw8nDCTgR2TWtSXPdDS5PLsuvtaWqJLCCGEEOJSJJAWbS42tjN//vNf23sYQtw0qlxu1n29C5shE8Vgon9gCZ5TySi2YPyn/Byjf3Cjx5Xs2EbJ9q0ofn5EPfUsBr/mzxQ3xeP1NKs2dFtoaYkuIYQQQohLkUBaCCFuKDrppwsxeg6BAeJiYjCd2g0mP2yTf4ohuGOjR7myMsle8BEAEQ/OwhITc8UjyassYF7ywkvWhm5LF5u9FkIIIYRoKQmkhRDiBlLl8uCsLMPPkI3JaKJbwWFQFGwTnsXYsUejx3hdLjLeehPd6SRo6K3YR4+94nHsyz7AwqNf4vA4CLHYmdvnQXqGxl1xv0IIIYQQ1wIJpFvAYDDg8VRduqEQQlxFlRVVVLncKJ5cALqZKvFTdCy3PoCp68Amj8v97FNc6WmYO3ai0+w5Fy1BdSlOj4vPjy1hR+Ye4NK1oYUQQgghrkcSSLeA2WzG6aygvLyEgIDG3zUUQoirqarKQ1FhIS5XJc6yDEwKdDdVYlbHYE66o8njSvfupnjjehSTiahnnsNgbXlt97TSDD5M9tWGNhlMzIifxuiYi9eGFu1HVdUBwB6gu6Zp6XW23wf8GkgAioC1wP/RNC2nTpv3gCca6fY+TdMWV7fpBLwOTAbMwHLgZ5qmZbXNFQkhhBBXjwTSLRAQYKeqqorS0kIqK8tQlMbf9zMYfN+93kZ3i2pyn5pH7tOl3bz3SKeywoWj0kH+uWPknE6hl9mBNVrFMmp2k4GsKzub7HkfABBx/4NYu3Rt2dkbqQ39WOIsYgKjWnxFom2pqqoCy2jw7wBVVR8APgXeBn4HRAF/BNaqqnqLpmnO6qb9gc+AfzTo+lh1PyZgFRAIPIsvkP4LsFJV1SGaprnb4rqEEEKIq0UC6RZQFIWQkA6UlxdTVVWFt4l/tZtMvgDb5bqwVqs4T+5T88h9urSb8x7ppJ8uojCvAt1TQo62Dj88dA+zY7v9eRRj47/mvS4XmW+/idfhIHDwEOzjJ7To7K1RG1pcPdUB7lP4gtrG3lH6DbBc07Rn6hxzFNgJTAG+VlXVCCQC72uatrOJUz2IL9juo2nakep+DgCHgRnAf1rnioQQQoj2IYF0CymKQmBgyEXb2O2+JZLFxRfWahXnyX1qHrlPl3Yz3qPD+8+xfU02Zj8DkbY1oOvE27wE3fECijWwyePSPvoY59kzmCMi6DTn8RYtv9YKUpmfcr429CMJMxnQwtrQ4qoZBfwV+BtwDni3Zoeqqgq+ZdxbGhxzJC77sAAAIABJREFUtPp7TbY4FbABBy9ynklASk0QDaBpWoqqqkeAO5FAWgghxHVOAmkhhLhO5WaVsm3dCQD6xmVz5kQpVsVLz4mzMYbFNnlc/rbt5KxaXf1e9I8w+vtf1nnbsza0uGJHgB6apuWoqjq37g5N03Tgl40cc3f19+Tq7/2rv89RVXUx0AHYBfxC07Td1fsSAK2RvlLxBeJCCCHEdU0CaSGEuAzFZU5yix1E2K3tWp/Y5XSzZskRvB6d3n3s5J5cDCj0jk/A2vPWpo/LzuLs2+8AEPHAQ1i7drus814LtaFFy2maln057VVVjQNeA/YDq6s31wTSduBhIBTfkvANqqoO0zTtcPW+lEa6LAV6tmDoACjK+ZUnN7Ka11RuhmttS3IfW4fcx9Yh97F1tNZ9bI08qBJICyFEM20/lMn8VRomg4LbqzNnssqIpKufUEvXdTatOk5xYSXhEf50yP+UbK9CgJ+JuClPN3mc1+Ui49//wltZSejwW7GPu+2yzrsv+3sWHv2iTm3oh+gZ2nhtanH9U1U1AV/w7Abu1zStJiHIe8AmTdNW1Gm7HjiOL6B+GFAAvZFuFeCmSwcohBDixnPNBNIXKcORyvn3suqK0DQtr7rNEHxPzIcAJcA84A+apkmxZyFEqyguczJ/lUaV21uboWn+Ko3E7mFXfWb66MEsUlNyMJkNjIxKZo9WBhhIGncfRpO5yeNyFi7AlZ6GJSqK7s88TVlV8x7HOj0uFh9bwvaa2tARfXk4YSYB5stbEi6uH6qqjgO+BMqA8ZqmnajZp2laKr4l2tTZVqSq6jbOz1YXA43Vhwyq3tciun5z5EC4GfM9tAW5j61D7mPrkPvYOlrrPoaHB17xrPQ1EUhfpAxHINAD+L/ApgaHFVW3iQfWAduB+4HewEv4PsB/3KYDF0LcNHKLHZgMSr00xyajQm6x46oG0oX5FWxd64thRvbTydG249SthIZ3okvisCaPK962lZKtm1HMZuJ/8TPfe9HN+BCqWxvabDBxbxvVhr5WlsyL2hJYH+F7x3mKpmnnGuy/F3Bomra8waE2IK/6zxrQWOa5eHwZwIUQQojrWrsG0s0ow9EP3zKwJZqmHW1kP/iC7GJguqZpLmC5qqoVwP+qqvpKw38ACCFES0TYrbi99Vequj06EXbrVRuDx+1l7ZIjuKu8xMcH0un022x0+YLO/uNnoiiGRo9zpqeR88lHAHR8+FH8u166XnRjtaEfT3yY6MDI1rugatfKknkBqqpOBhYA24AfaJpW0kizucBgVVXjNU2rrD4uBhiJb3UY+JaEP6Sqqqppmlbdpg++JGR/bturEEIIIdpee89IN1mGo9oAwIHvvaumTAK+qQ6iaywG3qze92GrjVYIcdOyB1qYM1n1BXxGBbfHF/BdzdnTnRtPkpdTRrDdwuCqLznuUHCj0CG2F6XGSKxlzgvG43VUkvHvf6G7XASPGIV91JhLnqfUVcaCI59xON/3/HJUzK3MiJ/aJrWhr6Ul8zc7VVUtwPv4lnO/BPTxLRirlVb9cPolfCWylqqq+joQAvwXkA+8Xt32P8BvgZWqqv4G30Pxv+CrI/1Zm1+MEEII0cbaO5BusgxHtf74PpgXqao6Cd94lwE/1TQtS1VVf6AzDUpsaJqWq6pqCVdQYqM1MoNKdr7mkfvUPHKfLq2t79GUUT24tX80OQWVdAyzERp09WajTxzN5eDecxgMCuO7aFSlZXCmKgiA5WdjcZ77HrfHy9P3JDFukK/0la7rnHj/Laqys7B17kz8c09htFguep+SczX+vfcjihwlBJj9eXLQLG6J7n9Bu9aSVeTAbDRQ5T6ff8psNFDp1unSzn/Xr6XMoFfJMCCm+s+rG9n//4A/a5q2S1XVCcCfgE/xJQ9bBfy6ZgZb0zSnqqq3A//E95DcVd3nzzVNc7ftZQghhBBtr10D6WaU4egPROKrXfm/+JaE/RFfiY1B+MprgC/BWEOlNJ7oRAghWiw0yHpVA2iAslIn3y4+BMCwJIWgtA0ccAegA1l6FwrdweD2xSZvf32I/j07EBpkJXv5cgp37MRgsxH/y59jtDQ9w+v2evjiyLcsO7YWHR01PI5nh8ymg39Ym15bxzAbbk/9JM5ur5eOYfLAqK1pmjYPX3LOmp8345s5bs6xW4Bxl2iTBtzb4gEKIYQQ17D2npG+lJ8AiqZpu6p/3qKqagqwFXgE+LZ6e6uX2GiNzKCSna955D41j9ynS7sR75Gu63z7+SEqyl3ExNjoce5dij0GMlxGFIORM94+9dobDQon04qIqcgh7eNPAOg09wmcAaE4q+9Lw/vUsDb0nd0mcke3CRirjG1+Lw3A7AZL5mdPUjF49Xb/73gtZQYVQgghxLXlmg6kNU3b3ci2baqqFuObrV5UvbmxmedArqDEhhBCXAsO78sg7WQhFquJ4aYVUFHFUWMUUE7XviNZd8Cfus8M3R6dMIOLjLf/BR4PoZPuIGjwkCb735d9gIVHv2zX2tAjkqJI7B4mWbuFEEIIcd24ZgNpVVUD8JWz2q9p2vd1tiuAH5CnaVqZqqrn8JXTqHtsR3zBdb13p4UQ4nqSn1vOjg2+8r0juqZjzT1FjjWC/Pxy/KwBDBx1J3M6FddPgHZ7POWffICnqAhbz150uHdmo3073E4+OfL5NVMb2h5okQBaCCGEENeNazaQxpet++/ARuq/YzUdX63KjdU/rwamqar6qzqZu2cAnjpthBDiuuJ2e1m39Agej06v7kZiclfgMZg44rIBTvqOuBM/qz8jkvzrzea6Vi6h8OgRjMHBRD39HIrpwl/zZ4rSeWPPh2SW5bRpbWghhBBCiBvVNRtIa5rmUVX1z8DfVVX9H2Ap0Bd4EV9d6Y3VTf8KPISvfvR/A72Al4F3NE07e/VHLoQQV27XppPk55YTbPdjYMWnAJyLHEL5sRSCwyOJ6zeitm3NbG7pvj0UrlwOBgNRz/wIU0hIvT5ra0OfWI7b627T2tBCCCGEEDeyazaQBtA07fXq96FfAJ4ECoC38NWrrGlztLo01t/w1Y/Ow1fH8g9XfcBCCNEK0k8XcnDPORQFRoXvw1xUjDu6L9rpkwAMGHsPBoOx3jGuzAyyPngfgIj7HsC/V/3qfw1rQ9/WbSTTuk5pk9rQQgghhBA3umsmkG5YhqPO9veB9y9x7Bbg1jYZmBBCXEVORxXrv/WldxgY7yIsfy+KNYhUUyeqXGeJ6t6HqG696x3jdVSS8eYb6E4HQbcMJWTipHr7tYJU5qcsothVis1k46lBs7glZkC7Z8UWQgghhLheXTOBtBBCCNiyOpXyUicdI/xIKPgYAMeAuzm1bimKYmDA2Hvqtdd1nawP38eVmYFfdDSd5jxe+66zx+th2anVrDmzER2dOHt35iY+SPdO0Vf9uoQQQgghbiQSSAshxDXieEoOx1NyMJkMjLCuw1DuxtR7PLuSv0fXdXoOHENwWCcAisuc5BY78N+7ibJ9ezFYrUQ/9zwGqxW4SG3oBkvChRBCCCHE5ZNAWgghrgFlJU42rzoOwNDuBQTmp2IIiSLTHkf+nn1YA4LpO+JOALYfymT+Ko0eFRlMP7sGAxD55NP4RUYB9WtDh1pCmJv4EPEh3dvr0oQQQgghbjgSSAshRDvTdZ0NyzVcTjedY/zonvcVGAwYRszm4DcfAdB/zHT8LDaKy5zMX6XhX1nCHekbMaCzI7w/d8f3welx8fmxJey4RmpDCyGEEELcqCSQFkKIdpa8P4P004VYrSaG8Q2KAn4Dp3Ho6EGcleV0jI2na8IQAHKLHVjwcE/WRmxeF6n+MezuNJCe2adZm7uU7IpczAYTM3pOY1S01IYWQgghhGgLEkgLIUQ7KiqoYMcGX1mr4V3SsOZlYOjQjbLo/pzY/E8Ug4FBt91XGxB3CLZwW8Y2Ip0FFJqD+KbTSPTw03x6dhUe3SO1oYUQQgghrgIJpIUQop14vTrrlx3F7fYS381MTN5KMJqwjH2CbSv/A+j0Gjgee4eo2mP0HZvoU3ISl2Li226joVcyRnsuHh1Gxwzn3vip+BnN7XdRQgghhBA3AQmkhRCinXy38yzZGaUEBJoZ7PwSAMstMzlx+jiF2WexBYaQOPyO2vYVR1LI/fxTADz3T8XhdxCDpwx/k42HE2YyoGNSu1yHEEIIIcTNRgJpIYRoB3nZZezdegaAkbEnMefkYYzshbPzIA59/CoAQyY+gNnPV86qKjeXjLffBF0nb0QfFhp3oHt04uzdmJv4EGHW0Ha7FiGEEEKIm40E0kIIcZV53F7WLTuK16vTp6eZjjlrweiHZcxjbF7zGR53FV0ThhDdIxEAr9NJxpv/g7esjOwudv7TJRcwSG1oIYQQQoh2IoG0EEK0kuIyJ7nFDiLsVuyBlibb7d12hoLccoLtFvqVfw6AZegMzqSdJiftGBZbAAPH3wv4SmNlffgezrQ0ioJMfDnUTIgtVGpDCyGEEEK0IwmkhRCiFWw/lMn8VRomg4LbqzNnssqIpKgL2mVnlPDdzrMAjIw5jikrH2Onnri7DuXAx38BYOD4mVhsgQDkfPM1ZXv34DQpLB0TTO+YflIbWgghhBCinUkgLYQQV6i4zMn8VRpVbi9V1dvmr9JI7B5Wb2a6qsrDumVH0XXo19uP8Kx1YDRjGfM429d/TpWzkugeiXRRB1Fc5uT4ltUEL12CDqwdFcrkofdJbWghhBBCiGuABNJCCHGFcosdmAxKbRANYDIq5BY76gXSW9amUlxQiT3UQt/SxQBYbpnB6fRTZJw8jNliY/CE+9l+KJPlW7/koYP7ANg/MIIH7v6F1IYWQgghhLhGGNp7AEIIcb2LsFtxe/V629wenQi7tfbn1RtPcPT7THQg0LEbQ0UehogeOGMHcWCjr/TV4An3U+jWWXxkPtOPfYefW+dop1A2Vk4mAMnKLYQQQghxrZBAWgghrpA90MKcySpmkwGbxYjZZGDOZLV2NjqvoIKUnWkoKDiUUsbb9uPWDbgGz2LXqgW4q1x0Vgfh6Gjnfw78L1MPniSkzEO2fxDLAqZgMprJLXa081UKIYQQQogasrRbCCFawYikKBK7hzWatXvHxlNYUKjEy7Sg1QBsrOpH8OFD5GeexuIfTE6PUBYeeJdxe0ronF1FmcnK4o6TcBtMKA1mt4UQQgghRPuSQFoIIVqJPdByQdmr9NOFpB/Lw4tOrCWZSFMJme4QtpXHMPjIRgwK7AkxUpS5jX7HKul3vBLdaGJJzATcAcGYPXq92W0hhBBCCNH+JJAWQog24nK62bBcA6BLNwuji/fh1WGxYyiJpv0YFJ30MDNFHSuJSYdx+8sAiJr7OD9PGtysmtRCCCGEEOLqk0BaCCEaKC5ztkoQu339ScpKnER0CmSceRkoOuVdR9OvoJDyzHLKbAqnYg0EpYUwdftpFK9O6JS7CB4+AqDeuVtrTEIIIYQQ4spJIC2EEHVsP5TJ/FUaJoOC2+tbVj0iKeqy+0k7VcCR7zMxGBVGq/lw+BRKQBhng8IoT96A2wApXSxwoifTDxzC6nFh6dufDvfMaLMxCSGEEEKI1iFZu4UQolpxmZP5qzSq3F4qXR6q3F7mr9IoLnNeVj9Oh5sNy48BcMvQCPyPfoEObO3ShxO7NgBwrmsoFSdHck/KScKrSnB3iKLzM8+iGOr/Wm6tMQkhhBBCiNYjgbQQQlTLLXZgMij1tpmMymWXntq+/gTlpU46RgXRq2IlZV4XH3frTNb3hzDooHeJ5oVpv+O3Afl0Ls/EEBRMz1/9EoP1wszcrTUmIYQQQgjReiSQFkKIahF2K26vXm+b+zJLT505kc/Rg1kYjQqj+7k4npfCPzuHYThTis2lYwkN5767f0HFxo1Ubt+MYjIR8+OfYA4Pb7MxCSGEEEKI1iWBtBBCVLMHWpgzWcVsMmCzGDGbDJcsPVVc5iT1XDHFZU6cDjebVviWdA8eHsXms5/xfnQI4Xlewkq9mC02Jt77YyqTk8n9zyIAOj32JLa4+FYdk7i5qKpqU1W1S3uPQwghhLiZSLIxIYSoY0RSFIndw5qVIbthErDxkXbKy1yERdpY61rA2SATEYUeumR7QFEYOe1xzCXlnH3n36DrhE+/h+Bht7bqmMT1T1XV/cBvNU1bWWebGZgCbNM0Lb/BIfcCHwHGqzdKIYQQ4uYmgbQQQjRgD7RcMlitmwSsCrADheklKEb4rtNaSqmkU6mb3ungBQaMuZvw4I6cfelP6E4nQbcOJ2zqD1p1TOKGMQAIa7AtGPgKuB1Yf9VHJIQQQoh6ZGm3EEK0QN0kYEagW/Wv04zoFEotRfQtcjAg3YjX46ZrwhDiE4dz7n//ibuwAGt8TzrNeRxFOZ9ErO4ScSGaoFy6iRBCCCGuBpmRFkKIFqibBKyL0Y2fx0J5YAHFkWeYnl2CnmehqMpJaKcuDJ5wP1nvvo3zzGnMERFE/+h5DGZzbV9SJ1oIIYQQ4voiM9JCCNEC9kALsyf1okNoLh08FryKh9K4U/zoXDGWHIWiKh3/oFBG3/0UhV99SfmB7zD4BxDzws8xBQXX9iN1ooW4utasWc6KFUvxeDztPRQhhBDXMQmkhRCiBUpdZRx0rSa2LAQAa+9KfmE0UlzsJctjxuxnZcw9z+DYtZuitavBaCT6R8/jF1l/plnqRAtxdeXn53LqVCrffbenvYcihBDiOiaBtBBCXKajBcd5Zfc/KPzOjLnKSlBHE4/2iybt+GFOVllQDAZGTHsC47lschd9AkDk3CfwVxMu6EvqRAtxdY0aNR6AvXt3kp+f286jEUIIcb2Sd6SFEKKZPF4Py06tZs2ZjQQWRhCaH4vRqHDX1ETOLPsjh52+4HfIhAcI0f1Ie/vvvjJXP7ib4OEjGu2zpk70/FUaJqOC26NLnWgBkKCq6pg6P9urv/dTVdXdoG3vqzSmG0JsbBcSE/uRnHyQ9etXce+9D2E0SuUwIYQQl0cCaSGEaIa8ygI+TF7I6ZKzmNx+9EgbggcYNrYH5d8v5kBRFaCQOHwKnSPjOfvyn9BdLoJHjCRs2vSL9i11okUjflf91dDfG9mmAHoj20UThg8fw5kzp8jNzeHAgb0MHjysvYckhBDiOiOBtBBCXMLe7AMsOvolDo+DUEsIQwpvJ9NRQWRsMDGhOWza+j1eFOJ69SOh7yjSXn0JT2kJ/r0T6TT7sXplrpoidaJFHS+29wBudH5+fowfP4lvvvmCPXt20K1bHOHhHdp7WEIIIa4jEkgLIUQTnB4Xnx37mp2ZewEYENGXUaYJbNySislkYOiocLYueR03CjGhIQyc9AgZ/3idqqws/GJiiXr2Rygm+TUrLo+maVclkFZVdQCwB+iuaVp6ne2TgJeARCAbeEPTtL83OHYI8BowBCgB5gF/0DStqk6bnsDrwGjADXwO/FrTtNI2vKxm69y5K336JJGScoj161cxY8ZDGAySOkYIIUTzNPmJoarqP1RV9b+agxFCiGtFWuk5Xt3zT3Zm7sVsMPGgei+PxD3IrrVnABg0LIx9K97E6fHSwawzbOZPyf7gAyqPH8MUGkrMCz/H6C+/QkXbUFU1VFXVFmekU1VVBZbR4IG6qqojqrcfBe4FPgH+pqrqL+u0iQfWAZXA/fiWm/8c+Efd8QHrgU7AbOA3wIPAopaOuS2MGDGGwMAgcnOzOXBgb3sPRwghxHXkYo9eXwCSVVWdcrUGI4QQ7U3XdTakbeW1vW+QXZFLdEAkvx7yE0bH3Mq2tSeoLK8iMspMpraYysoKQg1uho+/m8JvV1K2dzcGm42Yn/wMc1hYe1+KuI6pqmpWVfVpVVU/bLB9tKqqyUAeUKaq6gpVVeMuo1+TqqrP4ZuJtjXS5I/Afk3THtU0baWmab8H/gb8TlXVmncP/i9QDEzXNG159Wz1z4BnVFWNqW7zIyAUmKJp2lJN094FZgF3qap6zbyQ7OdnYdy42wHYvXsHBQX57TwiIYQQ14uLBdLPAkHAMlVVP1FVNeIqjUkIIdpFqauMtw5+yOLjS3HrHsbEDOdXQ54nOjCSk1oex1NyMJurMLvXU16ST7DBw9AunXCcc52vFf3c81g6d2nvSxHXseqAdT3wb+AhVVVN1dt7AquABGAlvmXTKrBdVdVOzex+FPBXfLPI/6fBea3AGOCLBscsBkKAmtTzk4BvNE1zNWhjrN5X02aTpml1I9PVQClwZzPHelV06dKN3r374vV6WL9+FV6vt72HJIQQ4jrQ5Mt7mqa9rarqF/jegZoNTFZV9eeapn101UYnhBBXydGC43yU8inFrlL8TTYe7n0fAyL6AlBZUcXmVcdQcBERtIvy4hwCDR6G2irBPoi8Rf8BIPLxH+Lfu097Xoa4MbyAL2j9NfAvTdNqyl39F2AFFmqa9giAqqp/AQ4Bv60+7lKOAD00TctRVXVug309ADOgNdieWv1dVVV1F9C5YRtN03JVVS3BF9iDL9hf0KCNR1XVU3XaXDZFAbu9sYn0K3PHHZNJTz9DTk4WmnaQW28d3urnuBwmk68cV1tc681E7mPrkPvYOuQ+to7Wuo/NyAN7SRfNqqFpWp6maXOBsUAG8KGqqmtUVe1+5acWQoj25/F6WHJiBW8ceI9iVylx9u78dujPaoNogK1rjuOoKCfMfzuOshwCzEaGWSswhvUn57OvAehw3wMED7u1vS5D3FjuBxZrmvaapmmVAKqq+gE/wFfm6rWahpqmFeBL9DW1OR1rmpataVpOE7tralWXNNhekxws+CJtatoF1+nrUm2uGVarlSlTfBPlmzdvIj8/r51HJIQQ4lrXrHSymqZtqc7u+Qzw/wGHq59KN6RrmjahNQcohBBtJa8ynw+SF3KmJA0Fhbu6384d3SZgUM4/YzxxNJcTR84RbN6K7i4kwD+QYWRi9PqTt+kIeDyETLyd0El3tOOViBtMT3zBcV3DgQAgQ9O0Aw32pQLRrXDemufzTdWk9l6ijVLdpubPl2pz2XQdiosrW3r4RXXoEENCQiJHjyazZMlS7rnngXbL4l0z09JW13qzkPvYOuQ+tg65j62jte5jeHjgFc9KN7sui6ZpXlVVy4EqfAlKxjXSrKkPXyGEuKbszfqORdqXODxOQi0hzE18iPiQ+ottKspdbF6ZQpBpG0alkIDgUIaZCjGV6BSc8OJ1OAgaOoyI+x9qVq1oIZrJiK9cVF01D6nXNtLeDlS0wnmLq783nDEOrrO/pIk2AIF1+ihuok0QcLrlQ2xbI0eOJS3tNNnZmRw8uJ8BA4a095CEEEJco5oVSKuqOhx4AxiAr6bkLE3TPm3LgQkhRFtwuJ18fnxJvdrQsxJmEmCuX6pK13U2rzyMn3sDJkMBAcFhjOjRGcORMxScMOMpr8S/dx86PfYkitSeFa0rFd/nbV334HtYvayR9pM5/x7zlTgBeID4BttrftY0TStTVfVcwzaqqnbEFzjXvDutNdLGCHTHl5jsmmSxWBk79naWL/+aXbu20bVrD0JDJQO/EEKIC130X3+qqoarqvoesAXojy+DaIIE0UKI61Fa6Tle3Vu/NvSTfR+9IIgG0A6mkX9qKSZDAdaAEMZMvBfjsS0UHgN3eRWWLl2Jeu55DGZzO1yJuMF9CsxWVXW6qqr+qqr+DEgEcoCldRuqqvowvgzZS670pJqmOYDNwL2qqtZdYjED3wxzTaHl1cC06ve267bxABvrtBmvqmrdKHQSvlnrxmbVrxnduvVAVfvg8XjYsGG1ZPEWQgjRqCZnpFVVfQp4GQgD9gHPaJq272oNTAghWouu62xI38qS1OW4dQ/RAZE8ljiL6MDIRtsX5Rexf90HmAwFmK12JjzwPMr6t8g9BlXlYI6IIOaFn2O0SeZN0SZexzfL/BW+WWgFcAGP15ScUlX1HuDH+F6z0oB/tNK5/4wv0P1UVdX/n737Do/ivBY//p0t0qo3RBMIBBKjikTvooNbcMF24hKXxI5LEttx7MS5ufeXe9PjFCd23OOC7bjFvWF67xgQaoyQKKqghrq0dX5/rMBCFiDESqtyPs/jR9buzOx5Z4W0Z953znkVd/XwR4HHNE07vXz8ceAm4AtVVf8OjMP9eeEFTdMKW7d5BvgxsE5V1V8DEa37rdQ0bbuHYu02s2bNo6joOCdOlJKZuZ/U1EneDkkIIUQvc74Z6edwJ9oPAtMkiRZC9EWne0O/f/jTb/SG7oi1uZE1bz2FkWoUYyBLbnkInxO5VO0owFYHxuBgon7yKKaQkA73F+JStSbLi4BbcSekfwQmapq2ss1mk4BZuFtMzTld3dsDr70e9+xyAvARcAvwqKZpj7fZ5hBfzy6/BzyMO/l/sM02lcB8oAr4N/A74F3g256Is7tZLBbmzVsEwM6dW6mpOeXliIQQQvQ2iq53XB9MVdV3gIc0TSvr2ZB6hRqXSw+pqmq4pINIdb7OkfPUOXKeLqz9OTpUfZgVOW9T10Fv6I7YWpr48o1/0FxXhosAFn77QQZFBFL6u5/QVGbH4OvDyMf+G9+R0T0ynu4iP0ud48nKoAaDUguEeiAsAFRV9QdaNE0bSOuOPfK3+WKsXbuSvLxchg2L4pprbuyxooLyb9Qz5Dx6hpxHz5Dz6Bm96W/zOZd2a5rWJ64aCyFEe06Xk8+OrmbN8Y3o6IwNieHOpJsIs5z7d6W1uZH17/6T5roynHoAyXPuYHDUUE48+b80ldnBoDD8gZ/2+SRa9H6qqr58Edue/l9d07Tvd09EA9fs2fMoLi6krKyEzMz9jB8/0dshCSGE6CU63f5KCCH6gvLGSp7c9wrH6grP2Ru6PWtzIxvf+yd1VSU49QBCoq4mZco4qj58i7qDxwAY+t2b8P86aRGiO93B1+0kOzsFqgOSSHuYxeLH3LkLWbnyE3bu3MqoUTGEhIR5OywhhBC9gCTSQoh+Y3s06qWKAAAgAElEQVTRXl4+8A4tjpZz9oZu73QSXVNRglMPxGacz/yrJlK7dTNVn68CIHxOEsFzlvTEEIQAyARSgArc1bg/ANZpmmb3alQDVExMLHFx8Rw+fIgNG1Zz9dU9t8RbCCFE7yWJtBCiz+tsb+jTahusVNS2EOLrZN/KF88k0XX2dBZfmYZTy6D8tVcBCB7rS8R37u+poQiBpmmpqqqOxt07+lrcvaMbVFX9DHcl7y88VVxMdM6cOfMpLi6ktLSErKwDpKRM8HZIQgghvKzXJNKqqqYBe4AYTdOK2zy+BHe1zyTgJPBPTdP+2m7fycBfgMlAHfAq8Cu5ei9E/1dUX8LL2f+mvKkSs8HMreOvY1LYxHPOGG3PLGPFKg2LwUaKvoUgpRbFGExd82zGJkQz1HmS0hefB10nMAoirrsVxTegh0clBjpN047hbmn1hKqqkcA1rf/9G3CqqroGd1L9iaZpUlK6m51e4v3ll5+yY8cWoqNjCAnxWO04IYQQfdD52l/1GNVdLeUz2iX2qqrObH38EHAd7g8Qf1ZV9ZE228QC64Bm4Ebgr7hbcXiqp6YQohfSdZ31RVv4y95/Ut5UyfCAofx6/iMsjJl9ziS6tsHKilUaOFpIdm0mSKnFqgdS3Twbv4AQJo81UPr0k+gOB/5DIHjCWEzjZvXwyIQ4m6ZpFZqmvahp2pVAJO57oVuAJ4GTqqquVVX1Pq8GOQCMGRNHbKyKw+Fgw4bVnKvriRBCiIHBqzPSqqqagB/g7pHZ0ezxr4F9mqZ9t/X7L1VVNQO/VFX1KU3TrMBjQC1wdWvvzS9UVW0CnlJV9Q+appV0/0iEED2p3tbA67nvkl11CID0qBlcG3sVkcHB592vorYFi8FOsmkbwYY6mvRAWuzpgB8zJ4VQ9fw/0G02/CIheBT4zb4N5TxFyoToaZqm1QNvA2+rqpqEezXWUtw9m5/1ZmwDwZw5CygpKaS0tJjs7AySk9O8HZIQQggv8fbS7tnA48CfgRLgxdNPqKpqAdKBX7bb5z3gZ8BMYAOwBPi0NYluu80zrc+90l3BCyF6zun7mmsp4b2j75/pDX1rwg2knqc3dFuhFp1kfQvBhloa9QBq7HPww4+RI/3Q334avbkZv+FBhETV45O4AOOgUd08KiEujqqq04FlwNVAPOACNgEfeTOugcLPz4/09IWsWvUZ27e7l3gHB4d4OywhhBBe4O1EOhcYo2lauaqqd7R7bgxgBrR2j+e3flVVVd0FjGy/jaZpFaqq1gFd7lWjKF83/O4qk8kIXPpx+js5T50zkM/Txn3FPP9hBsaow+iDC1AUiI+I5b7JtxHh/3UrmvOdI1tLM5nrXiFYqaFJD6DMNZdw/DCYFYZsfR3sjVQGhpM8vBqjfxCRC27B4Nc/z/VA/lm6GJ46T5dS4FlVVV9gEe7E+VvAYNy3Mq3BfSH6U03Tqi8pQHFRxo4dx9ix4ygoyGPDhtUsW3a9VPEWQogByKuJtKZpJ8/z9OlLvHXtHq9v/Rp8nm1Ob3f+dZ5CiF7vVH0Lz3++C2XcfgisBR1cpXHct/AuIvw7rsrdnt3awsp/P0l58VGCQiOYNvd7fPneEXRgXOE6Quz1FPkNZty4OhQDmKbegMEvsHsHJsQ5qKoaAVyFO3leDAQAlbhrhnwErNY0rcV7EYr09AWUlBRRUlJEdvZBkpNTvR2SEEKIHubtGenzOX1591zVPFwX2EZp3aZLdB1qay+tu8jpWYxLPU5/J+epcwbqefoidzvGhK1gdOCyWrAXpOJrH8Sx4jpMUWfPAnV0jhx2G1s+fI7y4nz8g8KYuew+Vn5wDF2H6OYCohqPU2yJpCkmjFBTOYXOSHwDUvDtx+d5oP4sXSxPnaeIiMCLnZU+iftv2FHgBdzJ81ZN06S6VS/h5+dPevoCVq/+nB07NjNqVAxBQXLtXgghBpLenEjXtn5t/5cpuM3zdefYBiCwzTGEEH3MWb2hjeCsHoLtaDI4zThMOpEhlgsew+l0sP2zlykvzscSEMy863/EgT011FQ3E+isZ0zpNk76RrApajI/CfgSlw7vN0/jwdDOzXQL0U1OV7gbAzzU+h/uBhfnpGua1pv/pvc7Y8eOY8yYPI4cOcyGDav51reWyxJvIYQYQHrzH90CwAnEtnv89PeapmkNqqqWtN9GVdXBuJPr9vdXCyH6gLN7Q5uY4D+X7ft88DMZcCg6ty9VCQn0Pe8xXC4nu1a+RtnRHHz9Aph3/Q+pqTGSta8URXeRWLIev+HDMF1xB9d89S+Mis52m8qixbMueOzOOl0gLTLE4rFjigFhhbcDEBemKArp6QsoLS2iuLiQ3NxMEhPHezssIYQQPaTXJtKaprWoqroZuE5V1b+3WdK2HPdM897W71cD31JV9dE2lbuX407CN/ZkzEKIS6PrOhuKt/Jx/hc4dCfDA4ZyZ9LNDA8cyjWJnU9Kdd3FnjVvU5R3ALOPhfTr7sfXfxDr39wDwJjqfYSH+zDi4UeJqjxEi+kELnMA05ffQ0hEuEfGsj2zjBWrNEwGBYfLnfzPTBnmkWOL/k3TtDu9HYPoHH//AObMWcCaNV+wbdtmRo4cLUu8hRBigOi1iXSr3wJrcffLfBV3y6tHgcc0TWtq3eZx4Cbc/aP/DowDfg+8oGlaYc+HLIToinP1hvYxmgEICfTt1Kyurusc2PQRx7J3YTT5kH7dvYQNHsHqDzJparQT0nySWHM5Ix95DKOfD4073gLAb/oN+Hgoia5tsLJilYbd4cLe+tiKVRpJMeEyMy1EPxMbq5Kfn8fRo/ls3LiGq666TpZ4CyHEAGC48Cbeo2naetyzywm4i63cAjyqadrjbbY5hLtfdCDu/tEPA38DHuzxgIUQXXKo+jC/3/0E2VWH8Df5cXfKbXxbvfZMEn0xDmxZSd6+jRgMRmZffReDho8hL6OYI4dPYXTZSbVnM/KRn2EKDcO672P0phoMkWMwx6d7bDwVtS2YDGd/kDYZFSpqpdCyEP2NoijMnbsQX18LRUXHyc3N8nZIQgghekCvmZHWNO1V4NUOHv8Q+PAC+24BpndLYEKIbuN0Ofn0yCrWFm5CRyc2NIY7Em8izBLapePl7t3MnnUfAgrTr7iNoaPiqS2vZfOXeYAJtTmbcQ//CHN4BM7qEuyZawAFy+zvoiieu64YGWLB4Tq7wLLD2bkCaUKIvse9xHs+a9euZPv2Ta1LvIO8HZYQQohu1KtnpIUQ/VdlcxV/3fcMawo3AnBVzBIenHBPl5Po4sMZbP3sDQAmLbyekeMm4Ghq5suXN+HAxGBbGdN/9B3MgyLRdR3rttdBd2JOmIcxMsZTwwLcy9BvX6piNhnw8zViNhk6VSBNCNF3xcXFExMzFpvNxqZNa9B16VYmhBD9Wa+ZkRZCDBx7T+znLe0DWpxWwnxDuSPpJmJDu57Mlhfns+OLV9F1nUnzlxGbOgdXSwtbnvoP1YzCx9XCotvn4DtkCACOgl04yw6h+AbiO2W5p4Z1lpkpw0iKCZeq3UIMEO4q3gspLS2msPAYhw5lk5CQ7O2whBBCdBOZkRZC9JgWh5XXc9/llZy3aHFaSYtM4b+mPnQmia5tsJJfUkttg7XTx6yrOsHWj1/E5XSSOGUeE+dehctqJecfL6C5RgAwb2ksIaOiANBtzVh3vg2Az7QbUCyBHh7l10ICfYmNCpEkWogBIiAgkNmz5wOwbdsmGhrqvRyREEKI7iIz0kKIHtG+N/T1ccuYNXzameq2XWkX1dxQy6YPn8NubSZqbAozr7gJV4uVwiee4CtbArqPkYT4UAapI8gvqSUyxIJv5kfuAmODx2BW5/TE0IUQA8i4cQnk5+dx/PgRNm1ayxVXXCNVvIUQoh+SRFoI0a3O1xv6tK60i7LbWtj80fM01VUTPnQU06+4Hd1qJe93f+BgbRhNIaGEhvhgGj2Inz23A5NBIZIqHg5cg6IoWGbf7tECY0IIAe4l3vPmLeLtt1dw/PhRNC2X+PhEb4clhBDCw+RTpBCi29TbGnj24Cu8f/hTHLqT9KgZPDr5x2cl0XDx7aJcLic7PnuVmvJiAkMjmXPND1AcTrTf/p6jRU2UhCRgMMD0y1ReX3sYu8NFi83Btb47UHChx83DOGhUt41bCDGwBQQEMmvWPAC2bdtAY2ODdwMSQgjhcZJICyG6Rfve0D84T2/oi20XtX/jh5Qdy8HHEkD6tfdixkDJE3+huqCI3KHuftDT543B6WM8k6BP9SlgjLmCepcfFaOXeni0QghxNlVNJDo6BqvVysaNa6WKtxBC9DOSSAshPMrpcvJR/hf888C/qLPVExsaw39N/QmpkeeuXnsx7aIO799M/oHNGIxGZl99F/5mP4r/8jjNRwrIHbEQu8GHkTFhjJ8y4kyC7q9YWeb/FQCftExm0KCwTo+nKwXQhBDi9BJvHx9fjh8/Ql5errdDEkII4UFyj7QQwmMqm6t4OftNjtcVoaBwVcwSlo5egKET9yJ3pl1U2dEc9m98H4Api28mLCiSor/8CVtxESVR06gyR+IXYGb+lSqKopxJ0Bs2vUKgwUq+YyjjF1ze6SraXSmAJoQQpwUGBjFr1lw2bFjN1q0bGDEimoCA7usUIIQQoudIIi2E8Ij2vaHvTLqZsaGjL+oYIYG+50xyaypL2f75K+i6TuK0pYwYHkfxn/+IrayUpuHjOByQBC6dK5enENDmGNMGN9LocxhdMTDm6nsIiRreqVi6UgBNCCHai49PoqAgj8LCY2zatI7LL18mVbyFEKIfkKXdQohL0uKw8nrON3tDX2wSfT7W5ka2fvwiDpuVkeMmoKrTKHr8D9jKSjFEjSJ72HxcLp2J06OJTRh8Zj/d5aRl6woUdHxTLyckKqbTr3mxBdCEEKIjiqIwd+5ifHx8OHasgMOHD3k7JCGEEB4gibQQossK64v5055/sPPEXswGMzery7kr+Vb8zf4eew2X08n2z16hsbaKsCEjSZuwmOLH/4C9/CS+0aM4lnY9dbU2IiIDWHCFeta+9uy1uKqKUIIG4TNx2UW97sUWQBNCiHMJCgpi5sy5AGzZsoGmpkYvRySEEOJSSSIthLhouq6zvnAzf9n7NOXNlQwPGMrPpzzArKhpHl+yeGDzR5QX5WHxD2Lq1Kso+9ufcVRXYRkbS9OV3+ewVo3JbGDx1QmYzMYz+7kaqrHu/RAAy8xbUUwXtxz7YgqgCSHEhSQkJDNy5Cis1hY2bVonVbyFEKKPk3ukhRAXpd7WwOu575Jd5V6emB41k2tjr+ywrdWlOpK1g8P7N2EwGJk85Qoqn34aV0MDfvEJBN5yD6vezARg9qJYwgYFnLWvdcebYG/BNHoSplFpXXr9zhRAE0KIznBX8V7M22+/xtGj+eTn5xEXp154RyGEEL2SJNJCiE47VH2YFTlvU2erJ8Dkzy0JN5AamdQtr1VZepSv1r4LQEpyOs2vvoGruZmAlPEMvvt+PnonG4fdRWxCJPHjh561r6MwA8fRvWDyxXfmzZcUx/kKoAkhxMUICgpm5sx0Nm1ay5Yt64iKGom/v+duhRFCCNFzZGm3EOKCOuoN/YupD3VbEt3SWMf2T1/G5XIyemQixve/wNXcTODkKQz/4QPs3FpE5ckGgkIspC8dd9ZycpethZatrwHgO+kaDIER3RKjEKJvUioqUMrLvfb6iYkpjBgRTUtLC1u2rPNaHEIIIS6NJNJCiPOqbK7ir/ueYU3hRgCuilnCgxPuIcwS2i2vd7q4WHNjLWHBgwlduwfdbid4TjrDfnAfR/JPkbWvFINBYck1ifhazl5YU7f9PfSGKgwR0ZhTlnRLjEKIvivsioWEz56MoajQK69/eom32WymoOAw+fl5XolDCCHEpZFEWghxTntP7OcPu//O8boiwnxDeWjivVweswiD0n2/OjK2fExFSQG+ZgtRe4+gOJ2ELb2MIbfdSX2dlY0rNQBmzB/D4GFBZ+1rKz9Gw97PAQXLnDtQDMYOXkEIMZDZ0yZiqKkh6Ic/AKfTKzEEB4cwY0Y6AJs3r6O5uckrcQghhOg6SaSFEN9wrt7QsaGd78PcFccPfUXevo0oKETnVWF2uIi45joGXf9tXC6dNR/nYrM6iYmLIGVy1Fn76i4XNatfBN2FOWkhxsFjujVWIUTf1PDHv+IcMhSfndvxf/JvXosjKWk8UVEjaWlpZvPm9V6LQwghRNdIIi2EOMvZvaFN3KRe5/He0B2prSxjz+q3AIgqayKwxcXg795OxFXLUBSFHRuOUF5WT1CwL/OvVL/RZsueux5bWT7GwHB8pyzv1liFEH2XHhFB/VPPAeD/+O8x7dvrlTgURWH+/CWYTGYKCvIoKJAl3kII0ZdIIi2EADruDf2zyQ8wO2q6x3tDt2e3Wdn26Us4HTbCamwMqnMx7J77CJ07H4CCQxVk7i3BYFBYdHUivpazW225Gk9h3f0+AKEL70Tx8evWeIUQfZt93gKa7v0RitNJ8L3fh4YGr8QRHBzCzJlzgNNLvJu9EocQQoiLJ4m0EIJ6WwPPHnyF9/M/w6k7SY+awaOTf8zwwKEX3vkS6brOni/foP5UOZYWJ9HVOiMefJigyVMBqKluYsMXrfdFLxjD0Kjgb+xv3foa2JuxxE7GEjel22MWQvR9jb/8FY7EZIzHjhL43z/3WhxJSakMHz6C5uZmtmyRJd5CCNFXSCItxAB3qPowv9/9BNlVh/A3+fGDlNv4tnotPkbzhXf2gLzdaynKz8Dg1Ik9ZWD0T39OQKK7rZbd7mT1hznYbU7GxkeSMinqG/s7ju7FcXw/mP0IW/T9bp89F0L0E76+1D33ErrFgt+br+Pz6UdeCePrJd4m8vM1jhw57JU4hBBCXBxJpIUYoDrqDf1fU39CamRyj8VwdP9eMrZ+CkBMg5m4R36JJebrImFbV+dTVdFISJgf8y4f940kWW9pwLrtdQB8p92AMSi8x2IXQvR9zvgEGn71WwCCfvoAhtISr8QREhLK9OnuJd6bNq2jqUmqeAshRG9nuvAmQoj+prK5ipez3+R4XREKClfFLGHp6AXd2taqve2rt1O27y10H4WAWgX75ffiM+TrpeQ5GWUcyjyByWRg6bWJ+Ph+89eVddc76M11GIeOw5wwr8diF6K/UlV1HrDhPJvcoWnaClVV84GxHTwfqWlaZeuxJgN/ASYDdcCrwK80TbN7NOhL1PK9u/FZtxrftasJ+tE91L73CRh6fp4hJSWNgoI8yspKWLt2DcuWXd3jMQghhOg8mZEWYoDxRm/o9k7u/oqaHW/g8FEwWg187ruEV7eWUttgBaC8rI4tq93LG+csjSNicOA3juEoycGubQGDCUv6nSg9GL8Q/dg+YEa7/2YCuUAR8IWqqoHAGOCxDratAVBVNRZYBzQDNwJ/BR4GnujBsXSOolD/92dwDYrEZ+tm/J55ykthKCxY4F7inZ2dRV6e5pU4hBBCdI7MSAsxQLQ4rPwn72N2nnC3ekmLTOGW+OXd3taqvdptW8j/5A3qh/iCS2ET87Aa/PAzKlTUtuBjMLDqwxxcTp2kCcOJT/lmwTPdbqVl8ysA+ExchiF0WI+OQYj+StO0OmBn28dUVX0QUIGZmqZVqKo6E1CAjzVNO3SOQz0G1AJXa5pmw52ANwFPqar6B03TvLOG+hz0wYOpf/IZQm6+gYA//Bp7+lwc49N6PI6QkDCmTZvNtm0b+eijD4mLiyc5OY3Bg4f0eCxCCCHOT6ZwhBgACuuL+dPenu8N3Zau61R9+jFH33qFkkgfAA44J9OouKtwO5w6EUG+rP0kh4Y6K0OGBzFrUUcrR8G65z30+goMESPxSbuix8YgxECjquoQ4DfAs5qm7Wp9OA1oAc5XFWsJ8GlrEn3ae4Cx9blex7ZoKc3f/wGK3U7Qvd8HL92nPH78BJKTU3A6nRw6lM177/2b999/C03Lwel0eCUmIYQQ3yQz0kL0Y7qus6FoCx8VrMSpOxkeMJQ7k27ukbZWZ8XhcHDytVc4tXMbR8cEohsUAkdMpLpwJH5GBYdT5/alKtq+UoqP1eDnb2bJNUkYjd+81uc4kYc9ay0oRixz70IxyK8xIbrR/wEu4L/bPJYKVAFvqaq6BPdnic+AhzRNO6Gqqj8wEjhrbXLrbHYd7tntLlEUCAnpxj7xf/0Lru1bMeXmEP67/4fzn09332udx7XXXkt6ejp79uwhM/MgJ0+WcfJkGTt2bCYtLY0JEyYRHBx84QMNcCaTEejmn5kBQM6jZ8h59AxPnUdPNHmRT6BC9FP1tgZey32HnCr3Z9n0qBlcG3tVj7W1Os3Z1EjpM/+k6VAuRSMDsPkYCI2MYtF1tzC7xUVFbQuRIRYqi+tYvbMIRYHFVycSGOz7jWPpDistm14CdHzSrsA4aFSPjkWIgURV1UjgduAvmqbVtHkqFRgKZANPAfHAr4ENqqpOBEJat6vr4LD1QO/NAP38cL7+OsrMGRhffAHX0svQv/Utr4QSERHBokWLSU+fS05ONl99tZfy8nK2b9/Ojh07iIsbx6RJkxg1arS0/RNCCC+QRFqIfuhQ9WFW5LxNna0ef5Mftybc0KNtrU6zV1ZQ8uQT2EpLOTUsmFNBYDL7MvOqOzGazIQEQkigL1XlDaz/3H2r5Yz5Y4kaFdrh8ax7P0SvPYkhLAqfict6cihCDER3474F7B/tHn8AUNos9d6iqmoOsBW4Ffi89XG9g2MquGe4u0TXoba2uau7d050HH7/838E/s8vMN5zN6fUHbiG9OwqntMzLafHGhMTz+jRKidOlJKZeYAjRw6Tl6eRl6cRFhZOcnIqqpqIj883L0AOZO3Po+gaOY+eIefRMzx1HiMiAi95VloSaSE8oLbBemZmNSTQex9knC4nnx5ZxZrCjQDEhsZwR+JNhFk6Tky7qjPjbS7Ip/SfT+Ksr8M5YijFYTZwOpi08AaCwgaf2a6l2c7K97Nx2F2MSxrC+ClRHY/tZD72zFWgKFjmfh+lh2fWhRiArge+PN3O6jRN03a331DTtG2qqtbinq1+q/XhjmaeA3EXIevVmu++D591a/DZuJ6gH99L7dsfeKUlVluKojBsWBTDhkXR2NhATk4m2dkHOXWqmi1bNrBz51ZUNZHk5DTCwyO8GqsQQgwEkkgLcYm2Z5axYpWGyaDgcLnv9Z2Z0vNVpNv3hr4yZnG39IbuzHjrd+/ixMsvojsc+CYmkBvuxFl9gtGJUxmdOPXMdi6XzpqPc6ivbSFyaBBzL4vrcImi7rDSvPFfoOv4pF6BcfAYj45JCHE2VVWjgAm421a1fTwAdzurfZqmZbR5XAF8gEpN0xpUVS0BYtvtOxh3ct37+zoZDNQ/9Rxhc6fjs3E9fi8+S/M9P/R2VGcEBAQyZcoMJk6cytGjBWRlHaC0tJisrAyysjKIihpJcnIqMTGxGLx8AUAIIforSaSFuAS1DVZWrNKwO1zYWx9bsUojKSa8R2em957Yz1vaB7Q4rYT5hnJn0s2MDR3t8de50Hh1Xaf680+p+ugDAELmzqNoqB+1mdsIDI1k4oIbzjrezg1HzhQXu+y6RExmY4eva939HnrtCfeS7knXdDrW3rBKQIg+alrr163tHm/BnVxvBK5r8/jVgF/r4wCrgW+pqvpom8rdywFnm216NdeQodQ/8TQht99EwG9+hW32XJxJPX+LzPkYjUZiY8cRGzuOqqoKsrIy0LQcSkqKKCkpIiAgkKSk8SQmpuDvH+DtcIUQol+RRFqIS1BR24LJoJxJKgFMrf2QeyJ56+ne0Ocbb5CPwskVL1O/aycoCpE3fJvGmGEUfPoSBoORGVfegbnN/Xu5GWVk7CnGYFBYcm0igcGWDl/TUZqLPWuNu0r3/LtRTD4XjLO3rBIQog9LAZo0TTve9kFN05yqqv4W+Kuqqk8CnwDJuKt7f6xp2sbWTR8HbsLdP/rvwDjg98ALmqYV9tAYLpnt8itpvu17+L32MsH3fZ9TqzaCX++suBsREcncuYuYPn02hw7lkJ2dQU3NKXbv3s7evTsZO3YcKSlpDBkyTIqTCSGEB0giLcQliAyx4HCdXU/H4dSJDOk4KfSkwvpiXsl+k/KmSswGE9fHLWPW8Gnd+gHpXOMNV6wU/+UftBw5guJrYdjd92AYO5qNr/8JgPHpywgfMvLMPqWFNWxe5W5BO2dpHMNHdnwPt25rpmXjvwDwmbgM46DRF4zxVH1Lr1glIEQfNwQ41dETmqb9rfV+6AeBu4Bq4Dngf9tsc6i1NdafcfePrgT+Bvyqe8P2vIb/+x3m7VswHcol4Df/j8bf/9nbIZ2Xr6+F1NSJjB8/geLiQjIzD3D8+BEOHz7E4cOHGDRoMMnJqcTFxWM2S60JIYToKkmkhbgEIYG+3L5Udc9+tumH3J0Jmzd7Q3c03u9NCKLmiT/iOFWNKTyCqB8/hDkqio3v/RNbSxPDRicybsK8M8eoq2lm1Yc5uFw64ydHkZh67pli64630BuqMAwajc+EKzsVY3l1s1dXCQjRH2iadj9w/3mefwl46QLH2AJM93BoPS8ggPrnXiL08oX4/+t57AsWYVu01NtRXZCiKIwcOYqRI0dRV1dLdvZBcnMzqawsZ+PGNezYsZn4+GSSk1MJCfFsQUohhBgIJJEW4hLNTBlGUkx4j9yPW2ut59mDr5Fd5W4V1V29oc93f3Hb8QYdyaLuredx2GxYxsYy/IcPYAoOJmfXKiqK87H4BzH1slvOzJLbrA6+eC+LlmY7I8eEMWPB2HPG4Di+H7u2GYwm95JuQ+d+XQ0O9/PaKgEhRP/kGJ9G42P/Q+Bv/h9BD9xP9aad6JGR3g6r04KDQ5gxYw5TpswgP18jK+sA5eUnycj4ioyMr4iOjiElJY3oaOlJLYQQnSWJtBAeEBLo2+2znVnlh3h27+vUWuu6tdpqqvAAACAASURBVDd0R/cXt79QEOxvxr7mM6o//xSA4JmzGfzd2zGYzVSWHiVr+0oApl12Kxb/IOB0he5cTlU2ERrhz+JliRgMHX9gczXV0LLpZQB8p9yAMazjllgdCQuy9PgqASFE/9f8wwfw2bAWn62bCXrofureeJdLbkLaw0wmE/HxScTHJ3HyZBlZWRnk52sUFh6lsPAowcEhJCenEh+fhMXSO+8FF0KI3kISadEtpGKy55zuDb22cBM6erf1hoaOq3K//EUuRoPBnZS6dO6YP5roHR/TeGC/u6jYjd8hdNESFEXBZm1m5xcr0HUX6qQFDB2dALiXo29dk0/hkWosfmauuD4ZX0vHv3503UXLxn+ht9RjjErCnLL4osfRk6sEhBADxOmWWPNn4rtmFZZX/kXL9+72dlRdNmTIMIYMGcbMmenk5maRlZVBXV0t27dvZvfu7cTFxZOcnEZk5GBvhyqEEL2SJNLC43pzxeS+luBXNFXxSs7XvaGXJ1zJvKFzPN4b+szrdVCV26WDy+nC7oRwWy289CGNtloM/gEMu+c+Alrbwei6zldr36WxrpqwwSNImX3VmWMc3FNM9v5SjEaFy5YnERJ27pkOe/Y6nMVZ4BuAZd5dKJ0ca22DlRM1LQwO98NAz6wSEEIMLK6oEdT/5R+E3HU7gf/7S+yz5uBU470d1iXx8/Nn4sSppKVN5vjxI2RmZlBcfJzc3Cxyc7MYOnQ4KSlpjBkTh9HYcYtCIYQYiCSRFh7VW/oqd6Q3J/gd2XNiP2+36Q39o6l3oA4aS21tc6f278pFg46qcp82trGYb53cgsVlh8ihRD/0ED5Dvi5wdix3D4XaVxhNPsy48g6MRvevlyNaJdvXHwFg/pXxDBsRcs7Xd1YXY931DgCW9O9Rr/tTUVJ7wTGcfm/NRgMOp4vbevl7K4Tou2zLrqX5pjX4vfUGwfd+n1Nfrgffvn/RzmAwEBMTS0xMLKdOVbf2pM7mxIlSTpwoxc/Pn6SkFBITxxMYGOTtcIUQwuskkRYe5e2+yufSmxP89locVt7N+4hdJ74Cvu4NPWxQRKeP0dWLBu2rctsdLnSXzvSqDOZUZwCQFzSKWT99GJ9BXyfE9acq2LfuPwBMXLCcoDD3UsCTpXWs+zQXgKnpo4lLPPcSQd1ho2X9c+B0YI6fy56G4ax4f8cFx3DWe+twAb33vRVC9A+Nv/sTPju2YcrOJOD3v6bx/37n7ZA8KiwsnDlz5jN9+iw0LZesrANUV1exd+8uvvpqN2PGxJKcnMbw4SOkOJkQYsCSRFp4lDf7Kp9Pb03w2yusL+aVrDcpb67EbDBzfdy3Lro39KVeNGh7f3GE2UXJi8/jU30IHdg6aCIJN19PWJsk2uV0svOLFTjsVkaOSyMmyd3tpqa6iS/+k4XD4SI+ZSgTZ0Sf93WtO97CVV2MEjIE6/jlrPjXvk6Noa+8t0KI/kMPDKLu2X8RetUS/J99CtuCRdjnzvd2WB5nNvuQnJxKUtJ4SkuLycrK4MiRwxQUuP8LD48gOTkNVU3AbPbxdrhCCNGjJJEWHtUTfZU9tWS5NyT4p7l0FxuLtp7VG/p7ybcwLGDIRR/LE4llSKAvllPllD7xFD4V5Sj+/ijXfZfrJ0/8xjGytn9O9clC/IPCmLzoOyiKQlOjjc/eyTzT5ir9srjzXgywF+zGnrsBjCb8Ft7P0Ua902Po7e+tEKJ/ckyaQtOjvyDgj78l6Ef3cGrTDvTwzq8c6ksURSEqaiRRUSNpaKgnJyeTnJxMqqur2Lx5HTt3bkFVE0lOTiMsLNzb4QohRI+QRFp4XHdWTPbUkuXe1BKp3tbAa7nvkFOlAZAeNZNrY6/scm9oTySWdTu2c/L1V9FtNnxHRjPs/h/h00Hl1pOFeeTuWYeiKEy//DZ8LP7YrA4+fzeT+toWIocGsfSaJIzGcxcMc9WV07K5tdXV9JswDhpFZIO102No+96ajQYcLhe3Lekd760Qon9revCn+GxYh3nXDoIefoC6V97ocy2xLlZgYBBTp85k0qRpHDlymKysDMrKSsjMPEBm5gFGjIgmOTmN0aPHYDB0T2FMIYToDSSRFt2iOyome3LJcm+p2n2o+jArct6mzlZPgMmfWxJuIDUy6ZKOeSkXDVx2GxVvv0Xtpg0ABM+cxeBbb8fg880le9bmBnatfB3QSZx2GZEjxuJ0ulj9UQ6VJxsIDrVwxQ3JmH3OXeVVd9ppXvsM2FswxUzGnLigS2M4/d42O3R31e5zFEwTQgiPMhqpe/oFwubPwveLT7H8+zVabr3d21H1CKPRSFxcPHFx8VRWVpCVdYC8vFyKiwspLi4kMDCIpKRUEhOT8fPz93a4QgjhcZJIiz7DU0uWe0MC3d29obty0cBeUUHpc09jPX4MxWQi8qZbCEmf1+GSbF3X2b36TZobaxk0fAyJ05ficums/+wQRUdPYfE3c9W3x+MfcP575qw738FVeQwlaBCW9DvPeq2LHUNIoC/RIe62Wp2tbC6EEJfKFT2Khsf/RvB9dxH43z/HPn0mztg4b4fVowYNimTevMVMnz4HTcsmM/MAdXW17Nq1lT17dhAbO46UlDSGDJFuCkKI/kMSadFn9Jd7YSubq3g5++ve0FfFLGHp6AUe7w19MRcNGg7s58TLL+JqasI8KJJh9/4Qy+jR59w+P2MrpQVZmH39mH7FbSiKgS2r88nPrcDsY+SqG1PO2ysawJ6/E3v2WjAY8Vt4H4pvwCWNQQghvMW6/EZa1q7G8v67BN13FzWfr4EOVvL0dxaLhdTUSYwfP5GiomNkZmZw/PgR8vJyycvLJTJyCCkpacTGjsNk6trtS0II0VtIIi16vbbFxXrrfc6dtffEft5q0xv6zqSbGRs62mvx6A4Hle//h1NrVgEQkDaBoXfehTHgm0ntaTWVpWRs+giAyYu+TUBwOLs3HyV7fylGo8IV1ycTOfT8PUad1cVf3xc942aMg8d6aERCCOEdDX/6K+bdOzFn7Cfg8d/T+N//6+2QvEZRFKKjY4iOjqG2tobs7IPk5mZRUXGS9etXsX37JhISkklKSiU4OOTCBxRCiF5IEmnRq3VUXOzxe2f0qvucO6PFYeU/eR+z88Re4Ove0P5m7903Zq+qpOz5Z2g5cgSMRgZddz1hi5einKc4jMNuY8fnK3A67cQkTSdanciurcfYt70QRYHF1yQyPPr8y9Nrq2twrfwHJocNU9zMM/dFCyFEX6YHh1D39IuEXnM5fk89gW3+Quyz5ng7LK8LCQll5sx0pk6dweHDGllZB6ioKGf//r3s37+X0aPHkJycxsiRo6QntRCiT5FEWvRa5you9vi9M4iN6jtXsNv3hr4hbhkzh0/16geGhv1fceKVl3E1NWIKD2fYPffjNzb2gvsd2PQhdVVlBIUNZuKC5XzyWS4lWeUAHFN0ylrsxJxn/+0HS2HLc6SYKyh1hlEdtpQZ8sFJCNFPOKbPoOmhRwj42+ME/fAHnNq4HT00zNth9Qomk5mEhGTi45M4ebKMzMwDFBTkcezYEY4dO0JISCjJyWnExyfi69u3btkSQgxMfSKRVlXVBNQD7X+zNmqaFti6zRLgd0AScBL4p6Zpf+3RQMU5daX3syeKi3mTJ3tDeywmu42Kd9+mdsN6AALGpzL0e3djDAy84L5FeQcoOLgNg9HIjCvvIPNA+ddJNC4qXPp5q6jXNlgp3vgfLrcU0uQy86/6edStPUpi7NA+8X4KIURnND3yGD6bNmD+ag+BjzxE/Yuv9vuWWBdDURSGDh3O0KHDmTVrLjk5WWRnZ1BbW8O2bRvZtWsr48YlkJycxqBBkd4OVwghzqlPJNKAijuJvh3Ia/O4E0BV1ZnAZ8A7wP8As4E/q6qqaJr2lx6OVbTT1d7Pfbm4mKd7Q3uCtbSUsheexVZchGIyMej6GwlduLhTM+ONddXsWfMWAKnp11BZ6cPO9bkAFOKiAvf7dL4LHXXaLi637MelwxuNc6hyBeFn7jsXRoQQolNMJuqeeZGwBbOxfPIhtkVLsH7nFm9H1Sv5+wcwefI0Jk6cwtGjBWRlHaCkpIicnExycjIZNiyKlJQ0YmJiMRrP3UpRCCG8oa8k0qmAC3hP07SmDp7/NbBP07Tvtn7/paqqZuCXqqo+pWmatacCFWe7lN7Pl9IP2Ztyq/NYkfM29bYGj/WGvhS6rlO7eSMV77yFbrNhHjKEYT+4D8uo0Z3a3+VysuOLFditzQwfm4zBksDaT3JBhzKDzsk2FzvOdaHDWVVISMa/AfiseSLZ9hHn3V4IIfoyV8wYGv7wZ4IfuI/AXzyKfdoMXDFjvB1Wr2UwGBg7No6xY+Oorq4iK+sAmpZDWVkJZWUl+PsHkJiYQlLSeAICLryCSgghekJfSaTTgIKOkmhVVS1AOvDLdk+9B/wMmAls6PYIRYcudXl2V/ohe8vp3tBrCjcCEBc6htsTv+Ox3tBdiqm+nhMrXqbxwH4AgmfMYvAtt2KwnL81VVtZ27+gqvQofoEhDI5ZytpPctF1mDgzGmeY5YIXOlzNdTSv+geKw8qpQWlsPpKCn6+hz1wYEUKIrrB++2Za1q3B8vEHBN9/FzWfrAKztHy6kPDwCNLTFzJ9+mw0LZesrAOcOlXN3r072bdvNzExsaSkpDFsWJQUJxNCeFVfSaRTAauqql/iXrZtB94FHgFGAmZAa7dPfutXlS4k0ooCISGdTzY6YjK5lyFd6nH6sjEGBWe75dlOl86YkaGEBLlnIi90nkJC/IiO6t44L1V5YyVP73mVglPHUVC4LuEKrlaXeLQ39MX+PNVmHKTw6WewnzqF0d+fUT+4i4hZsy7qNYvys8jdvQZFUYibuJwNXx5H12Hm/DHMWRyHoihMTx1OeXUzg8P9CAs6e3ZZd9ip+PwZ9IYqfIbFkvydn/Jss+uc218q+TfXOXKeOsdT50k+6w9QikLDn5/AvGcX5q/24v+3x2n6eftr/uJcfHx8SUlJIzk5lZKSIrKyDnD0aAEFBXkUFOQRHj6IlJQ0xo1LwCwXKIQQXtCXEulg4EXg98Bk4H9xJ8m/aN2mrt0+9a1fg3sgPnEOYUEW7rk2hec/ysRkMOBwubjnmhSPJ1DetL1oLy8feIcWRwsRfmH8cModjIvw3hI+l9VG0b/fpHzlSgAC4+MZ88CP8I28uKItTfU1bPjA3et5ZMJ8Nq2rdSfRC8YyZ1HsmZmAsCBLh++nrruoXvkMtpJDGAPDibjmERSTD2FB9Kv3XwghzkUPDaP+6RcIue4q/J/4M7Z5C3FMm+7tsPoURVEYMSKaESOiqa+vJyfnIDk5mVRXV7Jp01p27NhCfHwSycmphEqFdCFED+orifS3gWpN0zJbv9+squpJ4A1gSetjeod7uu+tvmi6DrW1zV3Z9YzTsxiXepy+bsLYCP50z9m9n9uek756nlocVt7N+4hdJ74C2vSGNvl3y1g6c55ajh/jxL9ewFZWCkYjEd+6mvDLr6TFaKTlImJyuVxsev8FWhrrCQwfTUZGKLoOk2eNInXqCOrqWi54DOuud7Ed2g5mC75LHqTBaYFufo/76s9ST5Pz1DmeOk8REYEyKz2A2WfNofnHP8H/yb8R/MO7ObV+K3pw32nh2JsEBQUxbdosJk+eRkHBYTIzD3DyZBkHD+7j4MF9jBw5ipSUNKKjYzAYPLciTAghOtInEmlN0zZ18PDn7b5vP/N8+vtaz0ckLlZIoG+/uhe2t/WG1p1Oqld+TtWnH4PTic/QYQy96x4so0d36Xg5u1ZRXnQYozmAohNJ6ChMmTOaybNGdWp/W/ZabBlfgGLEb/GPMA7q3H5CCNEfNf7svzBv2oA5Yz+Bjz1C/TMvejukPs1oNDFuXALjxiVQUXGSzMwDHD58iKKi4xQVHScoKJjk5FSmTp2Mv7+/t8MVQvRTvT6RVlV1MLAMWK9p2pE2T52+ae0k7jZYse12Pf19+3unheiy9r2hh/oN4a7xt3q1N7StrJSyl17EeuwoAKELFjJo+Y0YfLt24eLE8UNk7/gSgFNNE9CxMHPhWFKnjOjU/vZj+7Bud1fotsy9E9OI5C7FIYQQ/YaPD/XP/ouwRXOwvPcOtoWLsS6/0dtR9QuRkUNYsGApM2emk5ubTXZ2BnV1tezYsYU9e3aQkJCIqiYzePBQb4cqhOhnen0ijXtp9vPAP4CH2zz+bdwJ9FpgM3Cdqqp/1zTt9BLv5bhno/f2YKyiH2vfG5qKURQXx3M00MWwlJ6PR3e5qFm3hsoP3kO32zGFhzPkju8TkNj1VltN9TXs/OI1QKfZmYBDH8Lcy8eRmHrhvt8AjtJcWtY9A7qOz+TrMI+b3eVYhBCiP3HGxtHwmz8S9NMHCPzZw9inTMMVLat1PMVi8WPChMmkpk6ksPAYWVkHKCw8RmbmQTIzDzJkyFCSk9OIjR2H0dgXPv4KIXq7Xv+bRNO0SlVVnwYeUFW1DtgCzMLd7uqfmqblq6r6W9wJ9duqqr6Ku+XVo8Bj5+g7LcRFadsbWneYsR1JxlXjnoXubF9sT7KdOMGJV1+iJf8wAMEzZxP5nZsxXsQSttoG61n3rbucTrZ/9grW5gbsrsFY9UQWLUsgLnFwp47nPJlP85d/B6cDc+ICfCZ8q0tj62r8QgjR27Xcejs+a1fju/Izgu+/m5qPvgBTr/8o1qcYDAZGjx7D6NFjcDqb2b9/HxkZBzh58gQnT37J9u2bSEhw96QOCpJ6tEKIrusrv71/ChQD3wMeA0qAXwGPA2iatl5V1eXA/wEftT7/qKZpf/VOuKK/cLgcfHZk9Zne0CP8oineG4ur0efMNhfTF/tS6U4Xp1Z/SeWH76Pb7RhDQhjy3TsITJtwwX3bJp7ZR6vd/Z8NCg6Xu5+zpWIHVWVHcel+tCjTuWx5MqPGRnQqLmdVIU0r/wYOK6a4mfjOurVb7xffnln2jfhnpnRu1lwIIbxGUaj/21OY9u3FvHsn/k/+jaaHf+btqPqt8PBwFi5cRGrqVA4fPkRm5gGqqirYt283+/fvYfToMSQnpzFiRLT0pBZCXDRF189V7HpAq3G59JCqqoZLOohUxu2c3nqeKpqqeCX7TY7XF2FQDFwxejHTB83ksed3YXd8XQzebDLw+L0zuj2R9qmr4uhzz9OYlwdA8IxZRH77JoyBgRfct23iaXe60HXO6u8dZSwj2bgLXVewGhdw2Y3zGTK8c1fqXTVlNH36B/TmOkyjJ2FZdD+Kwdi1QXZCbYOVnz23o8P3IDoq1L1NL/tZ6m1667+53saTVbsNBqUWCPVAWAOZR/429wbmjesJvfEadKORms9W45g05azn5d+oZ7Q/j7quc+JEKVlZBygoOIzL5f47EhoaTnJyKvHxifj4yAqn9uTn0TPkPHpGb/rb3FdmpIXoUbtP7OMd7UNanFbCfEO5M+lmxoaOBuD2pao7KTUqOJzu2dDuTKJ1h4PqlZ9T/fmn6A4HxtBQhtx2B4Hj0zq1f22DlRWrNOwOF/YOng+jnkSDu4VXvTOZ2JlpnU6inadKaP7scfTmOowjkrEsvLdbk2iAitoW9wWBNo+dXhUQHdWtLy2EEB5hn7eApnt/hP9z/yT4vrvcLbECg7wdVr+nKArDhkUxbFgUs2Y1kpOTSXZ2BjU11WzduoFdu7YyblwiKSmphIcP8na4QoheThJpIdpocbTwbt7HZ3pDT4hM4eb45fibv773eGbKMJJiwnvk/tzmIwWcXPEKtpJiACIXLSR42fKLuhe6o8TztFDsTDTvxqA4aHJGsdc1hr3bjjIxZegFx+WsKqL588fRW+oxDk/Ab8mPUYzmixlel0SGWHC4zl5J43DqRIZYuv21hRDCUxp/+St8Nm/ElJNFwC9/TsM/nvF2SAOKv38AkydPZ8KEKRw7VkBm5gFKS4vJzs4gOzuD4cNHkJKSRkxMrPSkFkJ0SBJpIVoV1hXzSnbnekN3d19sZ3MzlR+8R+3G9aDrmAcPYcz99xCclHTRS1k6SjwNCkSikGDcj0mpx+oKZqdzAnYU/Dpxz7ez8hhNn/8ZrI0YRyTjt+QBFJPPObf3pJBA3x5fFSCEEB7n60vdcy8RtmQufm+9gW3hYmzLrvV2VAOO0Whk7NhxjB07jqqqSrKyDqBpuZSWFlNaWkxAQCBJSeNJTEzB3z/A2+EKIXoRSaSFV5xVcTnE78I7dCOX7mJD0VY+bu0NPTxgKN9LvsUrvaF1Xadh/z4q3noDx6lTYDAQtvRyIr51NcGDu3YLxzcST4fO4uhw6o/vwNdQilM3s9sxFXvrr4MLze46Txym6csnwNaEMToVv0U/7LEk+rSeXBUghBDdxRmfQMOvfkvQLx4h6KcPcmrSFFxRI7wd1oAVETGIuXMXMX36HDQtm6ysDGpqTrF793b27t3J2LFxJCdPYOjQYVKcTAghibToee0rLt97bQrzJnrng0OdrZ7Xc94lp9rdGzo9agbXxl6FTw8sUW7PXllB+Ztv0HgwAwBLzBiG3HYHviOjL/nYpxPPkvIGtB1FVB3LJdCUDcCQCVdj3+fCrxOzu/ZjX9Gy7jlw2t2FxRbeh3KBfpzd1aaqu1cFCCFET2j53t34rFuN79rVBP3oHmrf+8TbIQ14vr6+jB8/kZSUCRQXF5KVdYBjx45w+LDG4cMagwZFkpycRlxcPGZzz39eEEL0DpJIix7VUeGr5z/KJDVuED19B1Lb3tABJn9uSbiB1MikHo6itZjYqpXuYmI2GwY/PyKuXU7ovAUoHrwvy9FkZ9+qfBprywnx2Y0CJM24nOQZ6UyeeuFk15azHuu2191LzePT8Z19+wULi0mbKiGEuABFof7vz2CeNwOfbVvwe+Yp+O9feDsqgbs42ciRoxg5chT19XVkZWWQm5tFZWUFGzeuYceOzcTHJ5OcnEpIiBTlF2KgkURa9KgOKy4bDJRXNzM0tGeKRbXvDR0XOobbE79DmKXn/wg25mRT8eYb2E6UARA0dTqRN34HU6hnY9EyT7B59WGc9mbCLDvBZWfkuDSSpi8Fzj+7q+subHs+wHbgMwB8Jl2Dz8SrL7israOLJitWaSTFhMtMshBCtKEPHkz9k88QcvMNBPzxNziuWII+cZK3wxJtBAUFM2PGHKZMmUF+fh5ZWQcoLz9BRsZXZGR8RXT0aFJS0oiOjpFl30IMEJJIix7VYcVll4vB4X7g6v6e5m17QysoXBGziMtGL8Sg9Nx8eG2DlfLjpfis/xRrxj4AzEOGMuTW2/BPSPToaznsTrasyefQwROAiyEh+7E31xM6eARTl96KcoFx67ZmWja+iOPYPlAM+M65HZ/4uZ167fO1qZJEWgghzmZbtJTm7/8Av5dewHT77dh37oIeX6slLsRkMhEfn0h8fCInT54gK+sA+fkahYXHKCw8RnBwSGtP6iQsFu/WgBFCdC9JpEWP6qji8j3XpBAWZOn2BvXn6w3dU7bvL+TQOx8yreoguu5EN5mJXHY1oYuXYvDwfVY11U2s/jCHqopGjCaFMSOPU1VSgsU/iDlX343JfP4CYa7akzSv/geuU6Xg44ffgv/P3p3Hx1Xeh/7/nDP7aKTRvnjXeuQdjLGDMfti9gQISUgTyNaGpr353fa2ue2r7c29ae8vfaXNr03bmxvaJsSEJEBIgEASTDBhNWBjYyzb8tFia7EsyVpHGmn2c35/zEgaySNbu8by9/16+TWas+mZRyOPvud5nu/3D7Gu2jTl7y9lqoQQYnr8/+Nvsb39JtYTtVg/9Umct9xOrLKKaEUVZkEByEhnWikqKqao6DZ27LiO2toajh07wsCAj3373uC9996mqmotGzZcRkFB4WI3VQgxDySQFgtuYsblVcvnd0r1xNrQlxVs5Pcm1Iaeb6Zpcvbtd7A98WN2RocAqPWs5s2ibfzNtTfPaRBtmiYnjnTw1isNRCMG3hwX1Vov9YcOoVqsXH3Pl3Bn5pz3GtGWIwRe/R6Eh1Gzl+Ha9VVUb/G02iFlqoQQYppcLgb+7/fJ2XU96st7yHx5z+guI8tLrLKSWHkl0coqYhVVxCoqiZWWgX1hKyeI8VwuF1u2bOOyy7bS3HyKo0cP09raTG3tUWprj1JUVMLGjZdRXl6FxXL+3CJCiIuHBNJixmaTjXmhMi5Ppzb0fAm2NNP15E8I1Ol4gbP2bF7J30aLuxiXwzKnU52DgQiv/aaOU3XdAFSsLaCiMsD+l34DwLZdv0f+stJJzzdjEUL7nyFSE//jzbr6cpw3/AGKfWbT06RMlRBCTE9s/Qai776H8qtfET16HEtDHZb6etQBH+rB97EdfH/c8abFQmzVamJJwXU08Wjm5cko9gJSVZXS0nJKS8vp7+/j6NHDnDhxjM7Odjo723n77ddZt24j69dvwuPJXOzmCiFmSQLpi9B8lROajnTPxpwOtaEjfX30PPtzBt55G0wTJSODlz0bOeSpwEysTZ7tVOfk98JA1xC/+7XO0GAYm93CtbdWkpMzxOvPfB8w2bTzblZXT568xuhvJ7D3exg9zaCo2Lfei/2yOy+4jvpCpEyVEEJMj7l+A+b6DQyOLHkyTZSuLqwNdVga6rHU12FpqMPaUI/a0oz11Emsp07Cyy+Nu46Rk0OsoopoReXYCHZlFbHVa0DKNs2r7Owcdu68ge3br6au7gQ1NYfp7e3m4MH3OHRoP6WlFWzcuJlly1ZKcjIxJaZpnvP12LaR5/Gvxw5Ntf1C+5O3T/w+Y8dOrS2pr5G6LZO3Mfl7+v0OCgoKSAcSSF9k0iGATfdszINhP48ffyqpNvQO7q24c8FqQxvBIH0vv0TvS7/GDIfBYiH7xpvJu+seLj85wJELTHWe6o2SkfeCXVEoiprkmfEP4uLlWdx0dzWK6Wfvk/9BLBahfNPVVF95c8rrmKZB5PirhN57GqJhlMwCyaqv7QAAIABJREFUXDc9gqWwfO46RQghxMwpCmZhIZHCQiI7do7fFwxiOXUyHljXJwLthjosDQ2ofX2oB97DduC9caeYViuxNaVjI9iViSC7ohIzJ3cBX9jSZ7PZWb9+E+vWbaS9vY2amsOcOtXAyZP1nDxZT05OHitXrgIUJgYMkByEjG4Zd0yq4Gqyr1MHMhcKcExsNgumCZFILMX3n6wtF2rj+ABqdsFWqrZMpY1T7a/UgeFkQerEPhh5VBQF0zQvGJxO1i4xpqSkhHvvfXCxmyGB9MUkXQLYdM7GPJ3a0HM9sm9Go/jeeoOeXz5HbGAAAM+WK8i//xPYi+Ij4Ts2Zpx3qvNUb5SMvBdcUYNSVOwoGJhsuWoV268pJTQ8wN6nvksoMERJ6Tq23PjxlHe8Y72nCb75Q4zOBgCsFVfh3PnQjKdyCyEufpqmWYFBYOJ0mSFd1z2JY24F/jewHugE/k3X9W9PuM5W4B+BrcAA8EPg67quJ398iNlyOomtXUds7TrCydtNE7WzIzF6XT86gm1pqMfS2oK1oR5rQ/05lzPy8yesw64gWlGFsWo1WOXPxplSFIVly1awbNkKhob8HDt2hOPHa+jr66Gvr2exmycuQiN/143/+04ZXc2RevvYY/yYc/ePbT/3+pNvT9WWVNvHXz/5+5+7PfV+i8XCunVzW+VmpuR/xItIugSw6ZiNebq1oedyZN80TfyHDtL9i2eIdHYA4CwtI/+BT+Ku0s45frKpztO5UXK6Y5A1hkI28aQlfkzabQq7KvKIhIZ57effZcjXQ27RKq668/Oo6vjkJmY0RPiDFwl/+GswYijubBxXfwZb6dYZ9YEQYknRiAfRDwN1SdtjAJqm7QBeBJ4C/gbYCfyDpmmKruv/mDimAtgL7AM+AawlHnhnAX+8MC/jEqcoGMUlGMUlRK6ZULZweBjLycaxqeKJddjWxnrU7m7U7m5s770z7hTTZiNWVp60DrtybBTbO79JQ5eajAwP27bt4IorttPU1Mjg4EBiz4WDnOT98WPODXzGb79wkJUc5KT6/hkZ8b9Bhocj477Xud/zQm0893VNt62TBVlTCw4Xtt8mbvd644MUg4PBCd/z3GNTtUWWAMSN9ON8V/uZCgmkLyLpEsDOJBuzGYtiDnZhDHZjDHZhDnZjBAYwg35C0WGM0BCxcBiMKMSimKaBolpAtYJqQbE6UBxusLtRHG4UVxaqOwclI5sem4Xd7W/SMtSOqqjcseZmdq25cdLa0HM5sj90/Bjdv3iGUNMpAGyFReTf93E8V2yd9n94U7lRYhgmRw+28e7rp8g2IIbJGUw6MLGZKjluhTee/R4DPe1k5RVz7X1/iM0+9ppMwyBa/zahAz/HHO6Pt3ntDTi2P4BiX7gs5kKItLYZMIBndF0fTrH/G8AhXdc/m3j+kqZpNuCvNE37V13XQ8BfAD7go7quh4Ffa5o2DPyrpmnf1HW9bQFeh5iM201sw0ZiGzaO324YqO1nxkaw6+NTxC0NdVjOtGHVT2DVT5xzuVhhUSKojo9gj5TsMlasBMlSPSmLxUJ5edViN+OC0ilwuZg5HPG/x4JBY5FbIuaKBNIXkXQqJ3S+bMxmLEKs6xRGZyOxnhaM3tMY/WfAiKW8VuqtyatMxn+d7AOPg+cKMwmpKtnRGJ/2WygNHSXc2YMlZxlqdglqzvJxU5XnYmQ/0NhA97M/J3CiFgBLVhZ5d92D99rrUWY49e1CN0pam/rY+2ItHW3xO9eZhRm81+PHsKrYYiYP3VJOzd4f0dvRjDsrl+vu+woOVwYQHzWPtR4htP9nGL2nAVDz1+DY8Wmsxen/IS6EWFCXAY2pgmhN05zAtcBfTdj1DPA1YAfwO+BW4IVEEJ18zHcT+x6bh3aL2VJVjOUrMJavIHLdDeP3+f1YTzYkTRWPTw23NNZjOduJ5Wwn7Htr3Cmmw0GsrCKxDjsp4VlFJaZkrRZCXOQkkL7ITKWc0MS1v8nPgTlbFzwyRdk0YkQ76hhu/IDIGR2brwXFiE44WkHJLEDNzEfNzEfJzEdxZ6M4PWTm5aE6PfgDRnwE2mJFUVRMIxoPvmNRzGgYMzSEGR6G0BDDwz38wlfL+0YfABuGY9zX0YvbMInRTqzl8LhAWckswJK3EjV3JQWeZWSYfgI4GZlCM9WR/WDTKXqef5ahmiMAqG43ubfdQfZNt6A6Zt+fqW6UKFGDl587TuOJLgAyMh3svLmC0qo87h4K0+ULkuexUvPqE3S26DjdmVx//x/hzsyO/2xOHiD84a8welrjfeHJw7Ht41jLt886I7cQYknaDIQ0TXuJ+LTtCPA08GfASsAG6BPOaUg8apqmvZc4btwxuq53aZo2QHzquLjYeDxEN11GdNNl47cbBurp1kRgHZ8ibmlMZBbv7MBaewxr7TEmfkLGikviGcTLx0awYxWVGMtXgCqfTUKI9CeB9EXofOWEJq793bG+iH3HOrGqCqFIDEVRsFvV2a8LjoSIthwm2vwB0dYaCA2hAPbE/qCriMw161DzV8cD2JzlKLbUgarD66JvMMjJs/3xAN8Vf22TTYyO14Z+h7NG37ja0ESCDHSeYaDzNFmRHuzDnUR62mCgHQa7iA52QdMhVOBvMsFvOGkz8miN5VG5aROZDGGa9pRTsoPNTfS88DxDhz+It83hIOemW8jZdTuWjIwZ9WEqyTdKsuwWGo928uRL9cRiJlabyvZrS1m7uQSbPT5Vzutx4HGqvP3CD2g/dQy7M4Pr7v8KHpeLcM3LhI/+FnMwHoArLi/2TbdhW38TitV+vmYIIS5tm4mvZf4P4P8lnizsfxIPgP8ycczAhHMGE49ZgHeSY0aOy5ppwxRlbJrpUma1Jv6Pv1hea041bKwetykGxAYGUOp0FF1HqatD0XWo01Hq67F0tGPpaIc3Xx93nulyYVZWYmrVoGmYVVWYmoZZWQXT/Ly96PoxTUk/zg3px7kxV/04F0vOJZBeQlKt/X39w3aAsdFZ0yQQjk+mnu66YNOIEjt9jEjDu0SbDkE0NLqvK5bJscgK6iLFnIoWEhlw8a17r5rStV87dJpHn63BcoHEXxeqDb1P72f3ntbETYRcdqxfy76WTuyqSS79fOIyJ+XuAYyeFmLdTXhCQ2hqG5q1DfQjDOlPxNdeF5RiKSjFUrCG8JBK32/3MnTkQwAUu53sG28md9ftWDLnZ1qay2ah/1Qfr+0/TSTxs6pcX8gtd60lK9s1bo1SLBrh7Re+T/up49idGVxz7W04Pnwef9Oh+HpzQMkqxL75DmyVOySAFkJMxSeBXl3XaxLP39A0rRN4gvi0bJh8xY3B2H3QVMcoiWPEpSArC3PrlZhbrxy/PRaDpqZEcH0i/liXCLY7O1GOHIEjR865nLlyJWZVUnBdpWFqGixfPjd/FQshxDRIIL2EpFr7ez5TXRds+HuI1L5G5MQbmAHf6Ha1sBxb2ZW0Ocr59q/OjAboAK4pXtvnD/HoszWEo2N/V6UK8AfCg/zo+NPjakPfV3EnwwGDhjYfDqt63psIQ3j5l0Mq33rkxvh0dNPE9PfE13J3NxHraiLWdQozMECs5UMCxz7EfwZCiZerWBQ8G8rIueEG7KurUTyeC3XvtIWCUY59cIYP958mGIi/ipWlOWy7tpTCkkyyJtx5i0bCvP3L/6Sj+QR2q4XtjkEc+x4jET5jWbkRm3Yt1jVXoMg0OSHEFOm6/nqKzb+a8HziqPLIcx9jI9GpRp49iWNmxDQvjYRHl0Ryp/xl8X87rh+3WenvG78GeySr+KmTKK2tKK2tsPeVcecYGZ74FPGKyvh08YpKohVVeC7fAC7X0u7HBXBJvB8XgPTj3JirfszL88z6/psE0ktIqmRV53O+dcGmaRI7U0u4Zg+x1iOjVejV7BKsFVdhq/gIalYhALn+EFFjfALWqa457vIFsVrUcYH0xAB/Ym3oz6x9gE0F68dNYw/HDNQL/DYkX1dRFJTEem3K4nfKDcNg6MBb9P7m14ROx8tYKSq4iyCj2MRiaySyr5HIPsDuxpK7AjVnOWrOsvijtxglI3va644DwxGOvH+aowfbCIfiNyOKl2ex/bpSlq0aX1IkNjxAtOUYgdbjvPvhQXqDEewYbLP5yYwZKN4ibJU7sFXtRPXkTasdQgihaVohcA/wqq7rJ5N2jdzJ6yQ+a7diwqkjz3Vd1/2aprVNPCZx7SzOXV8txCgzO4fo1m1Et24jlLwjGsXS0hRfg52cVbyxHrWnB/XIYWxHDo+/lqLAqtV4yysS5bqqRoNto7BIRrGFELMigfQSkipZ1egaaYtCKJxYI21TJ834bRoG0VPvE/7w1xjdTfGNqgVr2ZXY1t2ApbjqnDXEs8kmXuB1Eo2Nn+U3EoTHjBgvnNwzrjb059Y/SLbDm3Iae2zSmYbjrzuRGY0y+P5++vb8hlBrPCGX6naTfdMtZN9wI6oxTKy7mVh3E0ZPK0ZPC2ZwkFhHHbGOuvEXs9hQMwtQsgpQPXko7mzUjBwUlzdevsvhRrG7UawOenuC1HzQSd3xLmKJGwnLlru5bHM2y3LDEDhO6HAfpr8Ho6+Nof4zGIFBgobCgaCbQcOCUzHYviyXnKrbsK7ZgppdInUGhRCzYQCPAt8B/jRp+yeJB9CvAG8A92ma9s+6ro/8x3s/8ZHm9xPPXwbu1jTtz5Myd9+fuMZr8/oKxNJktcYzgJdVwK7bx+1SenriI9gjSc5GHptOoTQ3YW9uwv7qhFHszKx4qa6KsRHsWGUVsdIymGXyUCHEpUExzamPYF5C+g3D9Pb0+Gd1kbmcwjExE/d0jp1K1m7TiBFteIfQoV9iDpwFQHFmYttwM7a1N6C6sjAMg+CQj1BgiHBwiHBwGFCwO93YnS6CMSv+qIPCnIxpZQT/oLGHR59LrJFOBOGV5XYeO/4TmgdaURWVO0tv4dbVN4zWhm5o8/FPTx0eN53cZlEwAZtVPecmwsh1k9deG8EAvjffoO+3LxPt7QHA4vWSc8susq+/AdWZOomBaZqYw/2jZb2MvjPE+towfZ2YwcGU54x+T1OhLbISPbiWjuiy0e3Lba1scB6hwHb2vOcPW1zsH3IyHI3hyfRy3b2P4Mlfft5zLiUybWpqpJ+mZi6nj6mq4gOyL3hwGtA07V+ArwB/B7wJXE283NX/1XX9v2qadiPxgPpnwA+Jl7z6K+AvdF3/VuIa1cAHwNvAPwNVxBOX/UDX9a/MsGlz8tl8MZDf0bnhdVng5EkCH9QkZRWPl+9Sff0pzzFVFWPV6rER7KSp4mZ+/iU5ii3vx7kh/Tg30umzWQLp1NIqkJ6YiXs22bYnMk2DaON+wgefw/AlpjNnFWLfdBuWiqvo7mil+8xJuttO0t1+img4dN7rWSw2svKK8BYsJ6dgOYUrK/HmLzvvKKl3JGt3azxrt+4/xlP6swRjIXIc2Xxhw6cp864Zd47PH+Jr33uHSNKUcJtV5a8/ewWhqJHyJsJIcB/p6aZ/7yv43nwdIxD/2diKi8nddTuZH9mBarPNpCsBMMMBjIGzGANnMYf74wH3UD++vgD13Tk0+goJxOI3NCxEKXc2oDlr8dr8YHWgWB0oVjuK2xsvD5aRg+rOQc0pIaCqvPrCTwgO+8ktWsW19z2CwzX3a7UvZvIhNTXST1OTTh/WC0nTNBvwJ8AXgDVAG/EM3t/Sdd1IHHMv8L+IZ/JuA/6PruvfnnCda4B/IF6Xuht4HPi6rutTTeUxkQTSYlom7UfTROnuHhvBToxiW+vrUFuaUYzU+fAMb/bo1PBxU8XXlIJ96SbzlPfj3JB+nBvp9NksgXRqaRNITxYwfuuRqWXEPp9o23FC7/50rL5wZgGOKz5GpGQtp46+R2PNPgL+8TlhnO5MHO5MHE43dmcGpmkSDg0TDg4TDgwRGDo3h4zTnUnRKo3i0rUsL9uAzTF+pHeknzp7+nm67jne6zgIwOWFm/i0dj9uW+qR4dEbDJOMOCczTZNgQz19e3+L/9BBSHxIuiqryNl1OxmbNs95Qq7hoTAnT3RRf/wsHW1jVWCy89ys3VTM2s3FOJxTC9oba/Zx6NWfYcRiFK9Zy467voDNLlPPJpIPqamRfpqadPqwFoAE0mKaZtSPoRCWUyex1NdNmCpejzqYqqIbmBYLsTWl8aB63FTxSszciz9fibwf54b049xIp89mWSOd5lJl4p5qtu3JxPrPEHr3KWItiZJOGbnYt9xDqKiaA++8xOlf/wwzEWh6sgsoKV1H/rJS8peV4c48/3stHBzG19NOf9cZejua6WzWCQz5aD7xPs0n3ke1WClZs46V2uUsK9swGgye6mvhXw88xtlAd7w2dNU97CjZdt6R7OSay5NNeTfCYQbfe4f+V/cSam2Jb7RYyNx+FTm33IpzTelMunBSQ4Mhmhp6OFXXzemmvpEcbVhtKuXVBazdXELx8qwpr2M2jBiHX3+O+g/iSXQ3XnUL1dvvRJUs3EIIIcTccziIVa8lVr2WcPJ200Q92xlPdJY0gm1pqEdtbcHa2IC1sQH2/Gbc5YzcXGIVVROmilcQW10KVvkzXIiLmfwGp7lUmbinmhF7IjMcIPT+s0SO7QUzBjYn9svuwrL2Bk588Aa1L38LIxZFUVRWVG6mYvNOCleem1zsfOxONwXLyylYXg5cg2maDPR00NFygraGGrpON9LWeIS2xiNYbQ5WapfjX+7huc59xDBY7inhC+s/TXGiNvSFeD2OlAF0uKOd/tdfY+DttzCGhwCwZGbivfZ6vNffiC0nZ8qv6XwMw+Rs+yCnm/pobujhbPvYGmlVVVhVlkPFukJKK/Ox2S3TuvbwYD/v/uZxuk43oKoWdt79Gaq37JQ7mUIIIcRCUxSMomKMomIiV18zfl8ggOVk41hwXV+HpbEhPlW8txd1/7vY9r877hTTZkuMYldhFBdjOl2YLiemyw1OZ/y504npcoHLNfbcmXietA2XC+QGuxALTgLpNDebjNgjTNMkenI/oXd+ijncD4qCrfo67Fvv42xXOwd//G38vm4AVq+9kk0778KdOTeBpqIoePNL8OaXoG25gYDfx+n6D2nWD9Jz5hSnjr4LR+Fyh4K7rJw7tz2EJ2NmMyyMSIShDw7R/8ZrBE7Ujm53rCkl56ab8WzdNqv1zxAPnHu7hmg/7aOtuZ+25n7CoejofqtVZUVpDqWV+aypzMPpmtn3O3PyGPv3PEEoMITTncmOu79AxboNs2q7EEIIIeaBy0Vs/QZi6zecO4rd0X7OOmxLYwOW061Y6+MlvOaCabdjutzxwDoRgI8LvEcCdacrsd89FqiPBO6J43AlB/JuKMgGlwslwuj5ErgLIWukJzMn67AMVeFsbwCXVZn1eubpZO0e1wZfJ8G3HifWdgwAtbAM586HUfNWcvzdPRx9Jz4FKSuvhCtueoDCFRNLg86P2t46njz4YzydAxT3GdgjiTrVFiurtC2Ub7qavJI1UxoND7WdxvfmGwy8uw/DH/+ZKXY7mds/QvZ1N+Jcs2ZGbTRNE/9AiK6OQbo6/HR1DNLRNkAkKVM4QFa2k5WluawszWFFaQ422/RGnpPFohFq3v4V+sFXASheXc322z6DMyPrnKRss31PLUWy/mhqpJ+mJp3WYQlA1kiLaUrrfhwawnqyAUtDPUpPN0ogiBIMoAQCEAygBIMogZHHYQiO7A/G9wcC8efBIEowuODNjwfpyYF5UiCePKLuHgnukwP7pEA+OXCfMMo+Gsg7HEsiW3pavx8vIun02Swj0vNkX007j+/RsVpUIjFj1pm2J5vCPBnTMIgc3UPowLMQC4MjA8e2B7BVX0s0HOKdX/6AtsYjgMKGHbez9spbUC0zDwCnKmpEefHky/Ha0BbIWafxqW0P4W9t5cg7r9LRdIKm4/tpOr6f7MIVVG6+hlXVV2C1jc+GGfP7Gdz/Lr59bxNqOjW63bFyJd5rriPzIzuwuN1TalMsZuAfCOHrC+DrDdDbPURf9zC93UOEgtFzjs/KdlK8wkvJCi8r1mSTlZ06Gdp0dbWd5MBvf8pgbyeKorLx6jupvvImlETJr9cOnebRZxNlwuY4e7sQQgghFlBGBtGNm4lu3Dz7axkGhEKjgbgSDMBIYD4SiCc/H9kfGB57PlngHgxiCYUgMIw5nAjeQ6GkAD51GbG5ZCpKIjgfC7hJGmEfDdRHg/mkwN3lxnSND+THpssnne9OCuzt9iURuIv5J4H0PPD5Q+zeoxOJGoQT2bZ379FZX5q7IKOIsd7TBF//AUbXSQCsFVfhuOpBVFcWg31dvPX8vzPQ24nN4eKqOx6mpHTdvLcJoGu4h8eO/YTmwXht6DvW3MKuNTeQk5FBfnUeOSUa/v5uGo+8zcmj79J/9jQHfvtTDr/xHKXrt1O27iNY2toZePcdhj48jBmNB7mqy0Xmto/gveY6HKtXoygKpmkSicQIB6MEAxECwyP/wgwNhhkaDDE0GGJwIIR/IMhkEzOcLhsFxR7yiz0UFGVSvDyLjMy5/RlGwkGOvPkCDR++BZhk5hSybdfvkb9sLBGazx/i0WdrRt9PsLDvKSGEEEKkKVUdWzc9NyvzxjlnBNAwkkbIJwnckwPzYAACgfHPR85PBOfJgbsynDQqHwyghMOj50Pf3L/ACUxFGTciPj4wTwrkRwNzJySNsI+OqE8YYVfyveByoUbVcSPx2GwSuF+kJJCeB/ORaXsqTMMgfOQ3hN//BRgxlIwcnNc8jHXVZQAM9HTwu5/9K8HhQbLyitl5z5fIzCmc9vcxDJNQMEooGCESjo39i8SIRQ1iMYNY1CQWMzBNE8MwaR04w7GuE0RNF6stm9mUv47sZi/vNTXhcMTfhsHgSI9toLCymqH+OvzdR4gEOqk79Bp1h15DCWdgCeZj5l2NxZuDmp0HGR6iMZPo3m4i4U4i4RjhUBTDmPqyBU+Wg6xsJ94cN7n5bnILMsjJc+P22KeVbG06DMOgufYANW+/SMDvQ1FV1l55C+u278JiHb+2ussXxGpRxwXSC/GeEkIIIYQYR1XjI7huNwuyQDQWSwrM4wE2I18HAueOqCdPkQ8kj7gPj5syP+5mQCApmI9EYHgYZXgY6J3zlzOxIJqpqvEp7Mlr0ydb25408j5xCv24504XuCcmqUtMlZds8XNGenIezGWm7akyBs4S/N1/EOusB8BWfR2Oj3wSxR6f3uzraee1n/0bweFBCldWsfOjX8JmP7c9kXCMgf4AA/1BBnxBBn1Bhv3h+L+hMIHhMOFQ7JzzpiKXstGvT7UOAKnrMY7JAnZiUfpwqCdxqK1gHyJqH8IwO/Abqwn1WjF6jZRnW6wqdocFp8uGy2XDlWHH6baR4bGTkenAk+kgI9NBlteJxbqwSTM6mk/w4RvP09/VBkBu0SquvPVBsguWpzy+wOskGhv/OlO9p2a6ll4IIYQQIi1ZLJCRgZmRsTCBezR67ih7qunwo1PhR4L5scB9fLAf32aJhFCGAxjDw+MD92gUZcgPQwuT/8G0WsevbR9Zi540wj4WyCeNuqdcxz5JkrqkKfQswNLRxSKB9DwYybT9+Ms6VnVsjfR8BDamaRLR3yC07ycQDaG4s3Fe+wWsqzaNHuPrbud3z/wboeFBilZp7Pzo72Ox2hjoD9B5ZpCes356u4bo7R5m0De1hBUOpxWH04rdYcVmt2CzWbDaVKxWCxargsWiMhQb4mhvLUPRYVRVYX2exirv8tER3pFHl8uGaRj4T7cTajtN6EwbZiCAYsYDR4snA9eqKuyrbmAo2ErPmQ8IDfXgstThstSRlb+a4tLLKSndiCvDg81uweGwLnhwfCGmadLRVMuJ9/dytjV+w8OdmcPGq+9k9dqto2uhU/F6HHz53o08+lxijXSK7O37atrj2d1lDbUQQgghxMxYrZieTPBkzmngPmmSrEgkdeA+HBj/fCRoTzUKPyEh3Tmj8Mk3AqJRFP8g+AdTtHLumTbb+Gzx40bYU22bZNQ9EZgredmYV1wBzK4Sz1yQrN2ppV3W7lTMoJ/gG48RbToIgLVsG86dD6E4PaPHDPR28upT3yEU8JNTXEHemrvobBuis32Q4HDknGuqqkJWtpPMbCdZ2S4yvc74CK7HjtvjwOW24XBazzvd2TANftf6Fs83/oaYGZu0NrQRDDB07Cjh4zX4Dn1AdHDsF9qam0fmlVeSeeV2HKvHZ+82TZOe9lOcrHmHFv0DYtF4sQnVYmVZ2XpWV2+leM3acxKULZZYNEJL3QfoB/bi62kHwGZ3snbbLVReft2U23m+rN0+f4ivfe8dIklTv21WlW89ctUlNTItGTGnRvppatIpM6gAJGu3mCbpx7kh/Tg30qIfTXPSwF0JJI2yjwTiw2OBeHw6fCJQTwTo4zLMByasbR/JMG+knjk6G8aWLfS89NqsriFZu9NcTqaTnEznvPzCRM+cIPi7f8cc6gWbC+c1D2GruGrcMQN9fex96t8IB/zEKKaxZQONLa2j+50uG7mFGTi9DpYty2LFCi9ZOS4slpmP5A6EB/nR8ac53qsDcN2KHdxbfic2S/yuUbizk6GjRxiqOULgRO1owjAAW1ExmVdsxbNl62jSsFQURSF/WRn5y8q4/Pr7aK0/THPtQc621nO6/kNO13+IxWqjeHU1yys2UVK6Dqc7c8avaSZM06C77RRNtQdorfuASCj+HnBleKncch3lG3dgd04tq3iynEwnFcu952xfrHX5QgghhBDiIqEoYLdj2u2Q5Z3/qfKmCeHwhOnuSYF48rr2YBACw+OnxyetYR95bouGMe756Hy3fEokkF4kM13LahoG4UPPET70AmCiFpbjuvER1KwCIL7GuVHvovF4O/2nn8Oq+IgaOQxEt+PJcrNiTQ7LV2dTvDyLmpY+Hn+5Dmu7QvR4R3wqcH7GjF9TbU8du2ufZDBV9BA5AAAgAElEQVTsJ8Pm5jPVD7Ahs4zhmqP0HT/G0LEaIp2dYycoCs7yCvI/so3sK64glJk77cReNoeLsg1XUbbhKoYH+2nRD3G6/jA97U20NdbQ1lgDgDd/GYUrKylaVUX+slIcLs/5LzwD4eAwZ1vr6Wg+QXtTLcMDYwkqsgtXUHX5dayqvgKLZe5/7RZjXb4QQgghhBCTUhRwODAdDsxzx4FmZGRknzSYISGB9CKY6VpWY6iP4KvfI9auAwr2y+/GfsVHQbHQ0TbAiSPtNNR2EQlH8Vjfxa72geqhevunKV+7Em+OazRQ9flDPP5yHZGoMTqKOdNySlEjygsn9/BKy+tYYibbgwXcGFmFue95Gk42xrMtJqjuDDLWr8e9YRMZGzdhzcoa/YUIz/IXwp2ZTfXWG6neeiMBvy8eSDccoautEV/3GXzdZ6j/4PX4sVm55BauJKdoBZ7sAjzefDK8edid7gsG80YsRnB4AH9/N/1dZ+jvaqO/u43+s22Y5tj0FZfHy+q1V7Jm7ZV48+d3rfLIuvzde3SsltRrqIUQQgghhBBzQwLpeXSq9hCmYZK3YqxOc3KN6ekEsNHTRwm++ihmcBDF5cV545dRiqupr+3iw/dO0312bM1YvlfHCJzBandy84P/BW/euUHcXE0F7uxr41evPYa1+Qz3dUVZ3hNDjXYxzPH4AaqKs7wC97r1ZKzbgLOsDGUBsve5PF4qNu+kYvNOYtEIPe1NdLbUcfZ0PX2dpxke6GV4oJfTDR+OO89itWFzuLA7XNgcLhRFxTBimKZBLBolNDxAKDCU8nsqqkrBsnKKVldTvLqanKKVqOrCJTzbsbGE9aW5krVbCLFkDYeifOHvX02576HbNK6/LF754LXDbTz+kj7pdX7wFzeOfv2/HjtAc2fqpDvXbl7G526vBqCpY4Bv/PD9Sa/5Pz63lTXFWQD88DcneOPDMymPW12Uydc/f+Xo88leD8hrkteUHq/p5f0tPPpszaTHXoyvaTF+Tt/6452UJ5bnLZXXdDH/nH76d3fgcc0uYZkE0vPorRd/QmBogHt+/xu4PPFfnOkGsBOncluWr8ey84sc04c58vx+/AMhAJxuG9qGIrwZZzj69jEUVWXnPV9KGUTDzKYCm6ZJpKuL4MkGgicb6T5Rg9p+lp0TFljYl6/AXb0Wd3U1Lq0ai3vm08XngsVqo3BlJYUrK4F4/ebB3k56z7bi6zqD39eNv7+bIV8P0UiIWDRCcGjy0lyKouBwZ+L2ZOMtWEZ2wXKyC5aTU7giZUmxheT1OCSAFkIIIYQQYp5J1u7U5iQz6Dsv/gctdTVsveVTlG/cAUwvu7IRGCD46qPE2o6BomC9/GM0KFdwcF8LgaF4KJ6d5+aybSuoWl/EQG8be3/6z8RiEbbe/EnKN1193vaNTjFPmgo8MsXcNE16m9vorT+Jq+cMnGkl2NyEMTR+NNZQwF+YxbINV5JZtRZXVRXWzKxp9VNaZDEk/pqjkTCRUIBIKEBfv48+f4jcTBeZGU4UiwWny4PD7UFVF74mXrr0UzqTPpoa6aepkazdaUeydotpkX6cG9KPc0P6cW6k02ezjEjPo1VVm2mpq+HMyaOjgfRU17LGOuoJ7P0u5lAfODI5U/553n8/wkB/IwCFJZls2bGKNRV5KIpCKDDE27/8PrFYhLINV10wiIaxqcBn23vIHu7B1l1L6w/3EGhpwWhvQ43ER7uHk0/yZHA6V6E5x6SrwMXV2z/GjjVXTztJWDpSFAWb3YHN7mBfU4DdezoS69j7pCazEEIIIYQQYpQE0vNotbaJt16EzuY6opHwaL3g861lNU2TyLFXCL3zJJgxBrM3sT90Le1vxef8Z+e62H5dKaVV+aPBq2EYvPvr3QwN9JJTtIotN378nLYYwQCRri7CZ88S6TpLuKODSGcH4Y4OzMEB+iYcrwJ+i5Oz9hw6nPl0ufPYeE8ev/a9TQxj0trQS8FM17ELIYQQQgghLg0SSM+jjKwc8kpW0dPewtnWejIKK8YFzxODMjMSIvjGY0Qb3yVqWjie+XGONmVhGEM43Ta2X1dK9cZiVHVs9Nc0TWreeJ6O5hPY7U42r7wM395XiPb2EuntIdrTQ7S3l5g/9eJ7AMXhwFJUwmGflbNWL2cdOZy15zBsTaSXt4ZwVRylyRdPIDaxNvRSIzWZhRBCCCGEEOcjgfQ8Cvf1UZxVSE97C4df38v+08dQFZWYaXLnR1azsTwfTAMMg5ivi9CBZzEGuummmPetN+PvswEmZdlB1me1Yz1US/tbQxjDw8SGhogNDtJrDnNyhRNMk1X1PfgOP5GyLYrNhq2gAFt+AbaCQuzFxdiKirEXF2PNzqGxfZC9Tx0mEI6NO0/N6sZedgTsYVwWFw+t+wSbCtYvQO8tnrmoyTzTOuFCCCGEEEKI9CeB9Dw68TdfJ+rrgjIPwbN1PNh8iNGx5GZonXC8gUJTzmaaci/DjKh4Qr1Ud+3D29A1fp1yQtim0FzmAWDFkI3CZeVYvNlYs71Yc3Kx5eVhzc3DlpuLJcuLcp5STOcEj4qBdXk9tmWnACiyreCr2x4m2zFH1dTT2GxrMs+0TrgQQgghhBDi4iCB9DwquvMO7O+/T2OklYgNmjNzsYfjobRFUSjKcWKP+TGH+wlYPBzJvYE+Sz4AFc4e1pcMYKveguJ0ojqdWFxu1Aw3FncGpsPO2289Q6z7DCWl69nxsd9HUWZes3hc8Ogaxlz1AUqGDwWFm1fcyD2Vt6DO4voXm1Tr2Kcyyizrq4UQQgghhFj6JJCeR0W330bR7bdx8qf/yekT73GgpIJGI14MPMsa4RvaEZT207RHlvFO8FbCEYUMj50b76pmxZqc81774N6f0dd9hoysXLbf9plZBdEjdmwsIZLZyrOnXiFihsl15vD59Q9S5l0z62tfjJLXsU91lFnWVwshhBBCCLH0SSC9ANZomzh94j0KLR2csa2n0Ozmj/PegjN91EYv55D/MkwTVpfncuNd1Thd50/i1Vz7Pg0fvolqsbDjri/gcGXMuo3BaJCn657nvY6DAFxeuIlPa/fjtrlmfe2L3XRGmedifbUQQgghhBAivUkgvQCKVmlYLDayYv38t62D5Ne9RCxo8E70dk4OFgOwZccqtl2z5oL1mHs7Wjjw8k8BuPz6+8gtXjXr9jUPtPLYsZ/QFejBptr4RNVHuarkyiVRG3ouTGeUebbrqycaN53cKzc1hBBCCCGESAdLKpDWNO1B4K+BMqAJ+Kau648vaqMAq81O4apK2k8dJ3jkeSIWhddjD9A56MJqU7nxzmrKqwsueJ2A38dbv/wPYrEIZRuuonzTzlm1yzANXm19k182vkTMjF2wNvSlmol6uqPM56sTPh0Tp5M/cu9Grt+yYkbXEkIIIYQQQsydJRNIa5r2APBj4DvAS8DHgN2apg3ruv7MYrbNGOoj399KO9AScVLDffQOqmR47NzxwEbyizwXvEYsGuGtX/4nAb+P/OVlbLnpgVmNGA+EB3n8+FPU9tYBF64NfSlnop7JKHOqOuHTkWo6+aPP1bC5Mp9LJ+WbEEIIIYQQ6WnJBNLAN4GndV3/k8TzPZqm5QJ/CyxaIB1qPc7w8/9E0fAgtUoWPgP8Q6fx5mrc/clNZE5h7axpmhz47ZP0djTjzszh6ru/iMUy8x9dbU8du2ufZDDsJ8Pm5rNrP8HG/HWTHi+ZqOdulHmqUk4nV1XO9gYozpb11kIIIYQQQiymJRFIa5pWBpQDfzlh1zPAJzRNK9V1/dRCt8v/4Sv0//b7YBqE8rYwHMjFbu7HYzvCrvvvmnIQffiN52iuPYDFamfnR38fpztzRu2JGlFeOLmHV1peB6Ayu4zPrX/wgrWhJRN13GxHmacj5XRyw6Aw1wUTtgshhBBCCCEW1lKZJVqdeNQnbG9IPGoL2JZRg+/8AkyDQNU9/LZ9K/7gClR7CZgh9AO/uuD5pmlwcO/T1B38Hapq4ao7HiKncGZrZM8Od/Ptg9/llZbXURWVu8t28dXL/+CCQTRIJurFMDKd3GZVcTks2KwqX/7YRnIypc+FEEIIIYRYbEtiRBoYiQYHJmwfTDxmTfeCisKssyR7Pv7f6esN8PzP2xkeCrG6PI9b7n6E5//9b2k6vp91W69mRXnqKdVGLMbrz++m8cg7WKxWbvnkV1hVtXFG7Xi79QCPHX6KYDREvjuXr2x9mKq8simf7/W6eOTejTz6XA1WVSVqGHz5YxtZtTx7Ru2ZyGq1jH4fMeb2nWV8ZPMyzvYGKMx1UZATL3Mm/TQ5eS9NjfTT1MxVP0kBBCGEEGLpWSqB9MifKRPnvI5sNxawLaOCjhJ+9tw7DA6EWLEmh/sf2oLdbmXLdXdzYO+zvPnCE9z/yN9gd47/I62/u4N3X36GFv1DrHYHux78I5aXrZ329w9Eguz+8Ge81bofgG3LL+eLl32KDLt72te6fssKNlfmjwZ1MjK6MHIyndLXQgghhBBCpJmlEkj7Eo8TR54zJ+yfMtMEny8wq0Y998RhfH0BCpdlsuvedQQCEQKBCGs2XEvd4Xfx9bTzo3/4M5aXb2T12iuwOVzo7/+OtsYawMRmd3LtfY/gyVtz3rakKkvVMnCaHxz78Wht6Acq72HHsm1EAwq+wMxelwrxRFeGOeu+STYy2jOX11yKpJ8uTPpoaqSfpmau+ikvzyOj0kIIIcQSs1QC6ZG10RVATdL2ign7F1R+kQd3hp3rbq/C7hjratViYcddn2f/b39Kz5lTtOgHadEPJu23smbdNtZeeTOe7Pzzfo+JZakeurWKQHb9lGtDCyGEEEIIIYSYniURSOu63qBp2ing48CzSbvuB+p1XW9ZjHbd+fH4muZUoxlZecXc/Kk/we/riQfStQcJBYco2/ARKi+7FmfGhZd1n1OWyhriicYnUL3dwIVrQwshhBBCCCGEmL4lEUgnfAN4TNO0PuBF4B7gE8CnFrVVF+Dx5rFu262s23brtM9NLkuleruwl9Wg2MI4LS4+t/6T560NLdJHqqn5QgghhBBCiPS1ZAJpXdd/qGmaA/gz4EvASeAhXdefWtyWzZ8Cr5OoGcO68gS2kiYAjMFc/p9rvsiq3ILFbZyYkolT8x/epbFjY8liN0sIIYQQQghxHksmkAbQdf1R4NHFbsdCCamDFF75Ab3RTjAVYu2VfGbT7RJEp5nJRpzPmZoP7N6js740V0amhRBCCCGESGNLKpC+lOzvOMST+i8IxcJk27PZVfxRNm+vkAAszZxvxDl5av4Iq0Whyxe8qH+OMlVdCCGEEEIsdRJIX2SC0SBP1z3Pex3xLN+XF27i09r9uG2uC5wpFtqFRpwLvE6ixvjS59GYSYH34q0bLVPVhRBCCCHEpUBd7AaIqWseaOXvD3yH9zoOYlNtfLr6fr64/vckiE5TIyPOyUZGnAG8HgcP79KwWVVcDgs2q8rDu7SLdhQ3+cZBIBwjEjXYvUfH5w8tdtOEEEIIIYSYUzIifREwTINXW9+U2tAXmamMOO/YWML60twlMRV6qU5VF0IIIYQQYiIJpNPcQHiQx48/RW1vHQDXrbiae8vvkNrQF4GREefde3SsFoVozEw54uz1OJZEoLkUp6oLcSnSNE0F/gD4ClAGdALPA1/XdX0wccwrwE0pTr9S1/X3E8dUAv8fcA0QBX4GfG3kGkIIIcTFTALpNOXzhzhw5hgvd7zAUHSIDJubz679hNSGvsgspRHnC5nqjQMhRNr7GvB3wD8Ae4Eq4G+BdcBtiWM2A98Bnpxwbi2Apmk5wKtAO/AQUAR8C1gJ3DW/zRdCCCHmnwTSaejNI6f5ybEXUItOAVBkW8lXtz1EtsO7yC0TM7FURpyn4lK6cSDEUqRpmkI8kH5U1/W/TGx+RdO0HuBJTdMuA84C+cBLuq6/O8ml/gjIAS7Tdb0nce3TwK81Tduu6/p78/pChBBCiHkmgXSaOdl9hp8270Yt8mGaCtHTFbR1VaBc7gSJSeaVlG2aG5fSjQMhlqBM4AngqQnbTyQey4Flia+PnOc6twKvjwTRCS8Dg8AdgATSQgghLmoSSKeR/R2H+EntL1AywhghJ5HGzRj+HFwOVRI2zTMp2ySEEKDr+gDw1RS7PpZ4PAbcC4SAb2ia9jHAQ3wa93/Vdb0ucVw18YA8+doxTdNOAdpM26co4PUu/UoVVqsFuDRe63ySfpwb0o9zQ/pxbsxVPyrKhY+5ECl/lQaC0SC7jz/J7uNPEjHDGH3FhI5ejeHPASRh03yTsk1CCDE5TdO2A38BPKfr+gni66MdQAC4D/giUAG8qWlaceI0LzCQ4nKDQNa8N1oIIYSYZzIivciaB1p57NhP6Ar0YFNtfKLqo5jdK3j8VB1WhyRsWghStkkIIVLTNO1q4EXgFPClxOa/I76G+ndJx71DPNHYfwH+ClCA8Wn84xTAmGl7TBN8vsBMT79ojIy0XAqvdT5JP84N6ce5If04N+aqH/PyPLMelZZAepGctzb0MthQlifrdReIlG0SQohzaZr2SeCHQB1w28h6Z13Xj048Vtf1k5qm1RIfrQbwkXrkORNomo/2CiGEEAtJAulFMBAe5EfHn+Z4rw6krg0tCZsWjpRtEkKI8TRN+1PgH4HXgHt1XfcltivAZ4AmXdffnHCaC+hOfK0Tn+6dfE0LUAo8M38tF0IIIRaGBNILrLanjt21TzIY9pNhc/OZ6gfYVLB+sZt1yZOyTUIIEadp2heBbxPP3P2QruvhkX26rpuapv05ENY0bZuu60binC3EA+dvJg59GfgzTdNydV3vTWy7lXhislcW6KUIIYQQ80YC6QUSNaK8cHIPr7S8DkBVdjkPr/+U1IZOIzILQAhxqdM0rRD4F6AZ+Ddgi6aNS7LdAPxP4OfAjzVN+wGwivi66Q+AHyWO+y7x9dJ7NU37BpAHfAv4ja7r++b/lQghhBDzSwLpBXB2uJvHjv2ElsHTqIrKnaW3cOvqG1AVSZouhBAirdwGuIHVwMSp2wCf1XX9iUTZq78CngWGE49/qet6DEDX9W5N024A/hn4MfFs3U8Dfz7/L0EIIYSYfxJIz7O3Wg7w2OEnCcXC5Dpz+Pz6T1PmXb3YzRJCCCHOoev648DjUzjueeD5CxxzFLh5jpomhBBCpBUJpOfRE0d+wUuN8eogWwo38aB2P26bFGEXQgghhBBCiIuZBNLz6EjncRwWOx+vvIerSq5EmW2xMiGEEEIIIYQQi04C6Xn09ev+FIBoQAJoIYQQQgghhFgqJNvVPMqwu8mwuxe7GUIIIYQQQggh5pAE0kIIIYQQQgghxDRIIC2EEEIIIYQQQkyDBNJCCCGEEEIIIcQ0SCAthBBCCCGEEEJMgwTSQgghhBBCCCHENEggLYQQQgghhBBCTIME0kIIIYQQQgghxDRIIC2EEEIIIYQQQkyDBNJCCCGEEEIIIcQ0SCAthBBCCCGEEEJMgwTSQgghhBBCCCHENEggLdKOzx+ioc2Hzx9a7KYIIYQQQgghxDmsi90AIZLtq2ln9x4dq6oQNUwe3qWxY2PJYjdLCCGEEEIIIUbJiLRIGz5/iN17dCJRg0A4RiRqsHuPLiPTQgghhBBCiLQigbRIG12+IFZVGbfNalHo8gUXqUVCCCGEEEIIcS4JpEXaKPA6iRrmuG3RmEmB17lILRJCCCGEEEKIc0kgLdKG1+Pg4V0aNquKy2HBZlV5eJeG1+NY7KYJIYQQQgghxChJNibSyo6NJawvzaXLF6TA65QgWgghhBBCCJF2JJAWacfrcUgALYQQQgghhEhbMrVbCCGEEEIIIYSYBgmk04TPH6KhzSelnoQQQgghhBAizcnU7jSwr6ad3Xt0rKpC1DB5eJfGjo0li90sIYQQQgghhBApyIj0IvP5Q+zeoxOJGgTCMSJRg917dBmZFkIIIYQQQog0JYH0IuvyBbGqyrhtVotCly+4SC0SQgghhBBCCHE+EkgvsgKvk6hhjtsWjZkUeJ2L1CIhhBBCCCGEEOcjgfQi83ocPLxLw2ZVcTks2KwqD+/SpPyTEEIIIYQQQqQpSTaWBnZsLGF9aS5dviAFXqcE0UIIIYQQQgiRxiSQThNej0MCaCGEEEIIIYS4CMjUbiGEEEIIIYQQYhokkBZCCCGEEEIIIaZBAmkhhBBCCCGEEGIa0n6NtKZpnwF+lGLX/9F1/Y8Tx1iBrwOfA/KAg8B/03V9/0K1UwghhBBCCCHEpSHtA2lgM9AAfHbC9o6kr79DPIj+70Az8KfAK5qmXabr+smFaKQQQgghhBBCiEvDxRJIH9R1/d1UOzVNWwN8GfhjXde/l9j2MlAH/DnwhwvUTiGEEEIIIYQQl4CLYY30ZuDIefbfCFiAn49s0HU9BLwI3DG/TRNCCCGEEEIIcalJ60Ba07QSoBC4XNO0E5qmRTRN0zVNS57mXQ306breNeH0BmCVpmmuhWqvEEIIIYQQQoilb9GmdicShH3qPId0Eh9pBigDvgYEgYeAxzVNs+q6/hjgBQZSnD+YeMwEAtNtn6KA1zu7GNxqjTd/ttdZ6qSfpkb66cKkj6ZG+mlq5qqfFGUuWiOEEEKIdLKYa6SdpM7GPeJ14OPA3cDruq6PBMYva5pWBPwt8BigAGaK80f+dDHmprlCCCGEmC5N0x4E/pr4TfEm4Ju6rj++qI0SQgghZmnRAmld1/2MBbvn82KKbb8CbtY0LR/wAVkpjslMPKYarb4g0wSfb9oD2eOMjGLM9jpLnfTT1Eg/XZj00dRIP03NXPVTXp7nkh2V1jTtAeDHxKtrvAR8DNitadqwruvPLGrjhBBCiFlI66zdmqZdBazTdf37E3a5gCjxIFoHcjVNy9F1vS/pmArglK7r4YVprRBCCCEm+CbwtK7rf5J4vkfTtFzis8okkBZCCHHRSutkY8BVwH9qmrZpZIOmaSrxKd9v67oeAX6b2PXxpGMcwJ3AKwvYViGEEEIkaJpWBpSTVFUj4RmgWtO00oVvlRBCCDE30npEmvga6K8Cz2qa9tfEE4h9BdgAXAug63qzpmm7gX/RNM0D1AN/CuQA35rh981SlPh0vNkYmco32+ssddJPUyP9dGHSR1Mj/TQ1c9VPieukWoK01FUnHvUJ2xsSjxpwahrXy1IUyM+/dN63l9JrnU/Sj3ND+nFuSD/OjTnqx1l9Nqd1IK3rep+madcBfw/8E/EX+z5wk67r7yUd+mWgD/gLwAMcBG7Rdb2BmTEURVEVZWbrqye6VNfGTZf009RIP12Y9NHUSD9NzRz0UxaXZuJLb+Jx4mfpSPLQ6f4BYyiKoqa4nhBCCDFds/5sTutAGuIjzsCDFzgmBP9/e/cebFdZHmD8OYaLKCBysdUpIEnaF5AA0jJgwIBUMTo25VYJFTAKKkiNJUjrBbQTwXL1SpQOCOFWBFFAkRGJlEsBpVEcKcIr4VLFSRFSLqIEQjz941t72Nlz0LPP2WevtXOe38yetc+3vp31Zk+y3vNdF8dWr15o/PciSVLDtbogOp+sMdanapibJUmN0fQ10pIkaTA9WR07R5436jgvSdLAsSEtSZImQmtt9PSO8ukd5yVJGjg2pCVJUs9V+5Q8SNtTNSoHAvdl5i/6H5UkSb3heiNJkjRRFgLnR8TjwDXAHOCdwNxao5IkaZyGhoc79wCRJEnqjYj4APARYEvgAeBfM/OieqOSJGl8bEhLkiRJktQF10hLkiRJktQFG9KSJEmSJHXBhrQkSZIkSV2wIS1JkiRJUhdsSEuSJEmS1AUb0pIkSZIkdWGdugNYW0XEIcAJwFTgIcpzMy+sNaiGiYiXAO8HPkj5nh4BrgY+lZm/qTO2poqIbwI7Zub0umNpmoiYBXwG2AV4AvgG8LHMfLrWwBomIo4CPgxsBdwPnJqZl9QbVXNExM7AfwHbZObDbeX7AicDr6Pcq87KzDPriVJrK/PixDB3jp25tTfMvePT1NzsiPQEiIi/Ay4BvgfsB9wIXBARB9UZVwP9E3AW8B3K93Qm8G7g63UG1VQRcSiwf91xNFFE7A5cD/wvMAdYCBwKnFtnXE0TEe8HvkL5P/e3wBLg4uqeNelFRADX0NHJHBEzq/J7gQMo9/fTI+IjfQ9SazvzYo+ZO8fO3Nob5t7xaXJuHhoeHu7XtSaNiFgGLM3MuW1ll1F6Q7erL7LmiIghYAVwaWYe01Z+MPA14PWZ+ZO64muaiHgN8N/Ab4Fn7VVfU0TcVL3dOzOHq7JjgAXAjMz8XW3BNUhE3AaszMx92spuBlZn5pvqi6xeEbEOZRTwFGAVsCmwZavXOyKWABtm5u5tnzm1+syfZuaz/Y9aaxvzYu+ZO8fH3Nob5t6xGYTc7Ih0j0XEVGAaZepLuyuAbSNim/5H1UgbARcD/95Rfm91nNbfcBrvXMoMh+/XHUjTRMTmwBuBr7QSPUBmLsrMaSb6NbwU6JweugLYrIZYmmRP4DTK6N8/t5+IiJcCsxj5nr4JMLMfAWpSMC/2nrlzjMytPWXuHZvG52bXSPfettUxO8qXVccAHuxfOM2UmU8B80c4tV91vLuP4TRaRBwJ/CVl/ccZNYfTRDOAIeD/qpkf7wCep/wyuiAzn6kzuIb5AnBONZ3sOmBfyvf18Vqjqt89wNTM/HVEzOs4NxVYlz98T/+PiQ1Pk4F5sbfMneNmbu0dc+/YND4325DuvVdUx6c6yls9URv3MZaBEhG7AR8FrsrMe/9Y/ckgIrYGPgu8JzMfK8tE1GGL6rgYuBL4G2An4CRgA2BeLVE106XAPsDlbWUXZObpNcXTCJn5yB847T1dtTEvjo25syfMrb1j7h2DQcjNNqR7b6g6di4+b5X/vo+xDIyI2IOyYcCDwJE1h9MI1Xq584BrM7Nz6opesF51vK1tXeEN1fd3RkQszMwHaoqtab5Fme60APgxsBvwyYO2GrMAAAftSURBVIh4KjNHGgnTi9/TW7yna0KYF8fG3Nkz5tbeMff2XiNysw3p3nuyOnb2hGzUcV6VaiOVxcDPgdmZuaLeiBrjGGBHYEa14QJUN47q59Xt65YmsVbv47Ud5ddR1tXMACZ9sq92t3wrZYRmcVV8U0Q8AfxbRJyTmXfVFmBzvdg9feOO81LPmBfHxdzZG+bWHjD3TphG5GY3G+u91lz9zp0hp3ecFxARCyhTXm4HZmXm8ppDapKDgM2B5ZTdClcBh1M2nFlFeSSK4L7quH5Heas33V+Yiq2r460d5TdXx+37GMsguR9Yjfd09Yl5cdzMnb1hbu0Nc+/EaERutiHdY5m5jDINq/OZ0QcC92XmL/ofVTNFxBGUXs3LKT3ujuys6QPArh2va4CHq/ffri+0RrkH+B9gbkd5a2OU2/seUTO1ksqsjvI3VMeH+hfK4MjMlZRfeA6opjS2HEjp8V5aS2BaK5kXe8Lc2Rvm1t4w906ApuRmnyM9Aaqd5c4HFlFu3nOAo4G5mXlZjaE1RkS8itLh8ChwKOWm3G5ZZj7W98AaLiIWA3v6LMw1VdMgL6XsJrqYslPrQuCszDyuxtAaJSKuBN4MfBK4E/ir6v1/Zubb64ytKdru3+3PqtwHWAJ8nfLvaybwCeCjmXlaPZFqbWNenDjmzrExt/aGuXf8mpqbHZGeANUaiKMoayKuAvYGDrcRvYbZwMsoU15uofRstr9m1xeaBk31f+sAyhSpayhr5BYCx9cZVwPNBb4EHAt8l7KB0RnA/nUG1XSZeQOll3s7yj39XcDxNqLVY+ZFNYq5tWfMvROgCbnZEWlJkiRJkrrgiLQkSZIkSV2wIS1JkiRJUhdsSEuSJEmS1AUb0pIkSZIkdcGGtCRJkiRJXbAhLUmSJElSF9apOwBJgyEitgB+BkwBtsvMR0aocxnlmX57ZOYP+xyiJEmNExGLgXd3FD8H/Bq4ETglM+/uc1iSxskRaUmjkpmPAvOBVwKLOs9HxGHAOym/ENiIliRpTccCh1Wv+cDXgLcDSyNi7xrjkjQGQ8PDw3XHIGmARMTVwBzgwMz8ZlW2NfBT4H5gt8xcVWOIkiQ1RtuI9DaZ+VDHuS2BpcAQMDUzn+57gJLGxBFpSd06CngCWBQRm0TEEHAhsD5wmI1oSZJGJzN/CRwHbAG8t+ZwJHXBNdKSupKZyyPiOOCrwKnAT4BZwPGu8ZIkqWtXAOcCs4EvAkTEG4CFwO5VnduBEzLzjvYPRsTbgH8BdgAeAT4L7Ay8OTNfW9W5EVhJGfn+R+B3wF9n5l0RsT1wMvAmYD3gTmBhZl7XcZ1R1ZMmE0ekJXUtM88DvgccCZwG3EJJ3pIkqQuZuZKyNGongIh4C3AT8ArgROAkYCvg5oh4Y+tzEfEO4NuUhu3HKQ3yM4D9R7jMnsAhwPHAYuBnETGD0kDfHvgM8AlgXeDaiDi47TqjqidNNo5ISxqro4FlwIbA/Mz8fc3xSJI0qB4HpkXES4CzgTuAvTJzNUBEnEWZAfZF4PXVZz4PPADMzMxnqnq3AlcBv+n4818OHJGZN7YKIuJLwKPALpn527ayG4AvRMSVmfkcMNp60qTiiLSksTqEsjkKwD/UGYgkSQNuXWCY0kieSmkMvzIiNo+IzYENKKPPO0fEn0XEjsA04OxWIxogM68G7hnhz38GuLn1Q0RsBuwFXAts0HadTYArgT8Bdh1tvR5+D9LAcERaUtciYifgU8D1lCllR0TEZZl5fb2RSZI0kDajjPpOq34+vXqNZEvgNdX7+0Y4n7wwat2yomPmWOs6H6peI9kKWDXKere+yDlprWVDWlJXImI94CJKcv0gpRf9TuCciNjBR3dIkjR6EbExZRT6O8CUqvhE4Acv8pF7ga2r98+OcH7lCGWrO35uXWcRZfR7JHcDrx1lPWnSsSEtqVsLgRnAsZm5DCAiTgI+TdnF+5gaY5MkadAcRFkqdTXwUFX2dGYuaa8UEbsCm1KmaT9QFf8FZfPPdn8+imu2rvP8CNfZHtiGsrv3aOtJk45rpCWNWkTMpOz4eSvVIzoqpwI/BY6OiL3qiE2SpEETEa+mdFD/CriE8oiq5cD8iNiwrd7GwOXA+cDzVb1fUpZWrd9Wb3dglz923cxcXv0Z8yKiNU2ciFgXOI+yA/g6o603pr+8NOD8hy9pVCLiZcAFwHPAe9vXWmXmqog4gjIN7asRsWNm2kMtSdIL9ouIx6r3GwDbAodX79/WtvP2hyiN5h9HxLmUqdrvo0znfldmPl/VW1DVuy0iLgS2AD5Mme49PIp45lN23v5RRHwZWEHZSHQ34GOZuaLLetKk4oi0pNE6HZgOnJiZP+88mZlLgc9RNjA5uc+xSZLUdJ+j7DFyEXAmMBv4FuWxUre0KmXmN4B9gYcpa6U/DTwFzMnMS9vqXQEcTBkYOw34e2ABZQR5pLXTa8jM24E9qvrHUfL8y4F5mXlKt/WkyWZoeHg0HVaSJEmSmiAipgCbZuajI5y7C3g8M2f1PzJp8nBEWpIkSRosU4BfRcTZ7YURsQPwOuCOWqKSJhFHpCVJkqQBExEXA3OBc4AfAa+mPJZyCrBTtVGYpAniZmOSJEnS4HkfkMChwDzgSWAJcIKNaGniOSItSZIkSVIXXCMtSZIkSVIXbEhLkiRJktQFG9KSJEmSJHXBhrQkSZIkSV2wIS1JkiRJUhf+H8Ix4EpFMhe0AAAAAElFTkSuQmCC\n",
          "text/plain": "<Figure size 1152x576 with 2 Axes>"
         },
         "metadata": {
          "needs_background": "light"
         },
         "output_type": "display_data"
        }
       ]
      }
     },
     "9f3d7ef837ca443dafd47992007beb4f": {
      "model_module": "@jupyter-widgets/base",
      "model_module_version": "1.1.0",
      "model_name": "LayoutModel",
      "state": {}
     },
     "a4dfd634922243b6915a0cb98ffeb86c": {
      "model_module": "@jupyter-widgets/base",
      "model_module_version": "1.1.0",
      "model_name": "LayoutModel",
      "state": {}
     },
     "d11b0eb98971411d8ef2b4c671ee8fe0": {
      "model_module": "@jupyter-widgets/base",
      "model_module_version": "1.1.0",
      "model_name": "LayoutModel",
      "state": {}
     },
     "f5926b0ce39d4a9c88027567e7572253": {
      "model_module": "@jupyter-widgets/base",
      "model_module_version": "1.1.0",
      "model_name": "LayoutModel",
      "state": {}
     }
    },
    "version_major": 2,
    "version_minor": 0
   }
  }
 },
 "nbformat": 4,
 "nbformat_minor": 2
}
