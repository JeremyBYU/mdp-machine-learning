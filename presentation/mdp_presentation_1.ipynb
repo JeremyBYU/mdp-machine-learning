{
 "cells": [
  {
   "cell_type": "code",
   "execution_count": 1,
   "metadata": {
    "slideshow": {
     "slide_type": "skip"
    }
   },
   "outputs": [],
   "source": [
    "import numpy as np\n",
    "import pandas as pd\n",
    "import seaborn as sns\n",
    "import math\n",
    "from matplotlib import pyplot as plt\n",
    "from sklearn.model_selection import train_test_split\n",
    "from sklearn.metrics import mean_squared_error\n",
    "\n",
    "from ipywidgets import interact, interactive, fixed, interact_manual\n",
    "import ipywidgets as widgets\n",
    "SEED = 1\n",
    "%matplotlib inline\n",
    "sns.set()"
   ]
  },
  {
   "cell_type": "markdown",
   "metadata": {
    "slideshow": {
     "slide_type": "skip"
    },
    "toc": true
   },
   "source": [
    "<h1>Table of Contents<span class=\"tocSkip\"></span></h1>\n",
    "<div class=\"toc\"><ul class=\"toc-item\"><li><span><a href=\"#What-is-Machine-Learning\" data-toc-modified-id=\"What-is-Machine-Learning-1\"><span class=\"toc-item-num\">1&nbsp;&nbsp;</span>What is Machine Learning</a></span><ul class=\"toc-item\"><li><span><a href=\"#Basic-Terms\" data-toc-modified-id=\"Basic-Terms-1.1\"><span class=\"toc-item-num\">1.1&nbsp;&nbsp;</span>Basic Terms</a></span></li><li><span><a href=\"#Assessing-Performance\" data-toc-modified-id=\"Assessing-Performance-1.2\"><span class=\"toc-item-num\">1.2&nbsp;&nbsp;</span>Assessing Performance</a></span></li></ul></li><li><span><a href=\"#Simple-Regression-Model\" data-toc-modified-id=\"Simple-Regression-Model-2\"><span class=\"toc-item-num\">2&nbsp;&nbsp;</span>Simple Regression Model</a></span><ul class=\"toc-item\"><li><span><a href=\"#Bias-vs-Variance\" data-toc-modified-id=\"Bias-vs-Variance-2.1\"><span class=\"toc-item-num\">2.1&nbsp;&nbsp;</span>Bias vs Variance</a></span></li></ul></li><li><span><a href=\"#Break\" data-toc-modified-id=\"Break-3\"><span class=\"toc-item-num\">3&nbsp;&nbsp;</span>Break</a></span></li><li><span><a href=\"#Natural-Language-Processing\" data-toc-modified-id=\"Natural-Language-Processing-4\"><span class=\"toc-item-num\">4&nbsp;&nbsp;</span>Natural Language Processing</a></span></li></ul></div>"
   ]
  },
  {
   "cell_type": "markdown",
   "metadata": {
    "slideshow": {
     "slide_type": "-"
    }
   },
   "source": [
    "# Multidisciplinary Design Program\n",
    "\n",
    "# Fundamentals of Machine Learning \n",
    "\n",
    "<br>\n",
    "<br>\n",
    "<br>\n",
    "\n",
    "Jeremy Castagno\n",
    "\n",
    "01/30/2019"
   ]
  },
  {
   "cell_type": "markdown",
   "metadata": {
    "slideshow": {
     "slide_type": "slide"
    }
   },
   "source": [
    "## What is Machine Learning\n",
    "\n",
    "* Statistical Learning, Pattern Recognition, Big Data, Data Mining, Expert Systems, Artificial Intelligence (AI), Deep Learning\n",
    "* Definition- Algorithms and Statistical Models to perform a specific task\n",
    "* Broadly speaking there are three categories of ML- **supervised** learning, **unsupervised** learning, and **reinforcement** learning\n",
    "* In this class we will focus only on **supervised** and **unsupervised** learning\n",
    "* In almost all cases there is an <font color='blue'>input</font> (x) and an <font color='green'>output</font> (y) for our system\n",
    "* There is a true $f(x)$ which we seek to approximate with an $\\hat{f}(x)$"
   ]
  },
  {
   "cell_type": "markdown",
   "metadata": {
    "slideshow": {
     "slide_type": "subslide"
    }
   },
   "source": [
    "**MDP Projects**\n",
    "\n",
    "* Analyzes $\\color{blue}{\\text{audio inputs}}$, with a goal of determining factors such as $\\color{green}{\\text{occupants, locations, and state of vehicle}}$\n",
    "* Process the $\\ldots \\color{blue}{\\text{road itself}} \\ldots$ to identify $\\color{green}{\\text{free paths or drivable surfaces}}$\n",
    "* Recognize $\\ldots \\color{blue}{\\text{email}} \\ldots$ and <font color='green'>direct email to appropriate response functions [classification]</font> as well as $\\color{green}{\\text{suggesting a generated response}}$ "
   ]
  },
  {
   "cell_type": "markdown",
   "metadata": {
    "slideshow": {
     "slide_type": "slide"
    }
   },
   "source": [
    "### Basic Terms\n",
    "\n",
    "* Regression vs Classification\n",
    "  * Regression - Output takes continuous valued variables\n",
    "  * Classification - Output determines group membership (class)\n",
    "  * Sometimes the output is **both** - Semantic bounding boxes\n",
    "* Features, predictors, independent variables - text email, audio stream, video stream\n",
    "* Classes, labels, ground truth\n",
    "* Deep learning and neural networks\n",
    "  * A cascade of multiple layers processing units\n",
    "  * Each layer(s) may learn different abstractions of the task"
   ]
  },
  {
   "cell_type": "markdown",
   "metadata": {
    "cell_style": "center",
    "slideshow": {
     "slide_type": "slide"
    }
   },
   "source": [
    "**Supervised Learning**\n",
    "\n",
    "Learning a function that maps an *input* ($X$) to and *output* ($Y$)\n",
    "\n",
    "$$\n",
    "Y=f(X)+ \\underbrace{\\epsilon}_{error}\n",
    "$$"
   ]
  },
  {
   "cell_type": "markdown",
   "metadata": {
    "cell_style": "split",
    "slideshow": {
     "slide_type": "-"
    }
   },
   "source": [
    "\n",
    "\n",
    "$ \\mathbf{X}=\\overbrace{ \\left( \\begin{array}{cccc}{x_{11}} & {x_{12}} & {\\dots} & {x_{1 p}} \\\\ {x_{21}} & {x_{22}} & {\\dots} & {x_{2 p}} \\\\ {\\vdots} & {\\vdots} & {\\ddots} & {\\vdots} \\\\ {x_{n 1}} & {x_{n 2}} & {\\dots} & {x_{n p}}\\end{array}\\right)}^{Features}$"
   ]
  },
  {
   "cell_type": "markdown",
   "metadata": {
    "cell_style": "split",
    "slideshow": {
     "slide_type": "-"
    }
   },
   "source": [
    "$ \\mathbf{Y}=\\overbrace{\\left( \\begin{array}{c}{y_{1}} \\\\ {y_{2}} \\\\ {\\vdots} \\\\ {y_{n}}\\end{array}\\right)}^{labels} $"
   ]
  },
  {
   "cell_type": "markdown",
   "metadata": {
    "cell_style": "center",
    "slideshow": {
     "slide_type": "slide"
    }
   },
   "source": [
    "* Main Questions:\n",
    "    * Which predictors are associated with the response?\n",
    "        * Should we preprocess our raw data into features? Text $\\implies$ Vector\n",
    "    * What is the relationship between the response and each predictor?\n",
    "    * What model can be used to estimate f?\n",
    "        * Parametric Functions vs Non Parametric Functions"
   ]
  },
  {
   "cell_type": "markdown",
   "metadata": {
    "slideshow": {
     "slide_type": "slide"
    }
   },
   "source": [
    "* Share an example?\n",
    "* How do we determine relationships?\n",
    "  * Cross Covariance, Plotting\n",
    "![](assets/covariance.png)\n"
   ]
  },
  {
   "cell_type": "markdown",
   "metadata": {
    "slideshow": {
     "slide_type": "subslide"
    }
   },
   "source": [
    "### Assessing Performance\n",
    "\n",
    "* Training Set and Test Set - Split 60/40\n",
    "    * Your model should never be trained with the test set\n",
    "* Regression \n",
    "  * Mean Squared Error (MSE) = $ MSE=\\frac{1}{n} \\sum_{i=1}^{n}\\left(y_{i}-\\hat{f}\\left(x_{i}\\right)\\right)^{2} $\n",
    "* Classification\n",
    "  * Training use Logarithmic Loss - $ \\frac{-1}{N} \\sum_{i=1}^{N} \\sum_{j=1}^{M} y_{i j} * \\log \\left(p_{i j}\\right) $\n",
    "  * Final Assessment\n",
    "      * Classification Accuracy = $\\frac{\\text{# of correct pred.}}{\\text{Total # of pred.}}$ \n",
    "      * Confusion Matrix - True Positive, True Negative, False Positives, False Negatives\n"
   ]
  },
  {
   "cell_type": "markdown",
   "metadata": {
    "cell_style": "split",
    "slideshow": {
     "slide_type": "subslide"
    }
   },
   "source": [
    "# ![](assets/Precisionrecall.png) "
   ]
  },
  {
   "cell_type": "markdown",
   "metadata": {
    "cell_style": "split",
    "slideshow": {
     "slide_type": "-"
    }
   },
   "source": [
    "# ![](assets/Precisionrecall2.png) "
   ]
  },
  {
   "cell_type": "markdown",
   "metadata": {
    "slideshow": {
     "slide_type": "subslide"
    }
   },
   "source": [
    "* Many others for specific tasks\n",
    "  * Image Bounding Boxes - Intersection of Union (IOU)\n",
    "  * TODO"
   ]
  },
  {
   "cell_type": "markdown",
   "metadata": {
    "slideshow": {
     "slide_type": "subslide"
    }
   },
   "source": [
    "* k-Fold cross validation - Train model on subsets of your training data\n",
    "    * Randomly divide data set into *k* folds of equal size.\n",
    "    * The first fold is treated as a validation set, the remaining *k* - 1 data is trained on\n",
    "    * repeat *k* times\n",
    "    * This results in *k* estimates of validation error\n",
    "    * $ \\mathrm{CV}_{(k)}=\\frac{1}{k} \\sum_{i=1}^{k} \\mathrm{MSE}_{i} $\n",
    "\n",
    "\n",
    "  \n"
   ]
  },
  {
   "cell_type": "markdown",
   "metadata": {
    "slideshow": {
     "slide_type": "slide"
    }
   },
   "source": [
    "## Simple Regression Model\n",
    "\n",
    "Goals\n",
    "\n",
    "* Understand bias/variance tradeoff\n",
    "* How to prevent overfitting\n",
    "  * More Data\n",
    " \n"
   ]
  },
  {
   "cell_type": "markdown",
   "metadata": {
    "slideshow": {
     "slide_type": "subslide"
    }
   },
   "source": [
    "![](assets/regression_plot.png)\n",
    "\n",
    "Question: How would you fit this model?"
   ]
  },
  {
   "cell_type": "markdown",
   "metadata": {
    "slideshow": {
     "slide_type": "slide"
    }
   },
   "source": [
    "### Bias vs Variance\n",
    "\n",
    "$\n",
    "Y=f(X)+ \\underbrace{\\epsilon}_{error}\n",
    "$\n",
    "\n",
    "$\\operatorname{Err}(x)=E\\left[(Y-\\hat{f}(x))^{2}\\right] $\n",
    "\n",
    "$ \\operatorname{Err}(x) = \\underbrace{\\big(E[\\hat{f}(x)]-f(x)\\big)^{2}}_{\\text{Bias}^2}+ \\underbrace{E\\left[(\\hat{f}(x)-E[\\hat{f}(x)])^{2}\\right]}_{\\text{Variance}}+ \\underbrace{\\operatorname{Var}(\\epsilon)}_{\\text{Irreducible Error}} $"
   ]
  },
  {
   "cell_type": "markdown",
   "metadata": {
    "slideshow": {
     "slide_type": "subslide"
    }
   },
   "source": [
    "* Bias indicates a fundamental mismatch between the actual function, $f(x)$, and the estimated function $\\hat{f}(x)$\n",
    "   * Linear model trying to estimate a quadratic function\n",
    "* Variance refers to the amount by which $\\hat{f}$ would change if we estimated it using a different training data set\n",
    "  * Each $\\hat{f}$ would be the same fundamental model, but have different parameters associated with it.\n",
    "  * In a perfect world these different estimates of $\\hat{f}$ would vary very little. \n",
    "  * If a model has high variance, small changes in the training data will make big changes in $\\hat{f}$\n",
    "* $\\operatorname{Var}(\\epsilon)$ is noise in the data and can never be reduced\n",
    "\n",
    "* More flexible the model then variance will increase and the bias will decrease"
   ]
  },
  {
   "cell_type": "code",
   "execution_count": 46,
   "metadata": {
    "slideshow": {
     "slide_type": "skip"
    }
   },
   "outputs": [],
   "source": [
    "NUM_SAMPLES = 100; START = 0; STOP = 10\n",
    "# noise = np.random.RandomState(seed=SEED)\n",
    "\n",
    "def f(a=1, b=2, c=2, sin_m=20):\n",
    "    poly = np.poly1d([c, b, a])\n",
    "    def final(x):\n",
    "        return poly(x) + sin_m * np.sin(x)\n",
    "    return final\n",
    "\n",
    "def evaluate_deg(x_train, y_train, x_test, y_test, deg=1):\n",
    "    params = np.polyfit(x_train, y_train, deg=deg)\n",
    "    poly = np.poly1d(params)\n",
    "    y_train_pred = poly(x_train)\n",
    "    y_test_pred = poly(x_test)\n",
    "    mse_train = mean_squared_error(y_train, y_train_pred)\n",
    "    mse_test = mean_squared_error(y_test, y_test_pred)\n",
    "    return [deg, mse_train, mse_test, poly]\n",
    "\n",
    "def plot_tradeoff(X, Y_noise, f_true, results, sigma):\n",
    "    fig, ax = plt.subplots(figsize=(16, 8),nrows=1, ncols=2)\n",
    "    ax[0].plot(X, Y_noise, '.', label='data')\n",
    "    ax[0].plot(X, f_true(X), '-', label=r'$f(x) = 2x^2 + 2x + 1 + 20sin(x)$')\n",
    "    \n",
    "    degrees = [result[0] for result in results]\n",
    "    mse_train_line = [result[1] for result in results]\n",
    "    mse_test_line = [result[2] for result in results]\n",
    "    ax[1].plot(degrees, mse_train_line, c='red', label='Train')\n",
    "    ax[1].plot(degrees, mse_test_line, c='gray', label='Test')\n",
    "    \n",
    "    ax[1].axhline(sigma**2, linestyle='--', label=r'$\\sigma^2$')\n",
    "    for result in results:\n",
    "        ax[0].plot(X, result[3](X), label=\"Deg {}\".format(result[0]))\n",
    "    ax[0].legend()\n",
    "    ax[1].legend()\n",
    "\n",
    "    ax[0].set_xlabel(\"X\")\n",
    "    ax[0].set_ylabel(\"Y\")\n",
    "    ax[1].set_xlabel(\"Degree\")\n",
    "    ax[1].set_ylabel(\"MSE\")\n",
    "    ax[1].set_ylim(0, 2000)\n",
    "\n",
    "    \n",
    "\n",
    "def set_up(mu=0, sigma=20, num_samples=NUM_SAMPLES):\n",
    "    # Data\n",
    "    noise = np.random.RandomState(seed=sigma)\n",
    "    f_true = f()\n",
    "    X = np.linspace(START, STOP, num_samples)\n",
    "    Y = f_true(X)\n",
    "\n",
    "    Y_noise = Y + noise.normal(mu, sigma, num_samples)\n",
    "\n",
    "    x_train, x_test, y_train, y_test = train_test_split(X, Y_noise, test_size=0.50, random_state=SEED)\n",
    "    degrees= [1,2, 5, 10]\n",
    "    results = [evaluate_deg(x_train, y_train, x_test, y_test, deg=deg) for deg in degrees]\n",
    "    \n",
    "    return X, Y_noise, f_true, results\n",
    "\n",
    "def plot_interact(mu=0, sigma=20, num_samples=NUM_SAMPLES):\n",
    "    X, Y_noise, f_true, results = set_up(mu, sigma, num_samples)\n",
    "    plot_tradeoff(X, Y_noise, f_true, results, sigma)\n",
    "\n"
   ]
  },
  {
   "cell_type": "code",
   "execution_count": 51,
   "metadata": {
    "slideshow": {
     "slide_type": "subslide"
    }
   },
   "outputs": [
    {
     "data": {
      "application/vnd.jupyter.widget-view+json": {
       "model_id": "49db988275634f7098bd4a9570e131fa",
       "version_major": 2,
       "version_minor": 0
      },
      "text/plain": [
       "interactive(children=(IntSlider(value=20, description='sigma', max=30, step=5), IntSlider(value=100, descripti…"
      ]
     },
     "metadata": {},
     "output_type": "display_data"
    }
   ],
   "source": [
    "interact(plot_interact,  mu=fixed(0), sigma=widgets.IntSlider(min=0,max=30,step=5,value=20), \n",
    "         num_samples=widgets.IntSlider(min=100,max=500,step=200,value=100));"
   ]
  },
  {
   "cell_type": "markdown",
   "metadata": {
    "cell_style": "split",
    "slideshow": {
     "slide_type": "slide"
    }
   },
   "source": [
    "## Break\n",
    "\n",
    "* Restroom\n",
    "* Discuss Projects"
   ]
  },
  {
   "cell_type": "markdown",
   "metadata": {
    "cell_style": "split",
    "slideshow": {
     "slide_type": "-"
    }
   },
   "source": [
    "![](assets/Oscillating_pendulum.gif)"
   ]
  },
  {
   "cell_type": "markdown",
   "metadata": {
    "slideshow": {
     "slide_type": "slide"
    }
   },
   "source": [
    "## Natural Language Processing"
   ]
  }
 ],
 "metadata": {
  "celltoolbar": "Slideshow",
  "kernelspec": {
   "display_name": "Python 3",
   "language": "python",
   "name": "python3"
  },
  "language_info": {
   "codemirror_mode": {
    "name": "ipython",
    "version": 3
   },
   "file_extension": ".py",
   "mimetype": "text/x-python",
   "name": "python",
   "nbconvert_exporter": "python",
   "pygments_lexer": "ipython3",
   "version": "3.6.8"
  },
  "latex_envs": {
   "LaTeX_envs_menu_present": true,
   "autoclose": false,
   "autocomplete": false,
   "bibliofile": "biblio.bib",
   "cite_by": "apalike",
   "current_citInitial": 1,
   "eqLabelWithNumbers": true,
   "eqNumInitial": 1,
   "hotkeys": {
    "equation": "Ctrl-E",
    "itemize": "Ctrl-I"
   },
   "labels_anchors": false,
   "latex_user_defs": false,
   "report_style_numbering": false,
   "user_envs_cfg": false
  },
  "rise": {
   "footer": "<h3>MDP - Fundamentals of Machine Learning</h3>",
   "header": "<img src=\"assets/block-m-maize.png\" height=\"55\" width=\"72\"></img>",
   "theme": "serif"
  },
  "toc": {
   "base_numbering": 1,
   "nav_menu": {},
   "number_sections": true,
   "sideBar": false,
   "skip_h1_title": true,
   "title_cell": "Table of Contents",
   "title_sidebar": "Contents",
   "toc_cell": true,
   "toc_position": {
    "height": "47.7778px",
    "left": "1551.98px",
    "top": "0px",
    "width": "159.132px"
   },
   "toc_section_display": false,
   "toc_window_display": true
  }
 },
 "nbformat": 4,
 "nbformat_minor": 2
}
